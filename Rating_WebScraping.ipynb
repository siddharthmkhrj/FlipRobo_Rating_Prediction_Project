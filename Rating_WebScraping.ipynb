{
 "cells": [
  {
   "cell_type": "code",
   "execution_count": 1,
   "metadata": {},
   "outputs": [],
   "source": [
    "#importing all the required libraries\n",
    "import selenium\n",
    "from selenium import webdriver\n",
    "from selenium.webdriver.common.by import By\n",
    "from selenium.webdriver.support.ui import WebDriverWait\n",
    "from selenium.webdriver.support import expected_conditions as EC\n",
    "import time\n",
    "import requests\n",
    "from bs4 import BeautifulSoup\n",
    "import os\n",
    "import pandas as pd\n",
    "from selenium.common.exceptions import StaleElementReferenceException, NoSuchElementException,ElementNotInteractableException,InvalidArgumentException,InvalidCookieDomainException"
   ]
  },
  {
   "cell_type": "code",
   "execution_count": 3,
   "metadata": {},
   "outputs": [],
   "source": [
    "#connecting to the webdriver\n",
    "driver = webdriver.Chrome(r\"chromedriver1.exe\")"
   ]
  },
  {
   "cell_type": "code",
   "execution_count": 4,
   "metadata": {},
   "outputs": [],
   "source": [
    "url='https://www.flipkart.com/hp-pavilion-gaming-ryzen-5-quad-core-3550h-8-gb-1-tb-hdd-windows-10-home-4-gb-graphics-nvidia-geforce-gtx-1650-15-ec0101ax-laptop/product-reviews/itma1af6bf593dc8?pid=COMFSFNVDXG74QXR&lid=LSTCOMFSFNVDXG74QXRY8FRH2&marketplace=FLIPKART'"
   ]
  },
  {
   "cell_type": "code",
   "execution_count": 5,
   "metadata": {},
   "outputs": [],
   "source": [
    "#opening the webpage through our driver\n",
    "driver.get(url)"
   ]
  },
  {
   "cell_type": "code",
   "execution_count": 6,
   "metadata": {},
   "outputs": [],
   "source": [
    "#creating empty lists\n",
    "Rating=[]\n",
    "Full_review=[]"
   ]
  },
  {
   "cell_type": "markdown",
   "metadata": {},
   "source": [
    "### scraping ratings and reviews of laptops"
   ]
  },
  {
   "cell_type": "code",
   "execution_count": 7,
   "metadata": {},
   "outputs": [],
   "source": [
    "URL=[]\n",
    "for j in range(0,147):\n",
    "    review_tags=driver.find_elements_by_xpath(\"//nav[@class='yFHi8N']\")\n",
    "    for i in review_tags:\n",
    "        review_tags1=i.find_element_by_tag_name(\"a\")\n",
    "        URL.append(review_tags1.get_attribute('href'))\n",
    "        \n",
    "        button=driver.find_element_by_xpath(\"//*[contains(text(), 'Next')]\")\n",
    "        driver.execute_script(\"arguments[0].click();\", button)\n",
    "        time.sleep(3)"
   ]
  },
  {
   "cell_type": "code",
   "execution_count": 8,
   "metadata": {},
   "outputs": [
    {
     "data": {
      "text/plain": [
       "['https://www.flipkart.com/hp-pavilion-gaming-ryzen-5-quad-core-3550h-8-gb-1-tb-hdd-windows-10-home-4-gb-graphics-nvidia-geforce-gtx-1650-15-ec0101ax-laptop/product-reviews/itma1af6bf593dc8?pid=COMFSFNVDXG74QXR&lid=LSTCOMFSFNVDXG74QXRY8FRH2&marketplace=FLIPKART&page=1',\n",
       " 'https://www.flipkart.com/hp-pavilion-gaming-ryzen-5-quad-core-3550h-8-gb-1-tb-hdd-windows-10-home-4-gb-graphics-nvidia-geforce-gtx-1650-15-ec0101ax-laptop/product-reviews/itma1af6bf593dc8?pid=COMFSFNVDXG74QXR&lid=LSTCOMFSFNVDXG74QXRY8FRH2&marketplace=FLIPKART&page=1',\n",
       " 'https://www.flipkart.com/hp-pavilion-gaming-ryzen-5-quad-core-3550h-8-gb-1-tb-hdd-windows-10-home-4-gb-graphics-nvidia-geforce-gtx-1650-15-ec0101ax-laptop/product-reviews/itma1af6bf593dc8?pid=COMFSFNVDXG74QXR&lid=LSTCOMFSFNVDXG74QXRY8FRH2&marketplace=FLIPKART&page=2',\n",
       " 'https://www.flipkart.com/hp-pavilion-gaming-ryzen-5-quad-core-3550h-8-gb-1-tb-hdd-windows-10-home-4-gb-graphics-nvidia-geforce-gtx-1650-15-ec0101ax-laptop/product-reviews/itma1af6bf593dc8?pid=COMFSFNVDXG74QXR&lid=LSTCOMFSFNVDXG74QXRY8FRH2&marketplace=FLIPKART&page=3',\n",
       " 'https://www.flipkart.com/hp-pavilion-gaming-ryzen-5-quad-core-3550h-8-gb-1-tb-hdd-windows-10-home-4-gb-graphics-nvidia-geforce-gtx-1650-15-ec0101ax-laptop/product-reviews/itma1af6bf593dc8?pid=COMFSFNVDXG74QXR&lid=LSTCOMFSFNVDXG74QXRY8FRH2&marketplace=FLIPKART&page=4',\n",
       " 'https://www.flipkart.com/hp-pavilion-gaming-ryzen-5-quad-core-3550h-8-gb-1-tb-hdd-windows-10-home-4-gb-graphics-nvidia-geforce-gtx-1650-15-ec0101ax-laptop/product-reviews/itma1af6bf593dc8?pid=COMFSFNVDXG74QXR&lid=LSTCOMFSFNVDXG74QXRY8FRH2&marketplace=FLIPKART&page=5',\n",
       " 'https://www.flipkart.com/hp-pavilion-gaming-ryzen-5-quad-core-3550h-8-gb-1-tb-hdd-windows-10-home-4-gb-graphics-nvidia-geforce-gtx-1650-15-ec0101ax-laptop/product-reviews/itma1af6bf593dc8?pid=COMFSFNVDXG74QXR&lid=LSTCOMFSFNVDXG74QXRY8FRH2&marketplace=FLIPKART&page=6',\n",
       " 'https://www.flipkart.com/hp-pavilion-gaming-ryzen-5-quad-core-3550h-8-gb-1-tb-hdd-windows-10-home-4-gb-graphics-nvidia-geforce-gtx-1650-15-ec0101ax-laptop/product-reviews/itma1af6bf593dc8?pid=COMFSFNVDXG74QXR&lid=LSTCOMFSFNVDXG74QXRY8FRH2&marketplace=FLIPKART&page=7',\n",
       " 'https://www.flipkart.com/hp-pavilion-gaming-ryzen-5-quad-core-3550h-8-gb-1-tb-hdd-windows-10-home-4-gb-graphics-nvidia-geforce-gtx-1650-15-ec0101ax-laptop/product-reviews/itma1af6bf593dc8?pid=COMFSFNVDXG74QXR&lid=LSTCOMFSFNVDXG74QXRY8FRH2&marketplace=FLIPKART&page=8',\n",
       " 'https://www.flipkart.com/hp-pavilion-gaming-ryzen-5-quad-core-3550h-8-gb-1-tb-hdd-windows-10-home-4-gb-graphics-nvidia-geforce-gtx-1650-15-ec0101ax-laptop/product-reviews/itma1af6bf593dc8?pid=COMFSFNVDXG74QXR&lid=LSTCOMFSFNVDXG74QXRY8FRH2&marketplace=FLIPKART&page=9',\n",
       " 'https://www.flipkart.com/hp-pavilion-gaming-ryzen-5-quad-core-3550h-8-gb-1-tb-hdd-windows-10-home-4-gb-graphics-nvidia-geforce-gtx-1650-15-ec0101ax-laptop/product-reviews/itma1af6bf593dc8?pid=COMFSFNVDXG74QXR&lid=LSTCOMFSFNVDXG74QXRY8FRH2&marketplace=FLIPKART&page=10',\n",
       " 'https://www.flipkart.com/hp-pavilion-gaming-ryzen-5-quad-core-3550h-8-gb-1-tb-hdd-windows-10-home-4-gb-graphics-nvidia-geforce-gtx-1650-15-ec0101ax-laptop/product-reviews/itma1af6bf593dc8?pid=COMFSFNVDXG74QXR&lid=LSTCOMFSFNVDXG74QXRY8FRH2&marketplace=FLIPKART&page=11',\n",
       " 'https://www.flipkart.com/hp-pavilion-gaming-ryzen-5-quad-core-3550h-8-gb-1-tb-hdd-windows-10-home-4-gb-graphics-nvidia-geforce-gtx-1650-15-ec0101ax-laptop/product-reviews/itma1af6bf593dc8?pid=COMFSFNVDXG74QXR&lid=LSTCOMFSFNVDXG74QXRY8FRH2&marketplace=FLIPKART&page=12',\n",
       " 'https://www.flipkart.com/hp-pavilion-gaming-ryzen-5-quad-core-3550h-8-gb-1-tb-hdd-windows-10-home-4-gb-graphics-nvidia-geforce-gtx-1650-15-ec0101ax-laptop/product-reviews/itma1af6bf593dc8?pid=COMFSFNVDXG74QXR&lid=LSTCOMFSFNVDXG74QXRY8FRH2&marketplace=FLIPKART&page=13',\n",
       " 'https://www.flipkart.com/hp-pavilion-gaming-ryzen-5-quad-core-3550h-8-gb-1-tb-hdd-windows-10-home-4-gb-graphics-nvidia-geforce-gtx-1650-15-ec0101ax-laptop/product-reviews/itma1af6bf593dc8?pid=COMFSFNVDXG74QXR&lid=LSTCOMFSFNVDXG74QXRY8FRH2&marketplace=FLIPKART&page=14',\n",
       " 'https://www.flipkart.com/hp-pavilion-gaming-ryzen-5-quad-core-3550h-8-gb-1-tb-hdd-windows-10-home-4-gb-graphics-nvidia-geforce-gtx-1650-15-ec0101ax-laptop/product-reviews/itma1af6bf593dc8?pid=COMFSFNVDXG74QXR&lid=LSTCOMFSFNVDXG74QXRY8FRH2&marketplace=FLIPKART&page=15',\n",
       " 'https://www.flipkart.com/hp-pavilion-gaming-ryzen-5-quad-core-3550h-8-gb-1-tb-hdd-windows-10-home-4-gb-graphics-nvidia-geforce-gtx-1650-15-ec0101ax-laptop/product-reviews/itma1af6bf593dc8?pid=COMFSFNVDXG74QXR&lid=LSTCOMFSFNVDXG74QXRY8FRH2&marketplace=FLIPKART&page=16',\n",
       " 'https://www.flipkart.com/hp-pavilion-gaming-ryzen-5-quad-core-3550h-8-gb-1-tb-hdd-windows-10-home-4-gb-graphics-nvidia-geforce-gtx-1650-15-ec0101ax-laptop/product-reviews/itma1af6bf593dc8?pid=COMFSFNVDXG74QXR&lid=LSTCOMFSFNVDXG74QXRY8FRH2&marketplace=FLIPKART&page=17',\n",
       " 'https://www.flipkart.com/hp-pavilion-gaming-ryzen-5-quad-core-3550h-8-gb-1-tb-hdd-windows-10-home-4-gb-graphics-nvidia-geforce-gtx-1650-15-ec0101ax-laptop/product-reviews/itma1af6bf593dc8?pid=COMFSFNVDXG74QXR&lid=LSTCOMFSFNVDXG74QXRY8FRH2&marketplace=FLIPKART&page=18',\n",
       " 'https://www.flipkart.com/hp-pavilion-gaming-ryzen-5-quad-core-3550h-8-gb-1-tb-hdd-windows-10-home-4-gb-graphics-nvidia-geforce-gtx-1650-15-ec0101ax-laptop/product-reviews/itma1af6bf593dc8?pid=COMFSFNVDXG74QXR&lid=LSTCOMFSFNVDXG74QXRY8FRH2&marketplace=FLIPKART&page=19',\n",
       " 'https://www.flipkart.com/hp-pavilion-gaming-ryzen-5-quad-core-3550h-8-gb-1-tb-hdd-windows-10-home-4-gb-graphics-nvidia-geforce-gtx-1650-15-ec0101ax-laptop/product-reviews/itma1af6bf593dc8?pid=COMFSFNVDXG74QXR&lid=LSTCOMFSFNVDXG74QXRY8FRH2&marketplace=FLIPKART&page=20',\n",
       " 'https://www.flipkart.com/hp-pavilion-gaming-ryzen-5-quad-core-3550h-8-gb-1-tb-hdd-windows-10-home-4-gb-graphics-nvidia-geforce-gtx-1650-15-ec0101ax-laptop/product-reviews/itma1af6bf593dc8?pid=COMFSFNVDXG74QXR&lid=LSTCOMFSFNVDXG74QXRY8FRH2&marketplace=FLIPKART&page=21',\n",
       " 'https://www.flipkart.com/hp-pavilion-gaming-ryzen-5-quad-core-3550h-8-gb-1-tb-hdd-windows-10-home-4-gb-graphics-nvidia-geforce-gtx-1650-15-ec0101ax-laptop/product-reviews/itma1af6bf593dc8?pid=COMFSFNVDXG74QXR&lid=LSTCOMFSFNVDXG74QXRY8FRH2&marketplace=FLIPKART&page=22',\n",
       " 'https://www.flipkart.com/hp-pavilion-gaming-ryzen-5-quad-core-3550h-8-gb-1-tb-hdd-windows-10-home-4-gb-graphics-nvidia-geforce-gtx-1650-15-ec0101ax-laptop/product-reviews/itma1af6bf593dc8?pid=COMFSFNVDXG74QXR&lid=LSTCOMFSFNVDXG74QXRY8FRH2&marketplace=FLIPKART&page=23',\n",
       " 'https://www.flipkart.com/hp-pavilion-gaming-ryzen-5-quad-core-3550h-8-gb-1-tb-hdd-windows-10-home-4-gb-graphics-nvidia-geforce-gtx-1650-15-ec0101ax-laptop/product-reviews/itma1af6bf593dc8?pid=COMFSFNVDXG74QXR&lid=LSTCOMFSFNVDXG74QXRY8FRH2&marketplace=FLIPKART&page=24',\n",
       " 'https://www.flipkart.com/hp-pavilion-gaming-ryzen-5-quad-core-3550h-8-gb-1-tb-hdd-windows-10-home-4-gb-graphics-nvidia-geforce-gtx-1650-15-ec0101ax-laptop/product-reviews/itma1af6bf593dc8?pid=COMFSFNVDXG74QXR&lid=LSTCOMFSFNVDXG74QXRY8FRH2&marketplace=FLIPKART&page=25',\n",
       " 'https://www.flipkart.com/hp-pavilion-gaming-ryzen-5-quad-core-3550h-8-gb-1-tb-hdd-windows-10-home-4-gb-graphics-nvidia-geforce-gtx-1650-15-ec0101ax-laptop/product-reviews/itma1af6bf593dc8?pid=COMFSFNVDXG74QXR&lid=LSTCOMFSFNVDXG74QXRY8FRH2&marketplace=FLIPKART&page=26',\n",
       " 'https://www.flipkart.com/hp-pavilion-gaming-ryzen-5-quad-core-3550h-8-gb-1-tb-hdd-windows-10-home-4-gb-graphics-nvidia-geforce-gtx-1650-15-ec0101ax-laptop/product-reviews/itma1af6bf593dc8?pid=COMFSFNVDXG74QXR&lid=LSTCOMFSFNVDXG74QXRY8FRH2&marketplace=FLIPKART&page=27',\n",
       " 'https://www.flipkart.com/hp-pavilion-gaming-ryzen-5-quad-core-3550h-8-gb-1-tb-hdd-windows-10-home-4-gb-graphics-nvidia-geforce-gtx-1650-15-ec0101ax-laptop/product-reviews/itma1af6bf593dc8?pid=COMFSFNVDXG74QXR&lid=LSTCOMFSFNVDXG74QXRY8FRH2&marketplace=FLIPKART&page=28',\n",
       " 'https://www.flipkart.com/hp-pavilion-gaming-ryzen-5-quad-core-3550h-8-gb-1-tb-hdd-windows-10-home-4-gb-graphics-nvidia-geforce-gtx-1650-15-ec0101ax-laptop/product-reviews/itma1af6bf593dc8?pid=COMFSFNVDXG74QXR&lid=LSTCOMFSFNVDXG74QXRY8FRH2&marketplace=FLIPKART&page=29',\n",
       " 'https://www.flipkart.com/hp-pavilion-gaming-ryzen-5-quad-core-3550h-8-gb-1-tb-hdd-windows-10-home-4-gb-graphics-nvidia-geforce-gtx-1650-15-ec0101ax-laptop/product-reviews/itma1af6bf593dc8?pid=COMFSFNVDXG74QXR&lid=LSTCOMFSFNVDXG74QXRY8FRH2&marketplace=FLIPKART&page=30',\n",
       " 'https://www.flipkart.com/hp-pavilion-gaming-ryzen-5-quad-core-3550h-8-gb-1-tb-hdd-windows-10-home-4-gb-graphics-nvidia-geforce-gtx-1650-15-ec0101ax-laptop/product-reviews/itma1af6bf593dc8?pid=COMFSFNVDXG74QXR&lid=LSTCOMFSFNVDXG74QXRY8FRH2&marketplace=FLIPKART&page=31',\n",
       " 'https://www.flipkart.com/hp-pavilion-gaming-ryzen-5-quad-core-3550h-8-gb-1-tb-hdd-windows-10-home-4-gb-graphics-nvidia-geforce-gtx-1650-15-ec0101ax-laptop/product-reviews/itma1af6bf593dc8?pid=COMFSFNVDXG74QXR&lid=LSTCOMFSFNVDXG74QXRY8FRH2&marketplace=FLIPKART&page=32',\n",
       " 'https://www.flipkart.com/hp-pavilion-gaming-ryzen-5-quad-core-3550h-8-gb-1-tb-hdd-windows-10-home-4-gb-graphics-nvidia-geforce-gtx-1650-15-ec0101ax-laptop/product-reviews/itma1af6bf593dc8?pid=COMFSFNVDXG74QXR&lid=LSTCOMFSFNVDXG74QXRY8FRH2&marketplace=FLIPKART&page=33',\n",
       " 'https://www.flipkart.com/hp-pavilion-gaming-ryzen-5-quad-core-3550h-8-gb-1-tb-hdd-windows-10-home-4-gb-graphics-nvidia-geforce-gtx-1650-15-ec0101ax-laptop/product-reviews/itma1af6bf593dc8?pid=COMFSFNVDXG74QXR&lid=LSTCOMFSFNVDXG74QXRY8FRH2&marketplace=FLIPKART&page=34',\n",
       " 'https://www.flipkart.com/hp-pavilion-gaming-ryzen-5-quad-core-3550h-8-gb-1-tb-hdd-windows-10-home-4-gb-graphics-nvidia-geforce-gtx-1650-15-ec0101ax-laptop/product-reviews/itma1af6bf593dc8?pid=COMFSFNVDXG74QXR&lid=LSTCOMFSFNVDXG74QXRY8FRH2&marketplace=FLIPKART&page=35',\n",
       " 'https://www.flipkart.com/hp-pavilion-gaming-ryzen-5-quad-core-3550h-8-gb-1-tb-hdd-windows-10-home-4-gb-graphics-nvidia-geforce-gtx-1650-15-ec0101ax-laptop/product-reviews/itma1af6bf593dc8?pid=COMFSFNVDXG74QXR&lid=LSTCOMFSFNVDXG74QXRY8FRH2&marketplace=FLIPKART&page=36',\n",
       " 'https://www.flipkart.com/hp-pavilion-gaming-ryzen-5-quad-core-3550h-8-gb-1-tb-hdd-windows-10-home-4-gb-graphics-nvidia-geforce-gtx-1650-15-ec0101ax-laptop/product-reviews/itma1af6bf593dc8?pid=COMFSFNVDXG74QXR&lid=LSTCOMFSFNVDXG74QXRY8FRH2&marketplace=FLIPKART&page=37',\n",
       " 'https://www.flipkart.com/hp-pavilion-gaming-ryzen-5-quad-core-3550h-8-gb-1-tb-hdd-windows-10-home-4-gb-graphics-nvidia-geforce-gtx-1650-15-ec0101ax-laptop/product-reviews/itma1af6bf593dc8?pid=COMFSFNVDXG74QXR&lid=LSTCOMFSFNVDXG74QXRY8FRH2&marketplace=FLIPKART&page=38',\n",
       " 'https://www.flipkart.com/hp-pavilion-gaming-ryzen-5-quad-core-3550h-8-gb-1-tb-hdd-windows-10-home-4-gb-graphics-nvidia-geforce-gtx-1650-15-ec0101ax-laptop/product-reviews/itma1af6bf593dc8?pid=COMFSFNVDXG74QXR&lid=LSTCOMFSFNVDXG74QXRY8FRH2&marketplace=FLIPKART&page=39',\n",
       " 'https://www.flipkart.com/hp-pavilion-gaming-ryzen-5-quad-core-3550h-8-gb-1-tb-hdd-windows-10-home-4-gb-graphics-nvidia-geforce-gtx-1650-15-ec0101ax-laptop/product-reviews/itma1af6bf593dc8?pid=COMFSFNVDXG74QXR&lid=LSTCOMFSFNVDXG74QXRY8FRH2&marketplace=FLIPKART&page=40',\n",
       " 'https://www.flipkart.com/hp-pavilion-gaming-ryzen-5-quad-core-3550h-8-gb-1-tb-hdd-windows-10-home-4-gb-graphics-nvidia-geforce-gtx-1650-15-ec0101ax-laptop/product-reviews/itma1af6bf593dc8?pid=COMFSFNVDXG74QXR&lid=LSTCOMFSFNVDXG74QXRY8FRH2&marketplace=FLIPKART&page=41',\n",
       " 'https://www.flipkart.com/hp-pavilion-gaming-ryzen-5-quad-core-3550h-8-gb-1-tb-hdd-windows-10-home-4-gb-graphics-nvidia-geforce-gtx-1650-15-ec0101ax-laptop/product-reviews/itma1af6bf593dc8?pid=COMFSFNVDXG74QXR&lid=LSTCOMFSFNVDXG74QXRY8FRH2&marketplace=FLIPKART&page=42',\n",
       " 'https://www.flipkart.com/hp-pavilion-gaming-ryzen-5-quad-core-3550h-8-gb-1-tb-hdd-windows-10-home-4-gb-graphics-nvidia-geforce-gtx-1650-15-ec0101ax-laptop/product-reviews/itma1af6bf593dc8?pid=COMFSFNVDXG74QXR&lid=LSTCOMFSFNVDXG74QXRY8FRH2&marketplace=FLIPKART&page=43',\n",
       " 'https://www.flipkart.com/hp-pavilion-gaming-ryzen-5-quad-core-3550h-8-gb-1-tb-hdd-windows-10-home-4-gb-graphics-nvidia-geforce-gtx-1650-15-ec0101ax-laptop/product-reviews/itma1af6bf593dc8?pid=COMFSFNVDXG74QXR&lid=LSTCOMFSFNVDXG74QXRY8FRH2&marketplace=FLIPKART&page=44',\n",
       " 'https://www.flipkart.com/hp-pavilion-gaming-ryzen-5-quad-core-3550h-8-gb-1-tb-hdd-windows-10-home-4-gb-graphics-nvidia-geforce-gtx-1650-15-ec0101ax-laptop/product-reviews/itma1af6bf593dc8?pid=COMFSFNVDXG74QXR&lid=LSTCOMFSFNVDXG74QXRY8FRH2&marketplace=FLIPKART&page=45',\n",
       " 'https://www.flipkart.com/hp-pavilion-gaming-ryzen-5-quad-core-3550h-8-gb-1-tb-hdd-windows-10-home-4-gb-graphics-nvidia-geforce-gtx-1650-15-ec0101ax-laptop/product-reviews/itma1af6bf593dc8?pid=COMFSFNVDXG74QXR&lid=LSTCOMFSFNVDXG74QXRY8FRH2&marketplace=FLIPKART&page=46',\n",
       " 'https://www.flipkart.com/hp-pavilion-gaming-ryzen-5-quad-core-3550h-8-gb-1-tb-hdd-windows-10-home-4-gb-graphics-nvidia-geforce-gtx-1650-15-ec0101ax-laptop/product-reviews/itma1af6bf593dc8?pid=COMFSFNVDXG74QXR&lid=LSTCOMFSFNVDXG74QXRY8FRH2&marketplace=FLIPKART&page=47',\n",
       " 'https://www.flipkart.com/hp-pavilion-gaming-ryzen-5-quad-core-3550h-8-gb-1-tb-hdd-windows-10-home-4-gb-graphics-nvidia-geforce-gtx-1650-15-ec0101ax-laptop/product-reviews/itma1af6bf593dc8?pid=COMFSFNVDXG74QXR&lid=LSTCOMFSFNVDXG74QXRY8FRH2&marketplace=FLIPKART&page=48',\n",
       " 'https://www.flipkart.com/hp-pavilion-gaming-ryzen-5-quad-core-3550h-8-gb-1-tb-hdd-windows-10-home-4-gb-graphics-nvidia-geforce-gtx-1650-15-ec0101ax-laptop/product-reviews/itma1af6bf593dc8?pid=COMFSFNVDXG74QXR&lid=LSTCOMFSFNVDXG74QXRY8FRH2&marketplace=FLIPKART&page=49',\n",
       " 'https://www.flipkart.com/hp-pavilion-gaming-ryzen-5-quad-core-3550h-8-gb-1-tb-hdd-windows-10-home-4-gb-graphics-nvidia-geforce-gtx-1650-15-ec0101ax-laptop/product-reviews/itma1af6bf593dc8?pid=COMFSFNVDXG74QXR&lid=LSTCOMFSFNVDXG74QXRY8FRH2&marketplace=FLIPKART&page=50',\n",
       " 'https://www.flipkart.com/hp-pavilion-gaming-ryzen-5-quad-core-3550h-8-gb-1-tb-hdd-windows-10-home-4-gb-graphics-nvidia-geforce-gtx-1650-15-ec0101ax-laptop/product-reviews/itma1af6bf593dc8?pid=COMFSFNVDXG74QXR&lid=LSTCOMFSFNVDXG74QXRY8FRH2&marketplace=FLIPKART&page=51',\n",
       " 'https://www.flipkart.com/hp-pavilion-gaming-ryzen-5-quad-core-3550h-8-gb-1-tb-hdd-windows-10-home-4-gb-graphics-nvidia-geforce-gtx-1650-15-ec0101ax-laptop/product-reviews/itma1af6bf593dc8?pid=COMFSFNVDXG74QXR&lid=LSTCOMFSFNVDXG74QXRY8FRH2&marketplace=FLIPKART&page=52',\n",
       " 'https://www.flipkart.com/hp-pavilion-gaming-ryzen-5-quad-core-3550h-8-gb-1-tb-hdd-windows-10-home-4-gb-graphics-nvidia-geforce-gtx-1650-15-ec0101ax-laptop/product-reviews/itma1af6bf593dc8?pid=COMFSFNVDXG74QXR&lid=LSTCOMFSFNVDXG74QXRY8FRH2&marketplace=FLIPKART&page=53',\n",
       " 'https://www.flipkart.com/hp-pavilion-gaming-ryzen-5-quad-core-3550h-8-gb-1-tb-hdd-windows-10-home-4-gb-graphics-nvidia-geforce-gtx-1650-15-ec0101ax-laptop/product-reviews/itma1af6bf593dc8?pid=COMFSFNVDXG74QXR&lid=LSTCOMFSFNVDXG74QXRY8FRH2&marketplace=FLIPKART&page=54',\n",
       " 'https://www.flipkart.com/hp-pavilion-gaming-ryzen-5-quad-core-3550h-8-gb-1-tb-hdd-windows-10-home-4-gb-graphics-nvidia-geforce-gtx-1650-15-ec0101ax-laptop/product-reviews/itma1af6bf593dc8?pid=COMFSFNVDXG74QXR&lid=LSTCOMFSFNVDXG74QXRY8FRH2&marketplace=FLIPKART&page=55',\n",
       " 'https://www.flipkart.com/hp-pavilion-gaming-ryzen-5-quad-core-3550h-8-gb-1-tb-hdd-windows-10-home-4-gb-graphics-nvidia-geforce-gtx-1650-15-ec0101ax-laptop/product-reviews/itma1af6bf593dc8?pid=COMFSFNVDXG74QXR&lid=LSTCOMFSFNVDXG74QXRY8FRH2&marketplace=FLIPKART&page=56',\n",
       " 'https://www.flipkart.com/hp-pavilion-gaming-ryzen-5-quad-core-3550h-8-gb-1-tb-hdd-windows-10-home-4-gb-graphics-nvidia-geforce-gtx-1650-15-ec0101ax-laptop/product-reviews/itma1af6bf593dc8?pid=COMFSFNVDXG74QXR&lid=LSTCOMFSFNVDXG74QXRY8FRH2&marketplace=FLIPKART&page=57',\n",
       " 'https://www.flipkart.com/hp-pavilion-gaming-ryzen-5-quad-core-3550h-8-gb-1-tb-hdd-windows-10-home-4-gb-graphics-nvidia-geforce-gtx-1650-15-ec0101ax-laptop/product-reviews/itma1af6bf593dc8?pid=COMFSFNVDXG74QXR&lid=LSTCOMFSFNVDXG74QXRY8FRH2&marketplace=FLIPKART&page=58',\n",
       " 'https://www.flipkart.com/hp-pavilion-gaming-ryzen-5-quad-core-3550h-8-gb-1-tb-hdd-windows-10-home-4-gb-graphics-nvidia-geforce-gtx-1650-15-ec0101ax-laptop/product-reviews/itma1af6bf593dc8?pid=COMFSFNVDXG74QXR&lid=LSTCOMFSFNVDXG74QXRY8FRH2&marketplace=FLIPKART&page=59',\n",
       " 'https://www.flipkart.com/hp-pavilion-gaming-ryzen-5-quad-core-3550h-8-gb-1-tb-hdd-windows-10-home-4-gb-graphics-nvidia-geforce-gtx-1650-15-ec0101ax-laptop/product-reviews/itma1af6bf593dc8?pid=COMFSFNVDXG74QXR&lid=LSTCOMFSFNVDXG74QXRY8FRH2&marketplace=FLIPKART&page=60',\n",
       " 'https://www.flipkart.com/hp-pavilion-gaming-ryzen-5-quad-core-3550h-8-gb-1-tb-hdd-windows-10-home-4-gb-graphics-nvidia-geforce-gtx-1650-15-ec0101ax-laptop/product-reviews/itma1af6bf593dc8?pid=COMFSFNVDXG74QXR&lid=LSTCOMFSFNVDXG74QXRY8FRH2&marketplace=FLIPKART&page=61',\n",
       " 'https://www.flipkart.com/hp-pavilion-gaming-ryzen-5-quad-core-3550h-8-gb-1-tb-hdd-windows-10-home-4-gb-graphics-nvidia-geforce-gtx-1650-15-ec0101ax-laptop/product-reviews/itma1af6bf593dc8?pid=COMFSFNVDXG74QXR&lid=LSTCOMFSFNVDXG74QXRY8FRH2&marketplace=FLIPKART&page=62',\n",
       " 'https://www.flipkart.com/hp-pavilion-gaming-ryzen-5-quad-core-3550h-8-gb-1-tb-hdd-windows-10-home-4-gb-graphics-nvidia-geforce-gtx-1650-15-ec0101ax-laptop/product-reviews/itma1af6bf593dc8?pid=COMFSFNVDXG74QXR&lid=LSTCOMFSFNVDXG74QXRY8FRH2&marketplace=FLIPKART&page=63',\n",
       " 'https://www.flipkart.com/hp-pavilion-gaming-ryzen-5-quad-core-3550h-8-gb-1-tb-hdd-windows-10-home-4-gb-graphics-nvidia-geforce-gtx-1650-15-ec0101ax-laptop/product-reviews/itma1af6bf593dc8?pid=COMFSFNVDXG74QXR&lid=LSTCOMFSFNVDXG74QXRY8FRH2&marketplace=FLIPKART&page=64',\n",
       " 'https://www.flipkart.com/hp-pavilion-gaming-ryzen-5-quad-core-3550h-8-gb-1-tb-hdd-windows-10-home-4-gb-graphics-nvidia-geforce-gtx-1650-15-ec0101ax-laptop/product-reviews/itma1af6bf593dc8?pid=COMFSFNVDXG74QXR&lid=LSTCOMFSFNVDXG74QXRY8FRH2&marketplace=FLIPKART&page=65',\n",
       " 'https://www.flipkart.com/hp-pavilion-gaming-ryzen-5-quad-core-3550h-8-gb-1-tb-hdd-windows-10-home-4-gb-graphics-nvidia-geforce-gtx-1650-15-ec0101ax-laptop/product-reviews/itma1af6bf593dc8?pid=COMFSFNVDXG74QXR&lid=LSTCOMFSFNVDXG74QXRY8FRH2&marketplace=FLIPKART&page=66',\n",
       " 'https://www.flipkart.com/hp-pavilion-gaming-ryzen-5-quad-core-3550h-8-gb-1-tb-hdd-windows-10-home-4-gb-graphics-nvidia-geforce-gtx-1650-15-ec0101ax-laptop/product-reviews/itma1af6bf593dc8?pid=COMFSFNVDXG74QXR&lid=LSTCOMFSFNVDXG74QXRY8FRH2&marketplace=FLIPKART&page=67',\n",
       " 'https://www.flipkart.com/hp-pavilion-gaming-ryzen-5-quad-core-3550h-8-gb-1-tb-hdd-windows-10-home-4-gb-graphics-nvidia-geforce-gtx-1650-15-ec0101ax-laptop/product-reviews/itma1af6bf593dc8?pid=COMFSFNVDXG74QXR&lid=LSTCOMFSFNVDXG74QXRY8FRH2&marketplace=FLIPKART&page=68',\n",
       " 'https://www.flipkart.com/hp-pavilion-gaming-ryzen-5-quad-core-3550h-8-gb-1-tb-hdd-windows-10-home-4-gb-graphics-nvidia-geforce-gtx-1650-15-ec0101ax-laptop/product-reviews/itma1af6bf593dc8?pid=COMFSFNVDXG74QXR&lid=LSTCOMFSFNVDXG74QXRY8FRH2&marketplace=FLIPKART&page=69',\n",
       " 'https://www.flipkart.com/hp-pavilion-gaming-ryzen-5-quad-core-3550h-8-gb-1-tb-hdd-windows-10-home-4-gb-graphics-nvidia-geforce-gtx-1650-15-ec0101ax-laptop/product-reviews/itma1af6bf593dc8?pid=COMFSFNVDXG74QXR&lid=LSTCOMFSFNVDXG74QXRY8FRH2&marketplace=FLIPKART&page=70',\n",
       " 'https://www.flipkart.com/hp-pavilion-gaming-ryzen-5-quad-core-3550h-8-gb-1-tb-hdd-windows-10-home-4-gb-graphics-nvidia-geforce-gtx-1650-15-ec0101ax-laptop/product-reviews/itma1af6bf593dc8?pid=COMFSFNVDXG74QXR&lid=LSTCOMFSFNVDXG74QXRY8FRH2&marketplace=FLIPKART&page=71',\n",
       " 'https://www.flipkart.com/hp-pavilion-gaming-ryzen-5-quad-core-3550h-8-gb-1-tb-hdd-windows-10-home-4-gb-graphics-nvidia-geforce-gtx-1650-15-ec0101ax-laptop/product-reviews/itma1af6bf593dc8?pid=COMFSFNVDXG74QXR&lid=LSTCOMFSFNVDXG74QXRY8FRH2&marketplace=FLIPKART&page=72',\n",
       " 'https://www.flipkart.com/hp-pavilion-gaming-ryzen-5-quad-core-3550h-8-gb-1-tb-hdd-windows-10-home-4-gb-graphics-nvidia-geforce-gtx-1650-15-ec0101ax-laptop/product-reviews/itma1af6bf593dc8?pid=COMFSFNVDXG74QXR&lid=LSTCOMFSFNVDXG74QXRY8FRH2&marketplace=FLIPKART&page=73',\n",
       " 'https://www.flipkart.com/hp-pavilion-gaming-ryzen-5-quad-core-3550h-8-gb-1-tb-hdd-windows-10-home-4-gb-graphics-nvidia-geforce-gtx-1650-15-ec0101ax-laptop/product-reviews/itma1af6bf593dc8?pid=COMFSFNVDXG74QXR&lid=LSTCOMFSFNVDXG74QXRY8FRH2&marketplace=FLIPKART&page=74',\n",
       " 'https://www.flipkart.com/hp-pavilion-gaming-ryzen-5-quad-core-3550h-8-gb-1-tb-hdd-windows-10-home-4-gb-graphics-nvidia-geforce-gtx-1650-15-ec0101ax-laptop/product-reviews/itma1af6bf593dc8?pid=COMFSFNVDXG74QXR&lid=LSTCOMFSFNVDXG74QXRY8FRH2&marketplace=FLIPKART&page=75',\n",
       " 'https://www.flipkart.com/hp-pavilion-gaming-ryzen-5-quad-core-3550h-8-gb-1-tb-hdd-windows-10-home-4-gb-graphics-nvidia-geforce-gtx-1650-15-ec0101ax-laptop/product-reviews/itma1af6bf593dc8?pid=COMFSFNVDXG74QXR&lid=LSTCOMFSFNVDXG74QXRY8FRH2&marketplace=FLIPKART&page=76',\n",
       " 'https://www.flipkart.com/hp-pavilion-gaming-ryzen-5-quad-core-3550h-8-gb-1-tb-hdd-windows-10-home-4-gb-graphics-nvidia-geforce-gtx-1650-15-ec0101ax-laptop/product-reviews/itma1af6bf593dc8?pid=COMFSFNVDXG74QXR&lid=LSTCOMFSFNVDXG74QXRY8FRH2&marketplace=FLIPKART&page=77',\n",
       " 'https://www.flipkart.com/hp-pavilion-gaming-ryzen-5-quad-core-3550h-8-gb-1-tb-hdd-windows-10-home-4-gb-graphics-nvidia-geforce-gtx-1650-15-ec0101ax-laptop/product-reviews/itma1af6bf593dc8?pid=COMFSFNVDXG74QXR&lid=LSTCOMFSFNVDXG74QXRY8FRH2&marketplace=FLIPKART&page=78',\n",
       " 'https://www.flipkart.com/hp-pavilion-gaming-ryzen-5-quad-core-3550h-8-gb-1-tb-hdd-windows-10-home-4-gb-graphics-nvidia-geforce-gtx-1650-15-ec0101ax-laptop/product-reviews/itma1af6bf593dc8?pid=COMFSFNVDXG74QXR&lid=LSTCOMFSFNVDXG74QXRY8FRH2&marketplace=FLIPKART&page=79',\n",
       " 'https://www.flipkart.com/hp-pavilion-gaming-ryzen-5-quad-core-3550h-8-gb-1-tb-hdd-windows-10-home-4-gb-graphics-nvidia-geforce-gtx-1650-15-ec0101ax-laptop/product-reviews/itma1af6bf593dc8?pid=COMFSFNVDXG74QXR&lid=LSTCOMFSFNVDXG74QXRY8FRH2&marketplace=FLIPKART&page=80',\n",
       " 'https://www.flipkart.com/hp-pavilion-gaming-ryzen-5-quad-core-3550h-8-gb-1-tb-hdd-windows-10-home-4-gb-graphics-nvidia-geforce-gtx-1650-15-ec0101ax-laptop/product-reviews/itma1af6bf593dc8?pid=COMFSFNVDXG74QXR&lid=LSTCOMFSFNVDXG74QXRY8FRH2&marketplace=FLIPKART&page=81',\n",
       " 'https://www.flipkart.com/hp-pavilion-gaming-ryzen-5-quad-core-3550h-8-gb-1-tb-hdd-windows-10-home-4-gb-graphics-nvidia-geforce-gtx-1650-15-ec0101ax-laptop/product-reviews/itma1af6bf593dc8?pid=COMFSFNVDXG74QXR&lid=LSTCOMFSFNVDXG74QXRY8FRH2&marketplace=FLIPKART&page=82',\n",
       " 'https://www.flipkart.com/hp-pavilion-gaming-ryzen-5-quad-core-3550h-8-gb-1-tb-hdd-windows-10-home-4-gb-graphics-nvidia-geforce-gtx-1650-15-ec0101ax-laptop/product-reviews/itma1af6bf593dc8?pid=COMFSFNVDXG74QXR&lid=LSTCOMFSFNVDXG74QXRY8FRH2&marketplace=FLIPKART&page=83',\n",
       " 'https://www.flipkart.com/hp-pavilion-gaming-ryzen-5-quad-core-3550h-8-gb-1-tb-hdd-windows-10-home-4-gb-graphics-nvidia-geforce-gtx-1650-15-ec0101ax-laptop/product-reviews/itma1af6bf593dc8?pid=COMFSFNVDXG74QXR&lid=LSTCOMFSFNVDXG74QXRY8FRH2&marketplace=FLIPKART&page=84',\n",
       " 'https://www.flipkart.com/hp-pavilion-gaming-ryzen-5-quad-core-3550h-8-gb-1-tb-hdd-windows-10-home-4-gb-graphics-nvidia-geforce-gtx-1650-15-ec0101ax-laptop/product-reviews/itma1af6bf593dc8?pid=COMFSFNVDXG74QXR&lid=LSTCOMFSFNVDXG74QXRY8FRH2&marketplace=FLIPKART&page=85',\n",
       " 'https://www.flipkart.com/hp-pavilion-gaming-ryzen-5-quad-core-3550h-8-gb-1-tb-hdd-windows-10-home-4-gb-graphics-nvidia-geforce-gtx-1650-15-ec0101ax-laptop/product-reviews/itma1af6bf593dc8?pid=COMFSFNVDXG74QXR&lid=LSTCOMFSFNVDXG74QXRY8FRH2&marketplace=FLIPKART&page=86',\n",
       " 'https://www.flipkart.com/hp-pavilion-gaming-ryzen-5-quad-core-3550h-8-gb-1-tb-hdd-windows-10-home-4-gb-graphics-nvidia-geforce-gtx-1650-15-ec0101ax-laptop/product-reviews/itma1af6bf593dc8?pid=COMFSFNVDXG74QXR&lid=LSTCOMFSFNVDXG74QXRY8FRH2&marketplace=FLIPKART&page=87',\n",
       " 'https://www.flipkart.com/hp-pavilion-gaming-ryzen-5-quad-core-3550h-8-gb-1-tb-hdd-windows-10-home-4-gb-graphics-nvidia-geforce-gtx-1650-15-ec0101ax-laptop/product-reviews/itma1af6bf593dc8?pid=COMFSFNVDXG74QXR&lid=LSTCOMFSFNVDXG74QXRY8FRH2&marketplace=FLIPKART&page=88',\n",
       " 'https://www.flipkart.com/hp-pavilion-gaming-ryzen-5-quad-core-3550h-8-gb-1-tb-hdd-windows-10-home-4-gb-graphics-nvidia-geforce-gtx-1650-15-ec0101ax-laptop/product-reviews/itma1af6bf593dc8?pid=COMFSFNVDXG74QXR&lid=LSTCOMFSFNVDXG74QXRY8FRH2&marketplace=FLIPKART&page=89',\n",
       " 'https://www.flipkart.com/hp-pavilion-gaming-ryzen-5-quad-core-3550h-8-gb-1-tb-hdd-windows-10-home-4-gb-graphics-nvidia-geforce-gtx-1650-15-ec0101ax-laptop/product-reviews/itma1af6bf593dc8?pid=COMFSFNVDXG74QXR&lid=LSTCOMFSFNVDXG74QXRY8FRH2&marketplace=FLIPKART&page=90',\n",
       " 'https://www.flipkart.com/hp-pavilion-gaming-ryzen-5-quad-core-3550h-8-gb-1-tb-hdd-windows-10-home-4-gb-graphics-nvidia-geforce-gtx-1650-15-ec0101ax-laptop/product-reviews/itma1af6bf593dc8?pid=COMFSFNVDXG74QXR&lid=LSTCOMFSFNVDXG74QXRY8FRH2&marketplace=FLIPKART&page=91',\n",
       " 'https://www.flipkart.com/hp-pavilion-gaming-ryzen-5-quad-core-3550h-8-gb-1-tb-hdd-windows-10-home-4-gb-graphics-nvidia-geforce-gtx-1650-15-ec0101ax-laptop/product-reviews/itma1af6bf593dc8?pid=COMFSFNVDXG74QXR&lid=LSTCOMFSFNVDXG74QXRY8FRH2&marketplace=FLIPKART&page=92',\n",
       " 'https://www.flipkart.com/hp-pavilion-gaming-ryzen-5-quad-core-3550h-8-gb-1-tb-hdd-windows-10-home-4-gb-graphics-nvidia-geforce-gtx-1650-15-ec0101ax-laptop/product-reviews/itma1af6bf593dc8?pid=COMFSFNVDXG74QXR&lid=LSTCOMFSFNVDXG74QXRY8FRH2&marketplace=FLIPKART&page=93',\n",
       " 'https://www.flipkart.com/hp-pavilion-gaming-ryzen-5-quad-core-3550h-8-gb-1-tb-hdd-windows-10-home-4-gb-graphics-nvidia-geforce-gtx-1650-15-ec0101ax-laptop/product-reviews/itma1af6bf593dc8?pid=COMFSFNVDXG74QXR&lid=LSTCOMFSFNVDXG74QXRY8FRH2&marketplace=FLIPKART&page=94',\n",
       " 'https://www.flipkart.com/hp-pavilion-gaming-ryzen-5-quad-core-3550h-8-gb-1-tb-hdd-windows-10-home-4-gb-graphics-nvidia-geforce-gtx-1650-15-ec0101ax-laptop/product-reviews/itma1af6bf593dc8?pid=COMFSFNVDXG74QXR&lid=LSTCOMFSFNVDXG74QXRY8FRH2&marketplace=FLIPKART&page=95',\n",
       " 'https://www.flipkart.com/hp-pavilion-gaming-ryzen-5-quad-core-3550h-8-gb-1-tb-hdd-windows-10-home-4-gb-graphics-nvidia-geforce-gtx-1650-15-ec0101ax-laptop/product-reviews/itma1af6bf593dc8?pid=COMFSFNVDXG74QXR&lid=LSTCOMFSFNVDXG74QXRY8FRH2&marketplace=FLIPKART&page=96',\n",
       " 'https://www.flipkart.com/hp-pavilion-gaming-ryzen-5-quad-core-3550h-8-gb-1-tb-hdd-windows-10-home-4-gb-graphics-nvidia-geforce-gtx-1650-15-ec0101ax-laptop/product-reviews/itma1af6bf593dc8?pid=COMFSFNVDXG74QXR&lid=LSTCOMFSFNVDXG74QXRY8FRH2&marketplace=FLIPKART&page=97',\n",
       " 'https://www.flipkart.com/hp-pavilion-gaming-ryzen-5-quad-core-3550h-8-gb-1-tb-hdd-windows-10-home-4-gb-graphics-nvidia-geforce-gtx-1650-15-ec0101ax-laptop/product-reviews/itma1af6bf593dc8?pid=COMFSFNVDXG74QXR&lid=LSTCOMFSFNVDXG74QXRY8FRH2&marketplace=FLIPKART&page=98',\n",
       " 'https://www.flipkart.com/hp-pavilion-gaming-ryzen-5-quad-core-3550h-8-gb-1-tb-hdd-windows-10-home-4-gb-graphics-nvidia-geforce-gtx-1650-15-ec0101ax-laptop/product-reviews/itma1af6bf593dc8?pid=COMFSFNVDXG74QXR&lid=LSTCOMFSFNVDXG74QXRY8FRH2&marketplace=FLIPKART&page=99',\n",
       " 'https://www.flipkart.com/hp-pavilion-gaming-ryzen-5-quad-core-3550h-8-gb-1-tb-hdd-windows-10-home-4-gb-graphics-nvidia-geforce-gtx-1650-15-ec0101ax-laptop/product-reviews/itma1af6bf593dc8?pid=COMFSFNVDXG74QXR&lid=LSTCOMFSFNVDXG74QXRY8FRH2&marketplace=FLIPKART&page=100',\n",
       " 'https://www.flipkart.com/hp-pavilion-gaming-ryzen-5-quad-core-3550h-8-gb-1-tb-hdd-windows-10-home-4-gb-graphics-nvidia-geforce-gtx-1650-15-ec0101ax-laptop/product-reviews/itma1af6bf593dc8?pid=COMFSFNVDXG74QXR&lid=LSTCOMFSFNVDXG74QXRY8FRH2&marketplace=FLIPKART&page=101',\n",
       " 'https://www.flipkart.com/hp-pavilion-gaming-ryzen-5-quad-core-3550h-8-gb-1-tb-hdd-windows-10-home-4-gb-graphics-nvidia-geforce-gtx-1650-15-ec0101ax-laptop/product-reviews/itma1af6bf593dc8?pid=COMFSFNVDXG74QXR&lid=LSTCOMFSFNVDXG74QXRY8FRH2&marketplace=FLIPKART&page=102',\n",
       " 'https://www.flipkart.com/hp-pavilion-gaming-ryzen-5-quad-core-3550h-8-gb-1-tb-hdd-windows-10-home-4-gb-graphics-nvidia-geforce-gtx-1650-15-ec0101ax-laptop/product-reviews/itma1af6bf593dc8?pid=COMFSFNVDXG74QXR&lid=LSTCOMFSFNVDXG74QXRY8FRH2&marketplace=FLIPKART&page=103',\n",
       " 'https://www.flipkart.com/hp-pavilion-gaming-ryzen-5-quad-core-3550h-8-gb-1-tb-hdd-windows-10-home-4-gb-graphics-nvidia-geforce-gtx-1650-15-ec0101ax-laptop/product-reviews/itma1af6bf593dc8?pid=COMFSFNVDXG74QXR&lid=LSTCOMFSFNVDXG74QXRY8FRH2&marketplace=FLIPKART&page=104',\n",
       " 'https://www.flipkart.com/hp-pavilion-gaming-ryzen-5-quad-core-3550h-8-gb-1-tb-hdd-windows-10-home-4-gb-graphics-nvidia-geforce-gtx-1650-15-ec0101ax-laptop/product-reviews/itma1af6bf593dc8?pid=COMFSFNVDXG74QXR&lid=LSTCOMFSFNVDXG74QXRY8FRH2&marketplace=FLIPKART&page=105',\n",
       " 'https://www.flipkart.com/hp-pavilion-gaming-ryzen-5-quad-core-3550h-8-gb-1-tb-hdd-windows-10-home-4-gb-graphics-nvidia-geforce-gtx-1650-15-ec0101ax-laptop/product-reviews/itma1af6bf593dc8?pid=COMFSFNVDXG74QXR&lid=LSTCOMFSFNVDXG74QXRY8FRH2&marketplace=FLIPKART&page=106',\n",
       " 'https://www.flipkart.com/hp-pavilion-gaming-ryzen-5-quad-core-3550h-8-gb-1-tb-hdd-windows-10-home-4-gb-graphics-nvidia-geforce-gtx-1650-15-ec0101ax-laptop/product-reviews/itma1af6bf593dc8?pid=COMFSFNVDXG74QXR&lid=LSTCOMFSFNVDXG74QXRY8FRH2&marketplace=FLIPKART&page=107',\n",
       " 'https://www.flipkart.com/hp-pavilion-gaming-ryzen-5-quad-core-3550h-8-gb-1-tb-hdd-windows-10-home-4-gb-graphics-nvidia-geforce-gtx-1650-15-ec0101ax-laptop/product-reviews/itma1af6bf593dc8?pid=COMFSFNVDXG74QXR&lid=LSTCOMFSFNVDXG74QXRY8FRH2&marketplace=FLIPKART&page=108',\n",
       " 'https://www.flipkart.com/hp-pavilion-gaming-ryzen-5-quad-core-3550h-8-gb-1-tb-hdd-windows-10-home-4-gb-graphics-nvidia-geforce-gtx-1650-15-ec0101ax-laptop/product-reviews/itma1af6bf593dc8?pid=COMFSFNVDXG74QXR&lid=LSTCOMFSFNVDXG74QXRY8FRH2&marketplace=FLIPKART&page=109',\n",
       " 'https://www.flipkart.com/hp-pavilion-gaming-ryzen-5-quad-core-3550h-8-gb-1-tb-hdd-windows-10-home-4-gb-graphics-nvidia-geforce-gtx-1650-15-ec0101ax-laptop/product-reviews/itma1af6bf593dc8?pid=COMFSFNVDXG74QXR&lid=LSTCOMFSFNVDXG74QXRY8FRH2&marketplace=FLIPKART&page=110',\n",
       " 'https://www.flipkart.com/hp-pavilion-gaming-ryzen-5-quad-core-3550h-8-gb-1-tb-hdd-windows-10-home-4-gb-graphics-nvidia-geforce-gtx-1650-15-ec0101ax-laptop/product-reviews/itma1af6bf593dc8?pid=COMFSFNVDXG74QXR&lid=LSTCOMFSFNVDXG74QXRY8FRH2&marketplace=FLIPKART&page=111',\n",
       " 'https://www.flipkart.com/hp-pavilion-gaming-ryzen-5-quad-core-3550h-8-gb-1-tb-hdd-windows-10-home-4-gb-graphics-nvidia-geforce-gtx-1650-15-ec0101ax-laptop/product-reviews/itma1af6bf593dc8?pid=COMFSFNVDXG74QXR&lid=LSTCOMFSFNVDXG74QXRY8FRH2&marketplace=FLIPKART&page=112',\n",
       " 'https://www.flipkart.com/hp-pavilion-gaming-ryzen-5-quad-core-3550h-8-gb-1-tb-hdd-windows-10-home-4-gb-graphics-nvidia-geforce-gtx-1650-15-ec0101ax-laptop/product-reviews/itma1af6bf593dc8?pid=COMFSFNVDXG74QXR&lid=LSTCOMFSFNVDXG74QXRY8FRH2&marketplace=FLIPKART&page=113',\n",
       " 'https://www.flipkart.com/hp-pavilion-gaming-ryzen-5-quad-core-3550h-8-gb-1-tb-hdd-windows-10-home-4-gb-graphics-nvidia-geforce-gtx-1650-15-ec0101ax-laptop/product-reviews/itma1af6bf593dc8?pid=COMFSFNVDXG74QXR&lid=LSTCOMFSFNVDXG74QXRY8FRH2&marketplace=FLIPKART&page=114',\n",
       " 'https://www.flipkart.com/hp-pavilion-gaming-ryzen-5-quad-core-3550h-8-gb-1-tb-hdd-windows-10-home-4-gb-graphics-nvidia-geforce-gtx-1650-15-ec0101ax-laptop/product-reviews/itma1af6bf593dc8?pid=COMFSFNVDXG74QXR&lid=LSTCOMFSFNVDXG74QXRY8FRH2&marketplace=FLIPKART&page=115',\n",
       " 'https://www.flipkart.com/hp-pavilion-gaming-ryzen-5-quad-core-3550h-8-gb-1-tb-hdd-windows-10-home-4-gb-graphics-nvidia-geforce-gtx-1650-15-ec0101ax-laptop/product-reviews/itma1af6bf593dc8?pid=COMFSFNVDXG74QXR&lid=LSTCOMFSFNVDXG74QXRY8FRH2&marketplace=FLIPKART&page=116',\n",
       " 'https://www.flipkart.com/hp-pavilion-gaming-ryzen-5-quad-core-3550h-8-gb-1-tb-hdd-windows-10-home-4-gb-graphics-nvidia-geforce-gtx-1650-15-ec0101ax-laptop/product-reviews/itma1af6bf593dc8?pid=COMFSFNVDXG74QXR&lid=LSTCOMFSFNVDXG74QXRY8FRH2&marketplace=FLIPKART&page=117',\n",
       " 'https://www.flipkart.com/hp-pavilion-gaming-ryzen-5-quad-core-3550h-8-gb-1-tb-hdd-windows-10-home-4-gb-graphics-nvidia-geforce-gtx-1650-15-ec0101ax-laptop/product-reviews/itma1af6bf593dc8?pid=COMFSFNVDXG74QXR&lid=LSTCOMFSFNVDXG74QXRY8FRH2&marketplace=FLIPKART&page=118',\n",
       " 'https://www.flipkart.com/hp-pavilion-gaming-ryzen-5-quad-core-3550h-8-gb-1-tb-hdd-windows-10-home-4-gb-graphics-nvidia-geforce-gtx-1650-15-ec0101ax-laptop/product-reviews/itma1af6bf593dc8?pid=COMFSFNVDXG74QXR&lid=LSTCOMFSFNVDXG74QXRY8FRH2&marketplace=FLIPKART&page=119',\n",
       " 'https://www.flipkart.com/hp-pavilion-gaming-ryzen-5-quad-core-3550h-8-gb-1-tb-hdd-windows-10-home-4-gb-graphics-nvidia-geforce-gtx-1650-15-ec0101ax-laptop/product-reviews/itma1af6bf593dc8?pid=COMFSFNVDXG74QXR&lid=LSTCOMFSFNVDXG74QXRY8FRH2&marketplace=FLIPKART&page=120',\n",
       " 'https://www.flipkart.com/hp-pavilion-gaming-ryzen-5-quad-core-3550h-8-gb-1-tb-hdd-windows-10-home-4-gb-graphics-nvidia-geforce-gtx-1650-15-ec0101ax-laptop/product-reviews/itma1af6bf593dc8?pid=COMFSFNVDXG74QXR&lid=LSTCOMFSFNVDXG74QXRY8FRH2&marketplace=FLIPKART&page=121',\n",
       " 'https://www.flipkart.com/hp-pavilion-gaming-ryzen-5-quad-core-3550h-8-gb-1-tb-hdd-windows-10-home-4-gb-graphics-nvidia-geforce-gtx-1650-15-ec0101ax-laptop/product-reviews/itma1af6bf593dc8?pid=COMFSFNVDXG74QXR&lid=LSTCOMFSFNVDXG74QXRY8FRH2&marketplace=FLIPKART&page=122',\n",
       " 'https://www.flipkart.com/hp-pavilion-gaming-ryzen-5-quad-core-3550h-8-gb-1-tb-hdd-windows-10-home-4-gb-graphics-nvidia-geforce-gtx-1650-15-ec0101ax-laptop/product-reviews/itma1af6bf593dc8?pid=COMFSFNVDXG74QXR&lid=LSTCOMFSFNVDXG74QXRY8FRH2&marketplace=FLIPKART&page=123',\n",
       " 'https://www.flipkart.com/hp-pavilion-gaming-ryzen-5-quad-core-3550h-8-gb-1-tb-hdd-windows-10-home-4-gb-graphics-nvidia-geforce-gtx-1650-15-ec0101ax-laptop/product-reviews/itma1af6bf593dc8?pid=COMFSFNVDXG74QXR&lid=LSTCOMFSFNVDXG74QXRY8FRH2&marketplace=FLIPKART&page=124',\n",
       " 'https://www.flipkart.com/hp-pavilion-gaming-ryzen-5-quad-core-3550h-8-gb-1-tb-hdd-windows-10-home-4-gb-graphics-nvidia-geforce-gtx-1650-15-ec0101ax-laptop/product-reviews/itma1af6bf593dc8?pid=COMFSFNVDXG74QXR&lid=LSTCOMFSFNVDXG74QXRY8FRH2&marketplace=FLIPKART&page=125',\n",
       " 'https://www.flipkart.com/hp-pavilion-gaming-ryzen-5-quad-core-3550h-8-gb-1-tb-hdd-windows-10-home-4-gb-graphics-nvidia-geforce-gtx-1650-15-ec0101ax-laptop/product-reviews/itma1af6bf593dc8?pid=COMFSFNVDXG74QXR&lid=LSTCOMFSFNVDXG74QXRY8FRH2&marketplace=FLIPKART&page=126',\n",
       " 'https://www.flipkart.com/hp-pavilion-gaming-ryzen-5-quad-core-3550h-8-gb-1-tb-hdd-windows-10-home-4-gb-graphics-nvidia-geforce-gtx-1650-15-ec0101ax-laptop/product-reviews/itma1af6bf593dc8?pid=COMFSFNVDXG74QXR&lid=LSTCOMFSFNVDXG74QXRY8FRH2&marketplace=FLIPKART&page=127',\n",
       " 'https://www.flipkart.com/hp-pavilion-gaming-ryzen-5-quad-core-3550h-8-gb-1-tb-hdd-windows-10-home-4-gb-graphics-nvidia-geforce-gtx-1650-15-ec0101ax-laptop/product-reviews/itma1af6bf593dc8?pid=COMFSFNVDXG74QXR&lid=LSTCOMFSFNVDXG74QXRY8FRH2&marketplace=FLIPKART&page=128',\n",
       " 'https://www.flipkart.com/hp-pavilion-gaming-ryzen-5-quad-core-3550h-8-gb-1-tb-hdd-windows-10-home-4-gb-graphics-nvidia-geforce-gtx-1650-15-ec0101ax-laptop/product-reviews/itma1af6bf593dc8?pid=COMFSFNVDXG74QXR&lid=LSTCOMFSFNVDXG74QXRY8FRH2&marketplace=FLIPKART&page=129',\n",
       " 'https://www.flipkart.com/hp-pavilion-gaming-ryzen-5-quad-core-3550h-8-gb-1-tb-hdd-windows-10-home-4-gb-graphics-nvidia-geforce-gtx-1650-15-ec0101ax-laptop/product-reviews/itma1af6bf593dc8?pid=COMFSFNVDXG74QXR&lid=LSTCOMFSFNVDXG74QXRY8FRH2&marketplace=FLIPKART&page=130',\n",
       " 'https://www.flipkart.com/hp-pavilion-gaming-ryzen-5-quad-core-3550h-8-gb-1-tb-hdd-windows-10-home-4-gb-graphics-nvidia-geforce-gtx-1650-15-ec0101ax-laptop/product-reviews/itma1af6bf593dc8?pid=COMFSFNVDXG74QXR&lid=LSTCOMFSFNVDXG74QXRY8FRH2&marketplace=FLIPKART&page=131',\n",
       " 'https://www.flipkart.com/hp-pavilion-gaming-ryzen-5-quad-core-3550h-8-gb-1-tb-hdd-windows-10-home-4-gb-graphics-nvidia-geforce-gtx-1650-15-ec0101ax-laptop/product-reviews/itma1af6bf593dc8?pid=COMFSFNVDXG74QXR&lid=LSTCOMFSFNVDXG74QXRY8FRH2&marketplace=FLIPKART&page=132',\n",
       " 'https://www.flipkart.com/hp-pavilion-gaming-ryzen-5-quad-core-3550h-8-gb-1-tb-hdd-windows-10-home-4-gb-graphics-nvidia-geforce-gtx-1650-15-ec0101ax-laptop/product-reviews/itma1af6bf593dc8?pid=COMFSFNVDXG74QXR&lid=LSTCOMFSFNVDXG74QXRY8FRH2&marketplace=FLIPKART&page=133',\n",
       " 'https://www.flipkart.com/hp-pavilion-gaming-ryzen-5-quad-core-3550h-8-gb-1-tb-hdd-windows-10-home-4-gb-graphics-nvidia-geforce-gtx-1650-15-ec0101ax-laptop/product-reviews/itma1af6bf593dc8?pid=COMFSFNVDXG74QXR&lid=LSTCOMFSFNVDXG74QXRY8FRH2&marketplace=FLIPKART&page=134',\n",
       " 'https://www.flipkart.com/hp-pavilion-gaming-ryzen-5-quad-core-3550h-8-gb-1-tb-hdd-windows-10-home-4-gb-graphics-nvidia-geforce-gtx-1650-15-ec0101ax-laptop/product-reviews/itma1af6bf593dc8?pid=COMFSFNVDXG74QXR&lid=LSTCOMFSFNVDXG74QXRY8FRH2&marketplace=FLIPKART&page=135',\n",
       " 'https://www.flipkart.com/hp-pavilion-gaming-ryzen-5-quad-core-3550h-8-gb-1-tb-hdd-windows-10-home-4-gb-graphics-nvidia-geforce-gtx-1650-15-ec0101ax-laptop/product-reviews/itma1af6bf593dc8?pid=COMFSFNVDXG74QXR&lid=LSTCOMFSFNVDXG74QXRY8FRH2&marketplace=FLIPKART&page=136',\n",
       " 'https://www.flipkart.com/hp-pavilion-gaming-ryzen-5-quad-core-3550h-8-gb-1-tb-hdd-windows-10-home-4-gb-graphics-nvidia-geforce-gtx-1650-15-ec0101ax-laptop/product-reviews/itma1af6bf593dc8?pid=COMFSFNVDXG74QXR&lid=LSTCOMFSFNVDXG74QXRY8FRH2&marketplace=FLIPKART&page=137',\n",
       " 'https://www.flipkart.com/hp-pavilion-gaming-ryzen-5-quad-core-3550h-8-gb-1-tb-hdd-windows-10-home-4-gb-graphics-nvidia-geforce-gtx-1650-15-ec0101ax-laptop/product-reviews/itma1af6bf593dc8?pid=COMFSFNVDXG74QXR&lid=LSTCOMFSFNVDXG74QXRY8FRH2&marketplace=FLIPKART&page=138',\n",
       " 'https://www.flipkart.com/hp-pavilion-gaming-ryzen-5-quad-core-3550h-8-gb-1-tb-hdd-windows-10-home-4-gb-graphics-nvidia-geforce-gtx-1650-15-ec0101ax-laptop/product-reviews/itma1af6bf593dc8?pid=COMFSFNVDXG74QXR&lid=LSTCOMFSFNVDXG74QXRY8FRH2&marketplace=FLIPKART&page=139',\n",
       " 'https://www.flipkart.com/hp-pavilion-gaming-ryzen-5-quad-core-3550h-8-gb-1-tb-hdd-windows-10-home-4-gb-graphics-nvidia-geforce-gtx-1650-15-ec0101ax-laptop/product-reviews/itma1af6bf593dc8?pid=COMFSFNVDXG74QXR&lid=LSTCOMFSFNVDXG74QXRY8FRH2&marketplace=FLIPKART&page=140',\n",
       " 'https://www.flipkart.com/hp-pavilion-gaming-ryzen-5-quad-core-3550h-8-gb-1-tb-hdd-windows-10-home-4-gb-graphics-nvidia-geforce-gtx-1650-15-ec0101ax-laptop/product-reviews/itma1af6bf593dc8?pid=COMFSFNVDXG74QXR&lid=LSTCOMFSFNVDXG74QXRY8FRH2&marketplace=FLIPKART&page=141',\n",
       " 'https://www.flipkart.com/hp-pavilion-gaming-ryzen-5-quad-core-3550h-8-gb-1-tb-hdd-windows-10-home-4-gb-graphics-nvidia-geforce-gtx-1650-15-ec0101ax-laptop/product-reviews/itma1af6bf593dc8?pid=COMFSFNVDXG74QXR&lid=LSTCOMFSFNVDXG74QXRY8FRH2&marketplace=FLIPKART&page=142',\n",
       " 'https://www.flipkart.com/hp-pavilion-gaming-ryzen-5-quad-core-3550h-8-gb-1-tb-hdd-windows-10-home-4-gb-graphics-nvidia-geforce-gtx-1650-15-ec0101ax-laptop/product-reviews/itma1af6bf593dc8?pid=COMFSFNVDXG74QXR&lid=LSTCOMFSFNVDXG74QXRY8FRH2&marketplace=FLIPKART&page=143',\n",
       " 'https://www.flipkart.com/hp-pavilion-gaming-ryzen-5-quad-core-3550h-8-gb-1-tb-hdd-windows-10-home-4-gb-graphics-nvidia-geforce-gtx-1650-15-ec0101ax-laptop/product-reviews/itma1af6bf593dc8?pid=COMFSFNVDXG74QXR&lid=LSTCOMFSFNVDXG74QXRY8FRH2&marketplace=FLIPKART&page=144',\n",
       " 'https://www.flipkart.com/hp-pavilion-gaming-ryzen-5-quad-core-3550h-8-gb-1-tb-hdd-windows-10-home-4-gb-graphics-nvidia-geforce-gtx-1650-15-ec0101ax-laptop/product-reviews/itma1af6bf593dc8?pid=COMFSFNVDXG74QXR&lid=LSTCOMFSFNVDXG74QXRY8FRH2&marketplace=FLIPKART&page=145',\n",
       " 'https://www.flipkart.com/hp-pavilion-gaming-ryzen-5-quad-core-3550h-8-gb-1-tb-hdd-windows-10-home-4-gb-graphics-nvidia-geforce-gtx-1650-15-ec0101ax-laptop/product-reviews/itma1af6bf593dc8?pid=COMFSFNVDXG74QXR&lid=LSTCOMFSFNVDXG74QXRY8FRH2&marketplace=FLIPKART&page=146']"
      ]
     },
     "execution_count": 8,
     "metadata": {},
     "output_type": "execute_result"
    }
   ],
   "source": [
    "URL"
   ]
  },
  {
   "cell_type": "code",
   "execution_count": 9,
   "metadata": {},
   "outputs": [
    {
     "data": {
      "text/plain": [
       "147"
      ]
     },
     "execution_count": 9,
     "metadata": {},
     "output_type": "execute_result"
    }
   ],
   "source": [
    "len(URL)"
   ]
  },
  {
   "cell_type": "code",
   "execution_count": 10,
   "metadata": {},
   "outputs": [],
   "source": [
    "List_of_url = []\n",
    "for i in URL:\n",
    "    if i not in List_of_url:\n",
    "        List_of_url.append(i)"
   ]
  },
  {
   "cell_type": "code",
   "execution_count": 11,
   "metadata": {},
   "outputs": [
    {
     "data": {
      "text/plain": [
       "146"
      ]
     },
     "execution_count": 11,
     "metadata": {},
     "output_type": "execute_result"
    }
   ],
   "source": [
    "len(List_of_url)"
   ]
  },
  {
   "cell_type": "code",
   "execution_count": 12,
   "metadata": {},
   "outputs": [
    {
     "data": {
      "text/plain": [
       "['https://www.flipkart.com/hp-pavilion-gaming-ryzen-5-quad-core-3550h-8-gb-1-tb-hdd-windows-10-home-4-gb-graphics-nvidia-geforce-gtx-1650-15-ec0101ax-laptop/product-reviews/itma1af6bf593dc8?pid=COMFSFNVDXG74QXR&lid=LSTCOMFSFNVDXG74QXRY8FRH2&marketplace=FLIPKART&page=1',\n",
       " 'https://www.flipkart.com/hp-pavilion-gaming-ryzen-5-quad-core-3550h-8-gb-1-tb-hdd-windows-10-home-4-gb-graphics-nvidia-geforce-gtx-1650-15-ec0101ax-laptop/product-reviews/itma1af6bf593dc8?pid=COMFSFNVDXG74QXR&lid=LSTCOMFSFNVDXG74QXRY8FRH2&marketplace=FLIPKART&page=2',\n",
       " 'https://www.flipkart.com/hp-pavilion-gaming-ryzen-5-quad-core-3550h-8-gb-1-tb-hdd-windows-10-home-4-gb-graphics-nvidia-geforce-gtx-1650-15-ec0101ax-laptop/product-reviews/itma1af6bf593dc8?pid=COMFSFNVDXG74QXR&lid=LSTCOMFSFNVDXG74QXRY8FRH2&marketplace=FLIPKART&page=3',\n",
       " 'https://www.flipkart.com/hp-pavilion-gaming-ryzen-5-quad-core-3550h-8-gb-1-tb-hdd-windows-10-home-4-gb-graphics-nvidia-geforce-gtx-1650-15-ec0101ax-laptop/product-reviews/itma1af6bf593dc8?pid=COMFSFNVDXG74QXR&lid=LSTCOMFSFNVDXG74QXRY8FRH2&marketplace=FLIPKART&page=4',\n",
       " 'https://www.flipkart.com/hp-pavilion-gaming-ryzen-5-quad-core-3550h-8-gb-1-tb-hdd-windows-10-home-4-gb-graphics-nvidia-geforce-gtx-1650-15-ec0101ax-laptop/product-reviews/itma1af6bf593dc8?pid=COMFSFNVDXG74QXR&lid=LSTCOMFSFNVDXG74QXRY8FRH2&marketplace=FLIPKART&page=5',\n",
       " 'https://www.flipkart.com/hp-pavilion-gaming-ryzen-5-quad-core-3550h-8-gb-1-tb-hdd-windows-10-home-4-gb-graphics-nvidia-geforce-gtx-1650-15-ec0101ax-laptop/product-reviews/itma1af6bf593dc8?pid=COMFSFNVDXG74QXR&lid=LSTCOMFSFNVDXG74QXRY8FRH2&marketplace=FLIPKART&page=6',\n",
       " 'https://www.flipkart.com/hp-pavilion-gaming-ryzen-5-quad-core-3550h-8-gb-1-tb-hdd-windows-10-home-4-gb-graphics-nvidia-geforce-gtx-1650-15-ec0101ax-laptop/product-reviews/itma1af6bf593dc8?pid=COMFSFNVDXG74QXR&lid=LSTCOMFSFNVDXG74QXRY8FRH2&marketplace=FLIPKART&page=7',\n",
       " 'https://www.flipkart.com/hp-pavilion-gaming-ryzen-5-quad-core-3550h-8-gb-1-tb-hdd-windows-10-home-4-gb-graphics-nvidia-geforce-gtx-1650-15-ec0101ax-laptop/product-reviews/itma1af6bf593dc8?pid=COMFSFNVDXG74QXR&lid=LSTCOMFSFNVDXG74QXRY8FRH2&marketplace=FLIPKART&page=8',\n",
       " 'https://www.flipkart.com/hp-pavilion-gaming-ryzen-5-quad-core-3550h-8-gb-1-tb-hdd-windows-10-home-4-gb-graphics-nvidia-geforce-gtx-1650-15-ec0101ax-laptop/product-reviews/itma1af6bf593dc8?pid=COMFSFNVDXG74QXR&lid=LSTCOMFSFNVDXG74QXRY8FRH2&marketplace=FLIPKART&page=9',\n",
       " 'https://www.flipkart.com/hp-pavilion-gaming-ryzen-5-quad-core-3550h-8-gb-1-tb-hdd-windows-10-home-4-gb-graphics-nvidia-geforce-gtx-1650-15-ec0101ax-laptop/product-reviews/itma1af6bf593dc8?pid=COMFSFNVDXG74QXR&lid=LSTCOMFSFNVDXG74QXRY8FRH2&marketplace=FLIPKART&page=10',\n",
       " 'https://www.flipkart.com/hp-pavilion-gaming-ryzen-5-quad-core-3550h-8-gb-1-tb-hdd-windows-10-home-4-gb-graphics-nvidia-geforce-gtx-1650-15-ec0101ax-laptop/product-reviews/itma1af6bf593dc8?pid=COMFSFNVDXG74QXR&lid=LSTCOMFSFNVDXG74QXRY8FRH2&marketplace=FLIPKART&page=11',\n",
       " 'https://www.flipkart.com/hp-pavilion-gaming-ryzen-5-quad-core-3550h-8-gb-1-tb-hdd-windows-10-home-4-gb-graphics-nvidia-geforce-gtx-1650-15-ec0101ax-laptop/product-reviews/itma1af6bf593dc8?pid=COMFSFNVDXG74QXR&lid=LSTCOMFSFNVDXG74QXRY8FRH2&marketplace=FLIPKART&page=12',\n",
       " 'https://www.flipkart.com/hp-pavilion-gaming-ryzen-5-quad-core-3550h-8-gb-1-tb-hdd-windows-10-home-4-gb-graphics-nvidia-geforce-gtx-1650-15-ec0101ax-laptop/product-reviews/itma1af6bf593dc8?pid=COMFSFNVDXG74QXR&lid=LSTCOMFSFNVDXG74QXRY8FRH2&marketplace=FLIPKART&page=13',\n",
       " 'https://www.flipkart.com/hp-pavilion-gaming-ryzen-5-quad-core-3550h-8-gb-1-tb-hdd-windows-10-home-4-gb-graphics-nvidia-geforce-gtx-1650-15-ec0101ax-laptop/product-reviews/itma1af6bf593dc8?pid=COMFSFNVDXG74QXR&lid=LSTCOMFSFNVDXG74QXRY8FRH2&marketplace=FLIPKART&page=14',\n",
       " 'https://www.flipkart.com/hp-pavilion-gaming-ryzen-5-quad-core-3550h-8-gb-1-tb-hdd-windows-10-home-4-gb-graphics-nvidia-geforce-gtx-1650-15-ec0101ax-laptop/product-reviews/itma1af6bf593dc8?pid=COMFSFNVDXG74QXR&lid=LSTCOMFSFNVDXG74QXRY8FRH2&marketplace=FLIPKART&page=15',\n",
       " 'https://www.flipkart.com/hp-pavilion-gaming-ryzen-5-quad-core-3550h-8-gb-1-tb-hdd-windows-10-home-4-gb-graphics-nvidia-geforce-gtx-1650-15-ec0101ax-laptop/product-reviews/itma1af6bf593dc8?pid=COMFSFNVDXG74QXR&lid=LSTCOMFSFNVDXG74QXRY8FRH2&marketplace=FLIPKART&page=16',\n",
       " 'https://www.flipkart.com/hp-pavilion-gaming-ryzen-5-quad-core-3550h-8-gb-1-tb-hdd-windows-10-home-4-gb-graphics-nvidia-geforce-gtx-1650-15-ec0101ax-laptop/product-reviews/itma1af6bf593dc8?pid=COMFSFNVDXG74QXR&lid=LSTCOMFSFNVDXG74QXRY8FRH2&marketplace=FLIPKART&page=17',\n",
       " 'https://www.flipkart.com/hp-pavilion-gaming-ryzen-5-quad-core-3550h-8-gb-1-tb-hdd-windows-10-home-4-gb-graphics-nvidia-geforce-gtx-1650-15-ec0101ax-laptop/product-reviews/itma1af6bf593dc8?pid=COMFSFNVDXG74QXR&lid=LSTCOMFSFNVDXG74QXRY8FRH2&marketplace=FLIPKART&page=18',\n",
       " 'https://www.flipkart.com/hp-pavilion-gaming-ryzen-5-quad-core-3550h-8-gb-1-tb-hdd-windows-10-home-4-gb-graphics-nvidia-geforce-gtx-1650-15-ec0101ax-laptop/product-reviews/itma1af6bf593dc8?pid=COMFSFNVDXG74QXR&lid=LSTCOMFSFNVDXG74QXRY8FRH2&marketplace=FLIPKART&page=19',\n",
       " 'https://www.flipkart.com/hp-pavilion-gaming-ryzen-5-quad-core-3550h-8-gb-1-tb-hdd-windows-10-home-4-gb-graphics-nvidia-geforce-gtx-1650-15-ec0101ax-laptop/product-reviews/itma1af6bf593dc8?pid=COMFSFNVDXG74QXR&lid=LSTCOMFSFNVDXG74QXRY8FRH2&marketplace=FLIPKART&page=20',\n",
       " 'https://www.flipkart.com/hp-pavilion-gaming-ryzen-5-quad-core-3550h-8-gb-1-tb-hdd-windows-10-home-4-gb-graphics-nvidia-geforce-gtx-1650-15-ec0101ax-laptop/product-reviews/itma1af6bf593dc8?pid=COMFSFNVDXG74QXR&lid=LSTCOMFSFNVDXG74QXRY8FRH2&marketplace=FLIPKART&page=21',\n",
       " 'https://www.flipkart.com/hp-pavilion-gaming-ryzen-5-quad-core-3550h-8-gb-1-tb-hdd-windows-10-home-4-gb-graphics-nvidia-geforce-gtx-1650-15-ec0101ax-laptop/product-reviews/itma1af6bf593dc8?pid=COMFSFNVDXG74QXR&lid=LSTCOMFSFNVDXG74QXRY8FRH2&marketplace=FLIPKART&page=22',\n",
       " 'https://www.flipkart.com/hp-pavilion-gaming-ryzen-5-quad-core-3550h-8-gb-1-tb-hdd-windows-10-home-4-gb-graphics-nvidia-geforce-gtx-1650-15-ec0101ax-laptop/product-reviews/itma1af6bf593dc8?pid=COMFSFNVDXG74QXR&lid=LSTCOMFSFNVDXG74QXRY8FRH2&marketplace=FLIPKART&page=23',\n",
       " 'https://www.flipkart.com/hp-pavilion-gaming-ryzen-5-quad-core-3550h-8-gb-1-tb-hdd-windows-10-home-4-gb-graphics-nvidia-geforce-gtx-1650-15-ec0101ax-laptop/product-reviews/itma1af6bf593dc8?pid=COMFSFNVDXG74QXR&lid=LSTCOMFSFNVDXG74QXRY8FRH2&marketplace=FLIPKART&page=24',\n",
       " 'https://www.flipkart.com/hp-pavilion-gaming-ryzen-5-quad-core-3550h-8-gb-1-tb-hdd-windows-10-home-4-gb-graphics-nvidia-geforce-gtx-1650-15-ec0101ax-laptop/product-reviews/itma1af6bf593dc8?pid=COMFSFNVDXG74QXR&lid=LSTCOMFSFNVDXG74QXRY8FRH2&marketplace=FLIPKART&page=25',\n",
       " 'https://www.flipkart.com/hp-pavilion-gaming-ryzen-5-quad-core-3550h-8-gb-1-tb-hdd-windows-10-home-4-gb-graphics-nvidia-geforce-gtx-1650-15-ec0101ax-laptop/product-reviews/itma1af6bf593dc8?pid=COMFSFNVDXG74QXR&lid=LSTCOMFSFNVDXG74QXRY8FRH2&marketplace=FLIPKART&page=26',\n",
       " 'https://www.flipkart.com/hp-pavilion-gaming-ryzen-5-quad-core-3550h-8-gb-1-tb-hdd-windows-10-home-4-gb-graphics-nvidia-geforce-gtx-1650-15-ec0101ax-laptop/product-reviews/itma1af6bf593dc8?pid=COMFSFNVDXG74QXR&lid=LSTCOMFSFNVDXG74QXRY8FRH2&marketplace=FLIPKART&page=27',\n",
       " 'https://www.flipkart.com/hp-pavilion-gaming-ryzen-5-quad-core-3550h-8-gb-1-tb-hdd-windows-10-home-4-gb-graphics-nvidia-geforce-gtx-1650-15-ec0101ax-laptop/product-reviews/itma1af6bf593dc8?pid=COMFSFNVDXG74QXR&lid=LSTCOMFSFNVDXG74QXRY8FRH2&marketplace=FLIPKART&page=28',\n",
       " 'https://www.flipkart.com/hp-pavilion-gaming-ryzen-5-quad-core-3550h-8-gb-1-tb-hdd-windows-10-home-4-gb-graphics-nvidia-geforce-gtx-1650-15-ec0101ax-laptop/product-reviews/itma1af6bf593dc8?pid=COMFSFNVDXG74QXR&lid=LSTCOMFSFNVDXG74QXRY8FRH2&marketplace=FLIPKART&page=29',\n",
       " 'https://www.flipkart.com/hp-pavilion-gaming-ryzen-5-quad-core-3550h-8-gb-1-tb-hdd-windows-10-home-4-gb-graphics-nvidia-geforce-gtx-1650-15-ec0101ax-laptop/product-reviews/itma1af6bf593dc8?pid=COMFSFNVDXG74QXR&lid=LSTCOMFSFNVDXG74QXRY8FRH2&marketplace=FLIPKART&page=30',\n",
       " 'https://www.flipkart.com/hp-pavilion-gaming-ryzen-5-quad-core-3550h-8-gb-1-tb-hdd-windows-10-home-4-gb-graphics-nvidia-geforce-gtx-1650-15-ec0101ax-laptop/product-reviews/itma1af6bf593dc8?pid=COMFSFNVDXG74QXR&lid=LSTCOMFSFNVDXG74QXRY8FRH2&marketplace=FLIPKART&page=31',\n",
       " 'https://www.flipkart.com/hp-pavilion-gaming-ryzen-5-quad-core-3550h-8-gb-1-tb-hdd-windows-10-home-4-gb-graphics-nvidia-geforce-gtx-1650-15-ec0101ax-laptop/product-reviews/itma1af6bf593dc8?pid=COMFSFNVDXG74QXR&lid=LSTCOMFSFNVDXG74QXRY8FRH2&marketplace=FLIPKART&page=32',\n",
       " 'https://www.flipkart.com/hp-pavilion-gaming-ryzen-5-quad-core-3550h-8-gb-1-tb-hdd-windows-10-home-4-gb-graphics-nvidia-geforce-gtx-1650-15-ec0101ax-laptop/product-reviews/itma1af6bf593dc8?pid=COMFSFNVDXG74QXR&lid=LSTCOMFSFNVDXG74QXRY8FRH2&marketplace=FLIPKART&page=33',\n",
       " 'https://www.flipkart.com/hp-pavilion-gaming-ryzen-5-quad-core-3550h-8-gb-1-tb-hdd-windows-10-home-4-gb-graphics-nvidia-geforce-gtx-1650-15-ec0101ax-laptop/product-reviews/itma1af6bf593dc8?pid=COMFSFNVDXG74QXR&lid=LSTCOMFSFNVDXG74QXRY8FRH2&marketplace=FLIPKART&page=34',\n",
       " 'https://www.flipkart.com/hp-pavilion-gaming-ryzen-5-quad-core-3550h-8-gb-1-tb-hdd-windows-10-home-4-gb-graphics-nvidia-geforce-gtx-1650-15-ec0101ax-laptop/product-reviews/itma1af6bf593dc8?pid=COMFSFNVDXG74QXR&lid=LSTCOMFSFNVDXG74QXRY8FRH2&marketplace=FLIPKART&page=35',\n",
       " 'https://www.flipkart.com/hp-pavilion-gaming-ryzen-5-quad-core-3550h-8-gb-1-tb-hdd-windows-10-home-4-gb-graphics-nvidia-geforce-gtx-1650-15-ec0101ax-laptop/product-reviews/itma1af6bf593dc8?pid=COMFSFNVDXG74QXR&lid=LSTCOMFSFNVDXG74QXRY8FRH2&marketplace=FLIPKART&page=36',\n",
       " 'https://www.flipkart.com/hp-pavilion-gaming-ryzen-5-quad-core-3550h-8-gb-1-tb-hdd-windows-10-home-4-gb-graphics-nvidia-geforce-gtx-1650-15-ec0101ax-laptop/product-reviews/itma1af6bf593dc8?pid=COMFSFNVDXG74QXR&lid=LSTCOMFSFNVDXG74QXRY8FRH2&marketplace=FLIPKART&page=37',\n",
       " 'https://www.flipkart.com/hp-pavilion-gaming-ryzen-5-quad-core-3550h-8-gb-1-tb-hdd-windows-10-home-4-gb-graphics-nvidia-geforce-gtx-1650-15-ec0101ax-laptop/product-reviews/itma1af6bf593dc8?pid=COMFSFNVDXG74QXR&lid=LSTCOMFSFNVDXG74QXRY8FRH2&marketplace=FLIPKART&page=38',\n",
       " 'https://www.flipkart.com/hp-pavilion-gaming-ryzen-5-quad-core-3550h-8-gb-1-tb-hdd-windows-10-home-4-gb-graphics-nvidia-geforce-gtx-1650-15-ec0101ax-laptop/product-reviews/itma1af6bf593dc8?pid=COMFSFNVDXG74QXR&lid=LSTCOMFSFNVDXG74QXRY8FRH2&marketplace=FLIPKART&page=39',\n",
       " 'https://www.flipkart.com/hp-pavilion-gaming-ryzen-5-quad-core-3550h-8-gb-1-tb-hdd-windows-10-home-4-gb-graphics-nvidia-geforce-gtx-1650-15-ec0101ax-laptop/product-reviews/itma1af6bf593dc8?pid=COMFSFNVDXG74QXR&lid=LSTCOMFSFNVDXG74QXRY8FRH2&marketplace=FLIPKART&page=40',\n",
       " 'https://www.flipkart.com/hp-pavilion-gaming-ryzen-5-quad-core-3550h-8-gb-1-tb-hdd-windows-10-home-4-gb-graphics-nvidia-geforce-gtx-1650-15-ec0101ax-laptop/product-reviews/itma1af6bf593dc8?pid=COMFSFNVDXG74QXR&lid=LSTCOMFSFNVDXG74QXRY8FRH2&marketplace=FLIPKART&page=41',\n",
       " 'https://www.flipkart.com/hp-pavilion-gaming-ryzen-5-quad-core-3550h-8-gb-1-tb-hdd-windows-10-home-4-gb-graphics-nvidia-geforce-gtx-1650-15-ec0101ax-laptop/product-reviews/itma1af6bf593dc8?pid=COMFSFNVDXG74QXR&lid=LSTCOMFSFNVDXG74QXRY8FRH2&marketplace=FLIPKART&page=42',\n",
       " 'https://www.flipkart.com/hp-pavilion-gaming-ryzen-5-quad-core-3550h-8-gb-1-tb-hdd-windows-10-home-4-gb-graphics-nvidia-geforce-gtx-1650-15-ec0101ax-laptop/product-reviews/itma1af6bf593dc8?pid=COMFSFNVDXG74QXR&lid=LSTCOMFSFNVDXG74QXRY8FRH2&marketplace=FLIPKART&page=43',\n",
       " 'https://www.flipkart.com/hp-pavilion-gaming-ryzen-5-quad-core-3550h-8-gb-1-tb-hdd-windows-10-home-4-gb-graphics-nvidia-geforce-gtx-1650-15-ec0101ax-laptop/product-reviews/itma1af6bf593dc8?pid=COMFSFNVDXG74QXR&lid=LSTCOMFSFNVDXG74QXRY8FRH2&marketplace=FLIPKART&page=44',\n",
       " 'https://www.flipkart.com/hp-pavilion-gaming-ryzen-5-quad-core-3550h-8-gb-1-tb-hdd-windows-10-home-4-gb-graphics-nvidia-geforce-gtx-1650-15-ec0101ax-laptop/product-reviews/itma1af6bf593dc8?pid=COMFSFNVDXG74QXR&lid=LSTCOMFSFNVDXG74QXRY8FRH2&marketplace=FLIPKART&page=45',\n",
       " 'https://www.flipkart.com/hp-pavilion-gaming-ryzen-5-quad-core-3550h-8-gb-1-tb-hdd-windows-10-home-4-gb-graphics-nvidia-geforce-gtx-1650-15-ec0101ax-laptop/product-reviews/itma1af6bf593dc8?pid=COMFSFNVDXG74QXR&lid=LSTCOMFSFNVDXG74QXRY8FRH2&marketplace=FLIPKART&page=46',\n",
       " 'https://www.flipkart.com/hp-pavilion-gaming-ryzen-5-quad-core-3550h-8-gb-1-tb-hdd-windows-10-home-4-gb-graphics-nvidia-geforce-gtx-1650-15-ec0101ax-laptop/product-reviews/itma1af6bf593dc8?pid=COMFSFNVDXG74QXR&lid=LSTCOMFSFNVDXG74QXRY8FRH2&marketplace=FLIPKART&page=47',\n",
       " 'https://www.flipkart.com/hp-pavilion-gaming-ryzen-5-quad-core-3550h-8-gb-1-tb-hdd-windows-10-home-4-gb-graphics-nvidia-geforce-gtx-1650-15-ec0101ax-laptop/product-reviews/itma1af6bf593dc8?pid=COMFSFNVDXG74QXR&lid=LSTCOMFSFNVDXG74QXRY8FRH2&marketplace=FLIPKART&page=48',\n",
       " 'https://www.flipkart.com/hp-pavilion-gaming-ryzen-5-quad-core-3550h-8-gb-1-tb-hdd-windows-10-home-4-gb-graphics-nvidia-geforce-gtx-1650-15-ec0101ax-laptop/product-reviews/itma1af6bf593dc8?pid=COMFSFNVDXG74QXR&lid=LSTCOMFSFNVDXG74QXRY8FRH2&marketplace=FLIPKART&page=49',\n",
       " 'https://www.flipkart.com/hp-pavilion-gaming-ryzen-5-quad-core-3550h-8-gb-1-tb-hdd-windows-10-home-4-gb-graphics-nvidia-geforce-gtx-1650-15-ec0101ax-laptop/product-reviews/itma1af6bf593dc8?pid=COMFSFNVDXG74QXR&lid=LSTCOMFSFNVDXG74QXRY8FRH2&marketplace=FLIPKART&page=50',\n",
       " 'https://www.flipkart.com/hp-pavilion-gaming-ryzen-5-quad-core-3550h-8-gb-1-tb-hdd-windows-10-home-4-gb-graphics-nvidia-geforce-gtx-1650-15-ec0101ax-laptop/product-reviews/itma1af6bf593dc8?pid=COMFSFNVDXG74QXR&lid=LSTCOMFSFNVDXG74QXRY8FRH2&marketplace=FLIPKART&page=51',\n",
       " 'https://www.flipkart.com/hp-pavilion-gaming-ryzen-5-quad-core-3550h-8-gb-1-tb-hdd-windows-10-home-4-gb-graphics-nvidia-geforce-gtx-1650-15-ec0101ax-laptop/product-reviews/itma1af6bf593dc8?pid=COMFSFNVDXG74QXR&lid=LSTCOMFSFNVDXG74QXRY8FRH2&marketplace=FLIPKART&page=52',\n",
       " 'https://www.flipkart.com/hp-pavilion-gaming-ryzen-5-quad-core-3550h-8-gb-1-tb-hdd-windows-10-home-4-gb-graphics-nvidia-geforce-gtx-1650-15-ec0101ax-laptop/product-reviews/itma1af6bf593dc8?pid=COMFSFNVDXG74QXR&lid=LSTCOMFSFNVDXG74QXRY8FRH2&marketplace=FLIPKART&page=53',\n",
       " 'https://www.flipkart.com/hp-pavilion-gaming-ryzen-5-quad-core-3550h-8-gb-1-tb-hdd-windows-10-home-4-gb-graphics-nvidia-geforce-gtx-1650-15-ec0101ax-laptop/product-reviews/itma1af6bf593dc8?pid=COMFSFNVDXG74QXR&lid=LSTCOMFSFNVDXG74QXRY8FRH2&marketplace=FLIPKART&page=54',\n",
       " 'https://www.flipkart.com/hp-pavilion-gaming-ryzen-5-quad-core-3550h-8-gb-1-tb-hdd-windows-10-home-4-gb-graphics-nvidia-geforce-gtx-1650-15-ec0101ax-laptop/product-reviews/itma1af6bf593dc8?pid=COMFSFNVDXG74QXR&lid=LSTCOMFSFNVDXG74QXRY8FRH2&marketplace=FLIPKART&page=55',\n",
       " 'https://www.flipkart.com/hp-pavilion-gaming-ryzen-5-quad-core-3550h-8-gb-1-tb-hdd-windows-10-home-4-gb-graphics-nvidia-geforce-gtx-1650-15-ec0101ax-laptop/product-reviews/itma1af6bf593dc8?pid=COMFSFNVDXG74QXR&lid=LSTCOMFSFNVDXG74QXRY8FRH2&marketplace=FLIPKART&page=56',\n",
       " 'https://www.flipkart.com/hp-pavilion-gaming-ryzen-5-quad-core-3550h-8-gb-1-tb-hdd-windows-10-home-4-gb-graphics-nvidia-geforce-gtx-1650-15-ec0101ax-laptop/product-reviews/itma1af6bf593dc8?pid=COMFSFNVDXG74QXR&lid=LSTCOMFSFNVDXG74QXRY8FRH2&marketplace=FLIPKART&page=57',\n",
       " 'https://www.flipkart.com/hp-pavilion-gaming-ryzen-5-quad-core-3550h-8-gb-1-tb-hdd-windows-10-home-4-gb-graphics-nvidia-geforce-gtx-1650-15-ec0101ax-laptop/product-reviews/itma1af6bf593dc8?pid=COMFSFNVDXG74QXR&lid=LSTCOMFSFNVDXG74QXRY8FRH2&marketplace=FLIPKART&page=58',\n",
       " 'https://www.flipkart.com/hp-pavilion-gaming-ryzen-5-quad-core-3550h-8-gb-1-tb-hdd-windows-10-home-4-gb-graphics-nvidia-geforce-gtx-1650-15-ec0101ax-laptop/product-reviews/itma1af6bf593dc8?pid=COMFSFNVDXG74QXR&lid=LSTCOMFSFNVDXG74QXRY8FRH2&marketplace=FLIPKART&page=59',\n",
       " 'https://www.flipkart.com/hp-pavilion-gaming-ryzen-5-quad-core-3550h-8-gb-1-tb-hdd-windows-10-home-4-gb-graphics-nvidia-geforce-gtx-1650-15-ec0101ax-laptop/product-reviews/itma1af6bf593dc8?pid=COMFSFNVDXG74QXR&lid=LSTCOMFSFNVDXG74QXRY8FRH2&marketplace=FLIPKART&page=60',\n",
       " 'https://www.flipkart.com/hp-pavilion-gaming-ryzen-5-quad-core-3550h-8-gb-1-tb-hdd-windows-10-home-4-gb-graphics-nvidia-geforce-gtx-1650-15-ec0101ax-laptop/product-reviews/itma1af6bf593dc8?pid=COMFSFNVDXG74QXR&lid=LSTCOMFSFNVDXG74QXRY8FRH2&marketplace=FLIPKART&page=61',\n",
       " 'https://www.flipkart.com/hp-pavilion-gaming-ryzen-5-quad-core-3550h-8-gb-1-tb-hdd-windows-10-home-4-gb-graphics-nvidia-geforce-gtx-1650-15-ec0101ax-laptop/product-reviews/itma1af6bf593dc8?pid=COMFSFNVDXG74QXR&lid=LSTCOMFSFNVDXG74QXRY8FRH2&marketplace=FLIPKART&page=62',\n",
       " 'https://www.flipkart.com/hp-pavilion-gaming-ryzen-5-quad-core-3550h-8-gb-1-tb-hdd-windows-10-home-4-gb-graphics-nvidia-geforce-gtx-1650-15-ec0101ax-laptop/product-reviews/itma1af6bf593dc8?pid=COMFSFNVDXG74QXR&lid=LSTCOMFSFNVDXG74QXRY8FRH2&marketplace=FLIPKART&page=63',\n",
       " 'https://www.flipkart.com/hp-pavilion-gaming-ryzen-5-quad-core-3550h-8-gb-1-tb-hdd-windows-10-home-4-gb-graphics-nvidia-geforce-gtx-1650-15-ec0101ax-laptop/product-reviews/itma1af6bf593dc8?pid=COMFSFNVDXG74QXR&lid=LSTCOMFSFNVDXG74QXRY8FRH2&marketplace=FLIPKART&page=64',\n",
       " 'https://www.flipkart.com/hp-pavilion-gaming-ryzen-5-quad-core-3550h-8-gb-1-tb-hdd-windows-10-home-4-gb-graphics-nvidia-geforce-gtx-1650-15-ec0101ax-laptop/product-reviews/itma1af6bf593dc8?pid=COMFSFNVDXG74QXR&lid=LSTCOMFSFNVDXG74QXRY8FRH2&marketplace=FLIPKART&page=65',\n",
       " 'https://www.flipkart.com/hp-pavilion-gaming-ryzen-5-quad-core-3550h-8-gb-1-tb-hdd-windows-10-home-4-gb-graphics-nvidia-geforce-gtx-1650-15-ec0101ax-laptop/product-reviews/itma1af6bf593dc8?pid=COMFSFNVDXG74QXR&lid=LSTCOMFSFNVDXG74QXRY8FRH2&marketplace=FLIPKART&page=66',\n",
       " 'https://www.flipkart.com/hp-pavilion-gaming-ryzen-5-quad-core-3550h-8-gb-1-tb-hdd-windows-10-home-4-gb-graphics-nvidia-geforce-gtx-1650-15-ec0101ax-laptop/product-reviews/itma1af6bf593dc8?pid=COMFSFNVDXG74QXR&lid=LSTCOMFSFNVDXG74QXRY8FRH2&marketplace=FLIPKART&page=67',\n",
       " 'https://www.flipkart.com/hp-pavilion-gaming-ryzen-5-quad-core-3550h-8-gb-1-tb-hdd-windows-10-home-4-gb-graphics-nvidia-geforce-gtx-1650-15-ec0101ax-laptop/product-reviews/itma1af6bf593dc8?pid=COMFSFNVDXG74QXR&lid=LSTCOMFSFNVDXG74QXRY8FRH2&marketplace=FLIPKART&page=68',\n",
       " 'https://www.flipkart.com/hp-pavilion-gaming-ryzen-5-quad-core-3550h-8-gb-1-tb-hdd-windows-10-home-4-gb-graphics-nvidia-geforce-gtx-1650-15-ec0101ax-laptop/product-reviews/itma1af6bf593dc8?pid=COMFSFNVDXG74QXR&lid=LSTCOMFSFNVDXG74QXRY8FRH2&marketplace=FLIPKART&page=69',\n",
       " 'https://www.flipkart.com/hp-pavilion-gaming-ryzen-5-quad-core-3550h-8-gb-1-tb-hdd-windows-10-home-4-gb-graphics-nvidia-geforce-gtx-1650-15-ec0101ax-laptop/product-reviews/itma1af6bf593dc8?pid=COMFSFNVDXG74QXR&lid=LSTCOMFSFNVDXG74QXRY8FRH2&marketplace=FLIPKART&page=70',\n",
       " 'https://www.flipkart.com/hp-pavilion-gaming-ryzen-5-quad-core-3550h-8-gb-1-tb-hdd-windows-10-home-4-gb-graphics-nvidia-geforce-gtx-1650-15-ec0101ax-laptop/product-reviews/itma1af6bf593dc8?pid=COMFSFNVDXG74QXR&lid=LSTCOMFSFNVDXG74QXRY8FRH2&marketplace=FLIPKART&page=71',\n",
       " 'https://www.flipkart.com/hp-pavilion-gaming-ryzen-5-quad-core-3550h-8-gb-1-tb-hdd-windows-10-home-4-gb-graphics-nvidia-geforce-gtx-1650-15-ec0101ax-laptop/product-reviews/itma1af6bf593dc8?pid=COMFSFNVDXG74QXR&lid=LSTCOMFSFNVDXG74QXRY8FRH2&marketplace=FLIPKART&page=72',\n",
       " 'https://www.flipkart.com/hp-pavilion-gaming-ryzen-5-quad-core-3550h-8-gb-1-tb-hdd-windows-10-home-4-gb-graphics-nvidia-geforce-gtx-1650-15-ec0101ax-laptop/product-reviews/itma1af6bf593dc8?pid=COMFSFNVDXG74QXR&lid=LSTCOMFSFNVDXG74QXRY8FRH2&marketplace=FLIPKART&page=73',\n",
       " 'https://www.flipkart.com/hp-pavilion-gaming-ryzen-5-quad-core-3550h-8-gb-1-tb-hdd-windows-10-home-4-gb-graphics-nvidia-geforce-gtx-1650-15-ec0101ax-laptop/product-reviews/itma1af6bf593dc8?pid=COMFSFNVDXG74QXR&lid=LSTCOMFSFNVDXG74QXRY8FRH2&marketplace=FLIPKART&page=74',\n",
       " 'https://www.flipkart.com/hp-pavilion-gaming-ryzen-5-quad-core-3550h-8-gb-1-tb-hdd-windows-10-home-4-gb-graphics-nvidia-geforce-gtx-1650-15-ec0101ax-laptop/product-reviews/itma1af6bf593dc8?pid=COMFSFNVDXG74QXR&lid=LSTCOMFSFNVDXG74QXRY8FRH2&marketplace=FLIPKART&page=75',\n",
       " 'https://www.flipkart.com/hp-pavilion-gaming-ryzen-5-quad-core-3550h-8-gb-1-tb-hdd-windows-10-home-4-gb-graphics-nvidia-geforce-gtx-1650-15-ec0101ax-laptop/product-reviews/itma1af6bf593dc8?pid=COMFSFNVDXG74QXR&lid=LSTCOMFSFNVDXG74QXRY8FRH2&marketplace=FLIPKART&page=76',\n",
       " 'https://www.flipkart.com/hp-pavilion-gaming-ryzen-5-quad-core-3550h-8-gb-1-tb-hdd-windows-10-home-4-gb-graphics-nvidia-geforce-gtx-1650-15-ec0101ax-laptop/product-reviews/itma1af6bf593dc8?pid=COMFSFNVDXG74QXR&lid=LSTCOMFSFNVDXG74QXRY8FRH2&marketplace=FLIPKART&page=77',\n",
       " 'https://www.flipkart.com/hp-pavilion-gaming-ryzen-5-quad-core-3550h-8-gb-1-tb-hdd-windows-10-home-4-gb-graphics-nvidia-geforce-gtx-1650-15-ec0101ax-laptop/product-reviews/itma1af6bf593dc8?pid=COMFSFNVDXG74QXR&lid=LSTCOMFSFNVDXG74QXRY8FRH2&marketplace=FLIPKART&page=78',\n",
       " 'https://www.flipkart.com/hp-pavilion-gaming-ryzen-5-quad-core-3550h-8-gb-1-tb-hdd-windows-10-home-4-gb-graphics-nvidia-geforce-gtx-1650-15-ec0101ax-laptop/product-reviews/itma1af6bf593dc8?pid=COMFSFNVDXG74QXR&lid=LSTCOMFSFNVDXG74QXRY8FRH2&marketplace=FLIPKART&page=79',\n",
       " 'https://www.flipkart.com/hp-pavilion-gaming-ryzen-5-quad-core-3550h-8-gb-1-tb-hdd-windows-10-home-4-gb-graphics-nvidia-geforce-gtx-1650-15-ec0101ax-laptop/product-reviews/itma1af6bf593dc8?pid=COMFSFNVDXG74QXR&lid=LSTCOMFSFNVDXG74QXRY8FRH2&marketplace=FLIPKART&page=80',\n",
       " 'https://www.flipkart.com/hp-pavilion-gaming-ryzen-5-quad-core-3550h-8-gb-1-tb-hdd-windows-10-home-4-gb-graphics-nvidia-geforce-gtx-1650-15-ec0101ax-laptop/product-reviews/itma1af6bf593dc8?pid=COMFSFNVDXG74QXR&lid=LSTCOMFSFNVDXG74QXRY8FRH2&marketplace=FLIPKART&page=81',\n",
       " 'https://www.flipkart.com/hp-pavilion-gaming-ryzen-5-quad-core-3550h-8-gb-1-tb-hdd-windows-10-home-4-gb-graphics-nvidia-geforce-gtx-1650-15-ec0101ax-laptop/product-reviews/itma1af6bf593dc8?pid=COMFSFNVDXG74QXR&lid=LSTCOMFSFNVDXG74QXRY8FRH2&marketplace=FLIPKART&page=82',\n",
       " 'https://www.flipkart.com/hp-pavilion-gaming-ryzen-5-quad-core-3550h-8-gb-1-tb-hdd-windows-10-home-4-gb-graphics-nvidia-geforce-gtx-1650-15-ec0101ax-laptop/product-reviews/itma1af6bf593dc8?pid=COMFSFNVDXG74QXR&lid=LSTCOMFSFNVDXG74QXRY8FRH2&marketplace=FLIPKART&page=83',\n",
       " 'https://www.flipkart.com/hp-pavilion-gaming-ryzen-5-quad-core-3550h-8-gb-1-tb-hdd-windows-10-home-4-gb-graphics-nvidia-geforce-gtx-1650-15-ec0101ax-laptop/product-reviews/itma1af6bf593dc8?pid=COMFSFNVDXG74QXR&lid=LSTCOMFSFNVDXG74QXRY8FRH2&marketplace=FLIPKART&page=84',\n",
       " 'https://www.flipkart.com/hp-pavilion-gaming-ryzen-5-quad-core-3550h-8-gb-1-tb-hdd-windows-10-home-4-gb-graphics-nvidia-geforce-gtx-1650-15-ec0101ax-laptop/product-reviews/itma1af6bf593dc8?pid=COMFSFNVDXG74QXR&lid=LSTCOMFSFNVDXG74QXRY8FRH2&marketplace=FLIPKART&page=85',\n",
       " 'https://www.flipkart.com/hp-pavilion-gaming-ryzen-5-quad-core-3550h-8-gb-1-tb-hdd-windows-10-home-4-gb-graphics-nvidia-geforce-gtx-1650-15-ec0101ax-laptop/product-reviews/itma1af6bf593dc8?pid=COMFSFNVDXG74QXR&lid=LSTCOMFSFNVDXG74QXRY8FRH2&marketplace=FLIPKART&page=86',\n",
       " 'https://www.flipkart.com/hp-pavilion-gaming-ryzen-5-quad-core-3550h-8-gb-1-tb-hdd-windows-10-home-4-gb-graphics-nvidia-geforce-gtx-1650-15-ec0101ax-laptop/product-reviews/itma1af6bf593dc8?pid=COMFSFNVDXG74QXR&lid=LSTCOMFSFNVDXG74QXRY8FRH2&marketplace=FLIPKART&page=87',\n",
       " 'https://www.flipkart.com/hp-pavilion-gaming-ryzen-5-quad-core-3550h-8-gb-1-tb-hdd-windows-10-home-4-gb-graphics-nvidia-geforce-gtx-1650-15-ec0101ax-laptop/product-reviews/itma1af6bf593dc8?pid=COMFSFNVDXG74QXR&lid=LSTCOMFSFNVDXG74QXRY8FRH2&marketplace=FLIPKART&page=88',\n",
       " 'https://www.flipkart.com/hp-pavilion-gaming-ryzen-5-quad-core-3550h-8-gb-1-tb-hdd-windows-10-home-4-gb-graphics-nvidia-geforce-gtx-1650-15-ec0101ax-laptop/product-reviews/itma1af6bf593dc8?pid=COMFSFNVDXG74QXR&lid=LSTCOMFSFNVDXG74QXRY8FRH2&marketplace=FLIPKART&page=89',\n",
       " 'https://www.flipkart.com/hp-pavilion-gaming-ryzen-5-quad-core-3550h-8-gb-1-tb-hdd-windows-10-home-4-gb-graphics-nvidia-geforce-gtx-1650-15-ec0101ax-laptop/product-reviews/itma1af6bf593dc8?pid=COMFSFNVDXG74QXR&lid=LSTCOMFSFNVDXG74QXRY8FRH2&marketplace=FLIPKART&page=90',\n",
       " 'https://www.flipkart.com/hp-pavilion-gaming-ryzen-5-quad-core-3550h-8-gb-1-tb-hdd-windows-10-home-4-gb-graphics-nvidia-geforce-gtx-1650-15-ec0101ax-laptop/product-reviews/itma1af6bf593dc8?pid=COMFSFNVDXG74QXR&lid=LSTCOMFSFNVDXG74QXRY8FRH2&marketplace=FLIPKART&page=91',\n",
       " 'https://www.flipkart.com/hp-pavilion-gaming-ryzen-5-quad-core-3550h-8-gb-1-tb-hdd-windows-10-home-4-gb-graphics-nvidia-geforce-gtx-1650-15-ec0101ax-laptop/product-reviews/itma1af6bf593dc8?pid=COMFSFNVDXG74QXR&lid=LSTCOMFSFNVDXG74QXRY8FRH2&marketplace=FLIPKART&page=92',\n",
       " 'https://www.flipkart.com/hp-pavilion-gaming-ryzen-5-quad-core-3550h-8-gb-1-tb-hdd-windows-10-home-4-gb-graphics-nvidia-geforce-gtx-1650-15-ec0101ax-laptop/product-reviews/itma1af6bf593dc8?pid=COMFSFNVDXG74QXR&lid=LSTCOMFSFNVDXG74QXRY8FRH2&marketplace=FLIPKART&page=93',\n",
       " 'https://www.flipkart.com/hp-pavilion-gaming-ryzen-5-quad-core-3550h-8-gb-1-tb-hdd-windows-10-home-4-gb-graphics-nvidia-geforce-gtx-1650-15-ec0101ax-laptop/product-reviews/itma1af6bf593dc8?pid=COMFSFNVDXG74QXR&lid=LSTCOMFSFNVDXG74QXRY8FRH2&marketplace=FLIPKART&page=94',\n",
       " 'https://www.flipkart.com/hp-pavilion-gaming-ryzen-5-quad-core-3550h-8-gb-1-tb-hdd-windows-10-home-4-gb-graphics-nvidia-geforce-gtx-1650-15-ec0101ax-laptop/product-reviews/itma1af6bf593dc8?pid=COMFSFNVDXG74QXR&lid=LSTCOMFSFNVDXG74QXRY8FRH2&marketplace=FLIPKART&page=95',\n",
       " 'https://www.flipkart.com/hp-pavilion-gaming-ryzen-5-quad-core-3550h-8-gb-1-tb-hdd-windows-10-home-4-gb-graphics-nvidia-geforce-gtx-1650-15-ec0101ax-laptop/product-reviews/itma1af6bf593dc8?pid=COMFSFNVDXG74QXR&lid=LSTCOMFSFNVDXG74QXRY8FRH2&marketplace=FLIPKART&page=96',\n",
       " 'https://www.flipkart.com/hp-pavilion-gaming-ryzen-5-quad-core-3550h-8-gb-1-tb-hdd-windows-10-home-4-gb-graphics-nvidia-geforce-gtx-1650-15-ec0101ax-laptop/product-reviews/itma1af6bf593dc8?pid=COMFSFNVDXG74QXR&lid=LSTCOMFSFNVDXG74QXRY8FRH2&marketplace=FLIPKART&page=97',\n",
       " 'https://www.flipkart.com/hp-pavilion-gaming-ryzen-5-quad-core-3550h-8-gb-1-tb-hdd-windows-10-home-4-gb-graphics-nvidia-geforce-gtx-1650-15-ec0101ax-laptop/product-reviews/itma1af6bf593dc8?pid=COMFSFNVDXG74QXR&lid=LSTCOMFSFNVDXG74QXRY8FRH2&marketplace=FLIPKART&page=98',\n",
       " 'https://www.flipkart.com/hp-pavilion-gaming-ryzen-5-quad-core-3550h-8-gb-1-tb-hdd-windows-10-home-4-gb-graphics-nvidia-geforce-gtx-1650-15-ec0101ax-laptop/product-reviews/itma1af6bf593dc8?pid=COMFSFNVDXG74QXR&lid=LSTCOMFSFNVDXG74QXRY8FRH2&marketplace=FLIPKART&page=99',\n",
       " 'https://www.flipkart.com/hp-pavilion-gaming-ryzen-5-quad-core-3550h-8-gb-1-tb-hdd-windows-10-home-4-gb-graphics-nvidia-geforce-gtx-1650-15-ec0101ax-laptop/product-reviews/itma1af6bf593dc8?pid=COMFSFNVDXG74QXR&lid=LSTCOMFSFNVDXG74QXRY8FRH2&marketplace=FLIPKART&page=100',\n",
       " 'https://www.flipkart.com/hp-pavilion-gaming-ryzen-5-quad-core-3550h-8-gb-1-tb-hdd-windows-10-home-4-gb-graphics-nvidia-geforce-gtx-1650-15-ec0101ax-laptop/product-reviews/itma1af6bf593dc8?pid=COMFSFNVDXG74QXR&lid=LSTCOMFSFNVDXG74QXRY8FRH2&marketplace=FLIPKART&page=101',\n",
       " 'https://www.flipkart.com/hp-pavilion-gaming-ryzen-5-quad-core-3550h-8-gb-1-tb-hdd-windows-10-home-4-gb-graphics-nvidia-geforce-gtx-1650-15-ec0101ax-laptop/product-reviews/itma1af6bf593dc8?pid=COMFSFNVDXG74QXR&lid=LSTCOMFSFNVDXG74QXRY8FRH2&marketplace=FLIPKART&page=102',\n",
       " 'https://www.flipkart.com/hp-pavilion-gaming-ryzen-5-quad-core-3550h-8-gb-1-tb-hdd-windows-10-home-4-gb-graphics-nvidia-geforce-gtx-1650-15-ec0101ax-laptop/product-reviews/itma1af6bf593dc8?pid=COMFSFNVDXG74QXR&lid=LSTCOMFSFNVDXG74QXRY8FRH2&marketplace=FLIPKART&page=103',\n",
       " 'https://www.flipkart.com/hp-pavilion-gaming-ryzen-5-quad-core-3550h-8-gb-1-tb-hdd-windows-10-home-4-gb-graphics-nvidia-geforce-gtx-1650-15-ec0101ax-laptop/product-reviews/itma1af6bf593dc8?pid=COMFSFNVDXG74QXR&lid=LSTCOMFSFNVDXG74QXRY8FRH2&marketplace=FLIPKART&page=104',\n",
       " 'https://www.flipkart.com/hp-pavilion-gaming-ryzen-5-quad-core-3550h-8-gb-1-tb-hdd-windows-10-home-4-gb-graphics-nvidia-geforce-gtx-1650-15-ec0101ax-laptop/product-reviews/itma1af6bf593dc8?pid=COMFSFNVDXG74QXR&lid=LSTCOMFSFNVDXG74QXRY8FRH2&marketplace=FLIPKART&page=105',\n",
       " 'https://www.flipkart.com/hp-pavilion-gaming-ryzen-5-quad-core-3550h-8-gb-1-tb-hdd-windows-10-home-4-gb-graphics-nvidia-geforce-gtx-1650-15-ec0101ax-laptop/product-reviews/itma1af6bf593dc8?pid=COMFSFNVDXG74QXR&lid=LSTCOMFSFNVDXG74QXRY8FRH2&marketplace=FLIPKART&page=106',\n",
       " 'https://www.flipkart.com/hp-pavilion-gaming-ryzen-5-quad-core-3550h-8-gb-1-tb-hdd-windows-10-home-4-gb-graphics-nvidia-geforce-gtx-1650-15-ec0101ax-laptop/product-reviews/itma1af6bf593dc8?pid=COMFSFNVDXG74QXR&lid=LSTCOMFSFNVDXG74QXRY8FRH2&marketplace=FLIPKART&page=107',\n",
       " 'https://www.flipkart.com/hp-pavilion-gaming-ryzen-5-quad-core-3550h-8-gb-1-tb-hdd-windows-10-home-4-gb-graphics-nvidia-geforce-gtx-1650-15-ec0101ax-laptop/product-reviews/itma1af6bf593dc8?pid=COMFSFNVDXG74QXR&lid=LSTCOMFSFNVDXG74QXRY8FRH2&marketplace=FLIPKART&page=108',\n",
       " 'https://www.flipkart.com/hp-pavilion-gaming-ryzen-5-quad-core-3550h-8-gb-1-tb-hdd-windows-10-home-4-gb-graphics-nvidia-geforce-gtx-1650-15-ec0101ax-laptop/product-reviews/itma1af6bf593dc8?pid=COMFSFNVDXG74QXR&lid=LSTCOMFSFNVDXG74QXRY8FRH2&marketplace=FLIPKART&page=109',\n",
       " 'https://www.flipkart.com/hp-pavilion-gaming-ryzen-5-quad-core-3550h-8-gb-1-tb-hdd-windows-10-home-4-gb-graphics-nvidia-geforce-gtx-1650-15-ec0101ax-laptop/product-reviews/itma1af6bf593dc8?pid=COMFSFNVDXG74QXR&lid=LSTCOMFSFNVDXG74QXRY8FRH2&marketplace=FLIPKART&page=110',\n",
       " 'https://www.flipkart.com/hp-pavilion-gaming-ryzen-5-quad-core-3550h-8-gb-1-tb-hdd-windows-10-home-4-gb-graphics-nvidia-geforce-gtx-1650-15-ec0101ax-laptop/product-reviews/itma1af6bf593dc8?pid=COMFSFNVDXG74QXR&lid=LSTCOMFSFNVDXG74QXRY8FRH2&marketplace=FLIPKART&page=111',\n",
       " 'https://www.flipkart.com/hp-pavilion-gaming-ryzen-5-quad-core-3550h-8-gb-1-tb-hdd-windows-10-home-4-gb-graphics-nvidia-geforce-gtx-1650-15-ec0101ax-laptop/product-reviews/itma1af6bf593dc8?pid=COMFSFNVDXG74QXR&lid=LSTCOMFSFNVDXG74QXRY8FRH2&marketplace=FLIPKART&page=112',\n",
       " 'https://www.flipkart.com/hp-pavilion-gaming-ryzen-5-quad-core-3550h-8-gb-1-tb-hdd-windows-10-home-4-gb-graphics-nvidia-geforce-gtx-1650-15-ec0101ax-laptop/product-reviews/itma1af6bf593dc8?pid=COMFSFNVDXG74QXR&lid=LSTCOMFSFNVDXG74QXRY8FRH2&marketplace=FLIPKART&page=113',\n",
       " 'https://www.flipkart.com/hp-pavilion-gaming-ryzen-5-quad-core-3550h-8-gb-1-tb-hdd-windows-10-home-4-gb-graphics-nvidia-geforce-gtx-1650-15-ec0101ax-laptop/product-reviews/itma1af6bf593dc8?pid=COMFSFNVDXG74QXR&lid=LSTCOMFSFNVDXG74QXRY8FRH2&marketplace=FLIPKART&page=114',\n",
       " 'https://www.flipkart.com/hp-pavilion-gaming-ryzen-5-quad-core-3550h-8-gb-1-tb-hdd-windows-10-home-4-gb-graphics-nvidia-geforce-gtx-1650-15-ec0101ax-laptop/product-reviews/itma1af6bf593dc8?pid=COMFSFNVDXG74QXR&lid=LSTCOMFSFNVDXG74QXRY8FRH2&marketplace=FLIPKART&page=115',\n",
       " 'https://www.flipkart.com/hp-pavilion-gaming-ryzen-5-quad-core-3550h-8-gb-1-tb-hdd-windows-10-home-4-gb-graphics-nvidia-geforce-gtx-1650-15-ec0101ax-laptop/product-reviews/itma1af6bf593dc8?pid=COMFSFNVDXG74QXR&lid=LSTCOMFSFNVDXG74QXRY8FRH2&marketplace=FLIPKART&page=116',\n",
       " 'https://www.flipkart.com/hp-pavilion-gaming-ryzen-5-quad-core-3550h-8-gb-1-tb-hdd-windows-10-home-4-gb-graphics-nvidia-geforce-gtx-1650-15-ec0101ax-laptop/product-reviews/itma1af6bf593dc8?pid=COMFSFNVDXG74QXR&lid=LSTCOMFSFNVDXG74QXRY8FRH2&marketplace=FLIPKART&page=117',\n",
       " 'https://www.flipkart.com/hp-pavilion-gaming-ryzen-5-quad-core-3550h-8-gb-1-tb-hdd-windows-10-home-4-gb-graphics-nvidia-geforce-gtx-1650-15-ec0101ax-laptop/product-reviews/itma1af6bf593dc8?pid=COMFSFNVDXG74QXR&lid=LSTCOMFSFNVDXG74QXRY8FRH2&marketplace=FLIPKART&page=118',\n",
       " 'https://www.flipkart.com/hp-pavilion-gaming-ryzen-5-quad-core-3550h-8-gb-1-tb-hdd-windows-10-home-4-gb-graphics-nvidia-geforce-gtx-1650-15-ec0101ax-laptop/product-reviews/itma1af6bf593dc8?pid=COMFSFNVDXG74QXR&lid=LSTCOMFSFNVDXG74QXRY8FRH2&marketplace=FLIPKART&page=119',\n",
       " 'https://www.flipkart.com/hp-pavilion-gaming-ryzen-5-quad-core-3550h-8-gb-1-tb-hdd-windows-10-home-4-gb-graphics-nvidia-geforce-gtx-1650-15-ec0101ax-laptop/product-reviews/itma1af6bf593dc8?pid=COMFSFNVDXG74QXR&lid=LSTCOMFSFNVDXG74QXRY8FRH2&marketplace=FLIPKART&page=120',\n",
       " 'https://www.flipkart.com/hp-pavilion-gaming-ryzen-5-quad-core-3550h-8-gb-1-tb-hdd-windows-10-home-4-gb-graphics-nvidia-geforce-gtx-1650-15-ec0101ax-laptop/product-reviews/itma1af6bf593dc8?pid=COMFSFNVDXG74QXR&lid=LSTCOMFSFNVDXG74QXRY8FRH2&marketplace=FLIPKART&page=121',\n",
       " 'https://www.flipkart.com/hp-pavilion-gaming-ryzen-5-quad-core-3550h-8-gb-1-tb-hdd-windows-10-home-4-gb-graphics-nvidia-geforce-gtx-1650-15-ec0101ax-laptop/product-reviews/itma1af6bf593dc8?pid=COMFSFNVDXG74QXR&lid=LSTCOMFSFNVDXG74QXRY8FRH2&marketplace=FLIPKART&page=122',\n",
       " 'https://www.flipkart.com/hp-pavilion-gaming-ryzen-5-quad-core-3550h-8-gb-1-tb-hdd-windows-10-home-4-gb-graphics-nvidia-geforce-gtx-1650-15-ec0101ax-laptop/product-reviews/itma1af6bf593dc8?pid=COMFSFNVDXG74QXR&lid=LSTCOMFSFNVDXG74QXRY8FRH2&marketplace=FLIPKART&page=123',\n",
       " 'https://www.flipkart.com/hp-pavilion-gaming-ryzen-5-quad-core-3550h-8-gb-1-tb-hdd-windows-10-home-4-gb-graphics-nvidia-geforce-gtx-1650-15-ec0101ax-laptop/product-reviews/itma1af6bf593dc8?pid=COMFSFNVDXG74QXR&lid=LSTCOMFSFNVDXG74QXRY8FRH2&marketplace=FLIPKART&page=124',\n",
       " 'https://www.flipkart.com/hp-pavilion-gaming-ryzen-5-quad-core-3550h-8-gb-1-tb-hdd-windows-10-home-4-gb-graphics-nvidia-geforce-gtx-1650-15-ec0101ax-laptop/product-reviews/itma1af6bf593dc8?pid=COMFSFNVDXG74QXR&lid=LSTCOMFSFNVDXG74QXRY8FRH2&marketplace=FLIPKART&page=125',\n",
       " 'https://www.flipkart.com/hp-pavilion-gaming-ryzen-5-quad-core-3550h-8-gb-1-tb-hdd-windows-10-home-4-gb-graphics-nvidia-geforce-gtx-1650-15-ec0101ax-laptop/product-reviews/itma1af6bf593dc8?pid=COMFSFNVDXG74QXR&lid=LSTCOMFSFNVDXG74QXRY8FRH2&marketplace=FLIPKART&page=126',\n",
       " 'https://www.flipkart.com/hp-pavilion-gaming-ryzen-5-quad-core-3550h-8-gb-1-tb-hdd-windows-10-home-4-gb-graphics-nvidia-geforce-gtx-1650-15-ec0101ax-laptop/product-reviews/itma1af6bf593dc8?pid=COMFSFNVDXG74QXR&lid=LSTCOMFSFNVDXG74QXRY8FRH2&marketplace=FLIPKART&page=127',\n",
       " 'https://www.flipkart.com/hp-pavilion-gaming-ryzen-5-quad-core-3550h-8-gb-1-tb-hdd-windows-10-home-4-gb-graphics-nvidia-geforce-gtx-1650-15-ec0101ax-laptop/product-reviews/itma1af6bf593dc8?pid=COMFSFNVDXG74QXR&lid=LSTCOMFSFNVDXG74QXRY8FRH2&marketplace=FLIPKART&page=128',\n",
       " 'https://www.flipkart.com/hp-pavilion-gaming-ryzen-5-quad-core-3550h-8-gb-1-tb-hdd-windows-10-home-4-gb-graphics-nvidia-geforce-gtx-1650-15-ec0101ax-laptop/product-reviews/itma1af6bf593dc8?pid=COMFSFNVDXG74QXR&lid=LSTCOMFSFNVDXG74QXRY8FRH2&marketplace=FLIPKART&page=129',\n",
       " 'https://www.flipkart.com/hp-pavilion-gaming-ryzen-5-quad-core-3550h-8-gb-1-tb-hdd-windows-10-home-4-gb-graphics-nvidia-geforce-gtx-1650-15-ec0101ax-laptop/product-reviews/itma1af6bf593dc8?pid=COMFSFNVDXG74QXR&lid=LSTCOMFSFNVDXG74QXRY8FRH2&marketplace=FLIPKART&page=130',\n",
       " 'https://www.flipkart.com/hp-pavilion-gaming-ryzen-5-quad-core-3550h-8-gb-1-tb-hdd-windows-10-home-4-gb-graphics-nvidia-geforce-gtx-1650-15-ec0101ax-laptop/product-reviews/itma1af6bf593dc8?pid=COMFSFNVDXG74QXR&lid=LSTCOMFSFNVDXG74QXRY8FRH2&marketplace=FLIPKART&page=131',\n",
       " 'https://www.flipkart.com/hp-pavilion-gaming-ryzen-5-quad-core-3550h-8-gb-1-tb-hdd-windows-10-home-4-gb-graphics-nvidia-geforce-gtx-1650-15-ec0101ax-laptop/product-reviews/itma1af6bf593dc8?pid=COMFSFNVDXG74QXR&lid=LSTCOMFSFNVDXG74QXRY8FRH2&marketplace=FLIPKART&page=132',\n",
       " 'https://www.flipkart.com/hp-pavilion-gaming-ryzen-5-quad-core-3550h-8-gb-1-tb-hdd-windows-10-home-4-gb-graphics-nvidia-geforce-gtx-1650-15-ec0101ax-laptop/product-reviews/itma1af6bf593dc8?pid=COMFSFNVDXG74QXR&lid=LSTCOMFSFNVDXG74QXRY8FRH2&marketplace=FLIPKART&page=133',\n",
       " 'https://www.flipkart.com/hp-pavilion-gaming-ryzen-5-quad-core-3550h-8-gb-1-tb-hdd-windows-10-home-4-gb-graphics-nvidia-geforce-gtx-1650-15-ec0101ax-laptop/product-reviews/itma1af6bf593dc8?pid=COMFSFNVDXG74QXR&lid=LSTCOMFSFNVDXG74QXRY8FRH2&marketplace=FLIPKART&page=134',\n",
       " 'https://www.flipkart.com/hp-pavilion-gaming-ryzen-5-quad-core-3550h-8-gb-1-tb-hdd-windows-10-home-4-gb-graphics-nvidia-geforce-gtx-1650-15-ec0101ax-laptop/product-reviews/itma1af6bf593dc8?pid=COMFSFNVDXG74QXR&lid=LSTCOMFSFNVDXG74QXRY8FRH2&marketplace=FLIPKART&page=135',\n",
       " 'https://www.flipkart.com/hp-pavilion-gaming-ryzen-5-quad-core-3550h-8-gb-1-tb-hdd-windows-10-home-4-gb-graphics-nvidia-geforce-gtx-1650-15-ec0101ax-laptop/product-reviews/itma1af6bf593dc8?pid=COMFSFNVDXG74QXR&lid=LSTCOMFSFNVDXG74QXRY8FRH2&marketplace=FLIPKART&page=136',\n",
       " 'https://www.flipkart.com/hp-pavilion-gaming-ryzen-5-quad-core-3550h-8-gb-1-tb-hdd-windows-10-home-4-gb-graphics-nvidia-geforce-gtx-1650-15-ec0101ax-laptop/product-reviews/itma1af6bf593dc8?pid=COMFSFNVDXG74QXR&lid=LSTCOMFSFNVDXG74QXRY8FRH2&marketplace=FLIPKART&page=137',\n",
       " 'https://www.flipkart.com/hp-pavilion-gaming-ryzen-5-quad-core-3550h-8-gb-1-tb-hdd-windows-10-home-4-gb-graphics-nvidia-geforce-gtx-1650-15-ec0101ax-laptop/product-reviews/itma1af6bf593dc8?pid=COMFSFNVDXG74QXR&lid=LSTCOMFSFNVDXG74QXRY8FRH2&marketplace=FLIPKART&page=138',\n",
       " 'https://www.flipkart.com/hp-pavilion-gaming-ryzen-5-quad-core-3550h-8-gb-1-tb-hdd-windows-10-home-4-gb-graphics-nvidia-geforce-gtx-1650-15-ec0101ax-laptop/product-reviews/itma1af6bf593dc8?pid=COMFSFNVDXG74QXR&lid=LSTCOMFSFNVDXG74QXRY8FRH2&marketplace=FLIPKART&page=139',\n",
       " 'https://www.flipkart.com/hp-pavilion-gaming-ryzen-5-quad-core-3550h-8-gb-1-tb-hdd-windows-10-home-4-gb-graphics-nvidia-geforce-gtx-1650-15-ec0101ax-laptop/product-reviews/itma1af6bf593dc8?pid=COMFSFNVDXG74QXR&lid=LSTCOMFSFNVDXG74QXRY8FRH2&marketplace=FLIPKART&page=140',\n",
       " 'https://www.flipkart.com/hp-pavilion-gaming-ryzen-5-quad-core-3550h-8-gb-1-tb-hdd-windows-10-home-4-gb-graphics-nvidia-geforce-gtx-1650-15-ec0101ax-laptop/product-reviews/itma1af6bf593dc8?pid=COMFSFNVDXG74QXR&lid=LSTCOMFSFNVDXG74QXRY8FRH2&marketplace=FLIPKART&page=141',\n",
       " 'https://www.flipkart.com/hp-pavilion-gaming-ryzen-5-quad-core-3550h-8-gb-1-tb-hdd-windows-10-home-4-gb-graphics-nvidia-geforce-gtx-1650-15-ec0101ax-laptop/product-reviews/itma1af6bf593dc8?pid=COMFSFNVDXG74QXR&lid=LSTCOMFSFNVDXG74QXRY8FRH2&marketplace=FLIPKART&page=142',\n",
       " 'https://www.flipkart.com/hp-pavilion-gaming-ryzen-5-quad-core-3550h-8-gb-1-tb-hdd-windows-10-home-4-gb-graphics-nvidia-geforce-gtx-1650-15-ec0101ax-laptop/product-reviews/itma1af6bf593dc8?pid=COMFSFNVDXG74QXR&lid=LSTCOMFSFNVDXG74QXRY8FRH2&marketplace=FLIPKART&page=143',\n",
       " 'https://www.flipkart.com/hp-pavilion-gaming-ryzen-5-quad-core-3550h-8-gb-1-tb-hdd-windows-10-home-4-gb-graphics-nvidia-geforce-gtx-1650-15-ec0101ax-laptop/product-reviews/itma1af6bf593dc8?pid=COMFSFNVDXG74QXR&lid=LSTCOMFSFNVDXG74QXRY8FRH2&marketplace=FLIPKART&page=144',\n",
       " 'https://www.flipkart.com/hp-pavilion-gaming-ryzen-5-quad-core-3550h-8-gb-1-tb-hdd-windows-10-home-4-gb-graphics-nvidia-geforce-gtx-1650-15-ec0101ax-laptop/product-reviews/itma1af6bf593dc8?pid=COMFSFNVDXG74QXR&lid=LSTCOMFSFNVDXG74QXRY8FRH2&marketplace=FLIPKART&page=145',\n",
       " 'https://www.flipkart.com/hp-pavilion-gaming-ryzen-5-quad-core-3550h-8-gb-1-tb-hdd-windows-10-home-4-gb-graphics-nvidia-geforce-gtx-1650-15-ec0101ax-laptop/product-reviews/itma1af6bf593dc8?pid=COMFSFNVDXG74QXR&lid=LSTCOMFSFNVDXG74QXRY8FRH2&marketplace=FLIPKART&page=146']"
      ]
     },
     "execution_count": 12,
     "metadata": {},
     "output_type": "execute_result"
    }
   ],
   "source": [
    "List_of_url"
   ]
  },
  {
   "cell_type": "code",
   "execution_count": 13,
   "metadata": {},
   "outputs": [],
   "source": [
    "#going to the first url through our driver\n",
    "driver.get(List_of_url[0])"
   ]
  },
  {
   "cell_type": "code",
   "execution_count": 14,
   "metadata": {},
   "outputs": [
    {
     "name": "stderr",
     "output_type": "stream",
     "text": [
      "100%|██████████| 146/146 [02:52<00:00,  1.18s/it]\n"
     ]
    }
   ],
   "source": [
    "#running a loop to extract all the required information from url\n",
    "Ratings=[]\n",
    "Full_review=[]\n",
    "from tqdm import tqdm\n",
    "for i in tqdm(List_of_url):\n",
    "    driver.get(i)\n",
    "    \n",
    "    \n",
    "    for j in driver.find_elements_by_xpath(\"//div[@class='_3LWZlK _1BLPMq' or @class='_3LWZlK _32lA32 _1BLPMq' or @class='_3LWZlK _1rdVr6 _1BLPMq']\"):\n",
    "        Ratings.append(j.text)\n",
    "            \n",
    "            \n",
    "    for k in driver.find_elements_by_xpath(\"//div[@class='t-ZTKy']/div/div\"):\n",
    "        Full_review.append(k.text.replace('\\n',' '))"
   ]
  },
  {
   "cell_type": "code",
   "execution_count": 15,
   "metadata": {},
   "outputs": [
    {
     "data": {
      "text/plain": [
       "['5',\n",
       " '5',\n",
       " '5',\n",
       " '4',\n",
       " '4',\n",
       " '4',\n",
       " '5',\n",
       " '4',\n",
       " '4',\n",
       " '4',\n",
       " '5',\n",
       " '5',\n",
       " '4',\n",
       " '4',\n",
       " '1',\n",
       " '5',\n",
       " '4',\n",
       " '5',\n",
       " '5',\n",
       " '5',\n",
       " '5',\n",
       " '1',\n",
       " '4',\n",
       " '4',\n",
       " '5',\n",
       " '5',\n",
       " '5',\n",
       " '4',\n",
       " '4',\n",
       " '4',\n",
       " '5',\n",
       " '5',\n",
       " '5',\n",
       " '3',\n",
       " '5',\n",
       " '4',\n",
       " '5',\n",
       " '5',\n",
       " '5',\n",
       " '5',\n",
       " '4',\n",
       " '4',\n",
       " '4',\n",
       " '4',\n",
       " '4',\n",
       " '4',\n",
       " '5',\n",
       " '4',\n",
       " '4',\n",
       " '5',\n",
       " '3',\n",
       " '5',\n",
       " '5',\n",
       " '5',\n",
       " '5',\n",
       " '5',\n",
       " '5',\n",
       " '4',\n",
       " '4',\n",
       " '4',\n",
       " '4',\n",
       " '4',\n",
       " '5',\n",
       " '4',\n",
       " '4',\n",
       " '5',\n",
       " '3',\n",
       " '5',\n",
       " '4',\n",
       " '5',\n",
       " '4',\n",
       " '5',\n",
       " '4',\n",
       " '5',\n",
       " '1',\n",
       " '4',\n",
       " '5',\n",
       " '4',\n",
       " '4',\n",
       " '5',\n",
       " '5',\n",
       " '5',\n",
       " '5',\n",
       " '4',\n",
       " '5',\n",
       " '2',\n",
       " '4',\n",
       " '1',\n",
       " '4',\n",
       " '5',\n",
       " '5',\n",
       " '3',\n",
       " '3',\n",
       " '5',\n",
       " '4',\n",
       " '3',\n",
       " '4',\n",
       " '5',\n",
       " '5',\n",
       " '5',\n",
       " '4',\n",
       " '5',\n",
       " '5',\n",
       " '3',\n",
       " '5',\n",
       " '5',\n",
       " '5',\n",
       " '3',\n",
       " '5',\n",
       " '5',\n",
       " '5',\n",
       " '4',\n",
       " '4',\n",
       " '5',\n",
       " '3',\n",
       " '2',\n",
       " '5',\n",
       " '5',\n",
       " '5',\n",
       " '4',\n",
       " '5',\n",
       " '4',\n",
       " '4',\n",
       " '3',\n",
       " '5',\n",
       " '5',\n",
       " '4',\n",
       " '3',\n",
       " '4',\n",
       " '4',\n",
       " '3',\n",
       " '5',\n",
       " '3',\n",
       " '5',\n",
       " '5',\n",
       " '5',\n",
       " '5',\n",
       " '5',\n",
       " '5',\n",
       " '4',\n",
       " '5',\n",
       " '4',\n",
       " '4',\n",
       " '5',\n",
       " '5',\n",
       " '5',\n",
       " '5',\n",
       " '4',\n",
       " '5',\n",
       " '5',\n",
       " '3',\n",
       " '5',\n",
       " '4',\n",
       " '5',\n",
       " '4',\n",
       " '4',\n",
       " '5',\n",
       " '5',\n",
       " '1',\n",
       " '4',\n",
       " '5',\n",
       " '1',\n",
       " '5',\n",
       " '5',\n",
       " '5',\n",
       " '5',\n",
       " '2',\n",
       " '3',\n",
       " '5',\n",
       " '2',\n",
       " '5',\n",
       " '5',\n",
       " '1',\n",
       " '5',\n",
       " '5',\n",
       " '2',\n",
       " '5',\n",
       " '5',\n",
       " '5',\n",
       " '5',\n",
       " '4',\n",
       " '4',\n",
       " '4',\n",
       " '1',\n",
       " '4',\n",
       " '5',\n",
       " '5',\n",
       " '4',\n",
       " '5',\n",
       " '3',\n",
       " '4',\n",
       " '4',\n",
       " '5',\n",
       " '1',\n",
       " '4',\n",
       " '5',\n",
       " '4',\n",
       " '5',\n",
       " '5',\n",
       " '4',\n",
       " '4',\n",
       " '1',\n",
       " '5',\n",
       " '5',\n",
       " '5',\n",
       " '3',\n",
       " '5',\n",
       " '5',\n",
       " '3',\n",
       " '4',\n",
       " '5',\n",
       " '4',\n",
       " '5',\n",
       " '4',\n",
       " '5',\n",
       " '4',\n",
       " '3',\n",
       " '4',\n",
       " '5',\n",
       " '4',\n",
       " '5',\n",
       " '4',\n",
       " '3',\n",
       " '5',\n",
       " '4',\n",
       " '4',\n",
       " '5',\n",
       " '5',\n",
       " '3',\n",
       " '5',\n",
       " '3',\n",
       " '1',\n",
       " '4',\n",
       " '1',\n",
       " '5',\n",
       " '5',\n",
       " '5',\n",
       " '5',\n",
       " '4',\n",
       " '5',\n",
       " '4',\n",
       " '4',\n",
       " '5',\n",
       " '5',\n",
       " '5',\n",
       " '5',\n",
       " '5',\n",
       " '5',\n",
       " '3',\n",
       " '5',\n",
       " '5',\n",
       " '5',\n",
       " '5',\n",
       " '5',\n",
       " '5',\n",
       " '5',\n",
       " '5',\n",
       " '4',\n",
       " '5',\n",
       " '3',\n",
       " '5',\n",
       " '3',\n",
       " '5',\n",
       " '5',\n",
       " '4',\n",
       " '5',\n",
       " '4',\n",
       " '5',\n",
       " '5',\n",
       " '5',\n",
       " '4',\n",
       " '5',\n",
       " '4',\n",
       " '5',\n",
       " '5',\n",
       " '5',\n",
       " '5',\n",
       " '4',\n",
       " '4',\n",
       " '1',\n",
       " '5',\n",
       " '5',\n",
       " '5',\n",
       " '1',\n",
       " '4',\n",
       " '5',\n",
       " '5',\n",
       " '5',\n",
       " '5',\n",
       " '5',\n",
       " '4',\n",
       " '4',\n",
       " '5',\n",
       " '5',\n",
       " '4',\n",
       " '2',\n",
       " '1',\n",
       " '4',\n",
       " '3',\n",
       " '5',\n",
       " '5',\n",
       " '1',\n",
       " '4',\n",
       " '4',\n",
       " '3',\n",
       " '4',\n",
       " '4',\n",
       " '5',\n",
       " '5',\n",
       " '4',\n",
       " '5',\n",
       " '5',\n",
       " '3',\n",
       " '5',\n",
       " '5',\n",
       " '3',\n",
       " '5',\n",
       " '1',\n",
       " '5',\n",
       " '5',\n",
       " '5',\n",
       " '5',\n",
       " '5',\n",
       " '4',\n",
       " '5',\n",
       " '5',\n",
       " '5',\n",
       " '5',\n",
       " '5',\n",
       " '5',\n",
       " '4',\n",
       " '5',\n",
       " '4',\n",
       " '4',\n",
       " '5',\n",
       " '4',\n",
       " '5',\n",
       " '1',\n",
       " '5',\n",
       " '4',\n",
       " '1',\n",
       " '1',\n",
       " '1',\n",
       " '4',\n",
       " '3',\n",
       " '3',\n",
       " '1',\n",
       " '5',\n",
       " '4',\n",
       " '5',\n",
       " '5',\n",
       " '4',\n",
       " '5',\n",
       " '5',\n",
       " '4',\n",
       " '4',\n",
       " '5',\n",
       " '4',\n",
       " '1',\n",
       " '1',\n",
       " '4',\n",
       " '1',\n",
       " '4',\n",
       " '5',\n",
       " '5',\n",
       " '3',\n",
       " '5',\n",
       " '2',\n",
       " '1',\n",
       " '5',\n",
       " '1',\n",
       " '4',\n",
       " '2',\n",
       " '2',\n",
       " '4',\n",
       " '4',\n",
       " '4',\n",
       " '5',\n",
       " '5',\n",
       " '4',\n",
       " '5',\n",
       " '5',\n",
       " '4',\n",
       " '4',\n",
       " '5',\n",
       " '5',\n",
       " '5',\n",
       " '5',\n",
       " '4',\n",
       " '4',\n",
       " '5',\n",
       " '3',\n",
       " '5',\n",
       " '4',\n",
       " '5',\n",
       " '4',\n",
       " '1',\n",
       " '3',\n",
       " '5',\n",
       " '5',\n",
       " '5',\n",
       " '2',\n",
       " '5',\n",
       " '5',\n",
       " '1',\n",
       " '5',\n",
       " '2',\n",
       " '5',\n",
       " '4',\n",
       " '5',\n",
       " '4',\n",
       " '1',\n",
       " '5',\n",
       " '4',\n",
       " '3',\n",
       " '4',\n",
       " '2',\n",
       " '3',\n",
       " '5',\n",
       " '1',\n",
       " '5',\n",
       " '4',\n",
       " '4',\n",
       " '5',\n",
       " '5',\n",
       " '3',\n",
       " '5',\n",
       " '3',\n",
       " '5',\n",
       " '3',\n",
       " '1',\n",
       " '5',\n",
       " '5',\n",
       " '4',\n",
       " '5',\n",
       " '5',\n",
       " '5',\n",
       " '5',\n",
       " '5',\n",
       " '4',\n",
       " '4',\n",
       " '5',\n",
       " '5',\n",
       " '5',\n",
       " '5',\n",
       " '4',\n",
       " '4',\n",
       " '5',\n",
       " '5',\n",
       " '5',\n",
       " '3',\n",
       " '3',\n",
       " '1',\n",
       " '5',\n",
       " '5',\n",
       " '5',\n",
       " '4',\n",
       " '5',\n",
       " '5',\n",
       " '5',\n",
       " '5',\n",
       " '5',\n",
       " '5',\n",
       " '5',\n",
       " '5',\n",
       " '4',\n",
       " '5',\n",
       " '5',\n",
       " '4',\n",
       " '5',\n",
       " '5',\n",
       " '1',\n",
       " '5',\n",
       " '5',\n",
       " '5',\n",
       " '4',\n",
       " '5',\n",
       " '4',\n",
       " '4',\n",
       " '5',\n",
       " '1',\n",
       " '5',\n",
       " '5',\n",
       " '5',\n",
       " '5',\n",
       " '1',\n",
       " '5',\n",
       " '4',\n",
       " '5',\n",
       " '4',\n",
       " '4',\n",
       " '5',\n",
       " '5',\n",
       " '4',\n",
       " '5',\n",
       " '2',\n",
       " '4',\n",
       " '5',\n",
       " '3',\n",
       " '3',\n",
       " '5',\n",
       " '4',\n",
       " '5',\n",
       " '5',\n",
       " '5',\n",
       " '4',\n",
       " '3',\n",
       " '2',\n",
       " '2',\n",
       " '5',\n",
       " '5',\n",
       " '4',\n",
       " '1',\n",
       " '5',\n",
       " '4',\n",
       " '5',\n",
       " '4',\n",
       " '3',\n",
       " '4',\n",
       " '1',\n",
       " '5',\n",
       " '5',\n",
       " '5',\n",
       " '3',\n",
       " '3',\n",
       " '5',\n",
       " '5',\n",
       " '5',\n",
       " '4',\n",
       " '3',\n",
       " '5',\n",
       " '4',\n",
       " '5',\n",
       " '5',\n",
       " '5',\n",
       " '4',\n",
       " '4',\n",
       " '5',\n",
       " '5',\n",
       " '5',\n",
       " '3',\n",
       " '3',\n",
       " '5',\n",
       " '5',\n",
       " '5',\n",
       " '5',\n",
       " '4',\n",
       " '4',\n",
       " '4',\n",
       " '5',\n",
       " '5',\n",
       " '2',\n",
       " '3',\n",
       " '3',\n",
       " '5',\n",
       " '4',\n",
       " '5',\n",
       " '4',\n",
       " '3',\n",
       " '5',\n",
       " '5',\n",
       " '5',\n",
       " '3',\n",
       " '5',\n",
       " '3',\n",
       " '5',\n",
       " '5',\n",
       " '4',\n",
       " '4',\n",
       " '5',\n",
       " '4',\n",
       " '5',\n",
       " '5',\n",
       " '4',\n",
       " '5',\n",
       " '3',\n",
       " '5',\n",
       " '2',\n",
       " '5',\n",
       " '4',\n",
       " '5',\n",
       " '4',\n",
       " '5',\n",
       " '4',\n",
       " '5',\n",
       " '5',\n",
       " '4',\n",
       " '5',\n",
       " '5',\n",
       " '5',\n",
       " '5',\n",
       " '4',\n",
       " '1',\n",
       " '5',\n",
       " '5',\n",
       " '1',\n",
       " '4',\n",
       " '2',\n",
       " '5',\n",
       " '5',\n",
       " '5',\n",
       " '5',\n",
       " '5',\n",
       " '5',\n",
       " '5',\n",
       " '4',\n",
       " '5',\n",
       " '5',\n",
       " '3',\n",
       " '5',\n",
       " '5',\n",
       " '5',\n",
       " '2',\n",
       " '4',\n",
       " '5',\n",
       " '3',\n",
       " '5',\n",
       " '5',\n",
       " '3',\n",
       " '4',\n",
       " '4',\n",
       " '4',\n",
       " '4',\n",
       " '5',\n",
       " '5',\n",
       " '5',\n",
       " '5',\n",
       " '5',\n",
       " '5',\n",
       " '5',\n",
       " '5',\n",
       " '5',\n",
       " '1',\n",
       " '1',\n",
       " '1',\n",
       " '1',\n",
       " '5',\n",
       " '2',\n",
       " '2',\n",
       " '1',\n",
       " '5',\n",
       " '1',\n",
       " '4',\n",
       " '2',\n",
       " '1',\n",
       " '1',\n",
       " '1',\n",
       " '2',\n",
       " '1',\n",
       " '1',\n",
       " '4',\n",
       " '2',\n",
       " '1',\n",
       " '1',\n",
       " '1',\n",
       " '2',\n",
       " '1',\n",
       " '1',\n",
       " '1',\n",
       " '1',\n",
       " '4',\n",
       " '1',\n",
       " '4',\n",
       " '1',\n",
       " '3',\n",
       " '1',\n",
       " '1',\n",
       " '1',\n",
       " '3',\n",
       " '3',\n",
       " '1',\n",
       " '2',\n",
       " '1',\n",
       " '1',\n",
       " '1',\n",
       " '1',\n",
       " '1',\n",
       " '5',\n",
       " '2',\n",
       " '3',\n",
       " '2',\n",
       " '4',\n",
       " '2',\n",
       " '1',\n",
       " '2',\n",
       " '5',\n",
       " '4',\n",
       " '4',\n",
       " '4',\n",
       " '5',\n",
       " '5',\n",
       " '5',\n",
       " '4',\n",
       " '3',\n",
       " '3',\n",
       " '4',\n",
       " '5',\n",
       " '5',\n",
       " '4',\n",
       " '4',\n",
       " '5',\n",
       " '4',\n",
       " '1',\n",
       " '2',\n",
       " '5',\n",
       " '1',\n",
       " '5',\n",
       " '4',\n",
       " '1',\n",
       " '5',\n",
       " '1',\n",
       " '4',\n",
       " '5',\n",
       " '3',\n",
       " '3',\n",
       " '5',\n",
       " '4',\n",
       " '1',\n",
       " '5',\n",
       " '1',\n",
       " '5',\n",
       " '1',\n",
       " '1',\n",
       " '1',\n",
       " '1',\n",
       " '1',\n",
       " '5',\n",
       " '2',\n",
       " '3',\n",
       " '2',\n",
       " '1',\n",
       " '5',\n",
       " '4',\n",
       " '5',\n",
       " '1',\n",
       " '5',\n",
       " '1',\n",
       " '1',\n",
       " '4',\n",
       " '3',\n",
       " '1',\n",
       " '1',\n",
       " '1',\n",
       " '1',\n",
       " '1',\n",
       " '1',\n",
       " '1',\n",
       " '5',\n",
       " '1',\n",
       " '1',\n",
       " '5',\n",
       " '2',\n",
       " '1',\n",
       " '2',\n",
       " '1',\n",
       " '5',\n",
       " '5',\n",
       " '1',\n",
       " '2',\n",
       " '1',\n",
       " '5',\n",
       " '5',\n",
       " '4',\n",
       " '4',\n",
       " '1',\n",
       " '1',\n",
       " '3',\n",
       " '1',\n",
       " '2',\n",
       " '1',\n",
       " '1',\n",
       " '3',\n",
       " '1',\n",
       " '1',\n",
       " '5',\n",
       " '2',\n",
       " '2',\n",
       " '4',\n",
       " '4',\n",
       " '5',\n",
       " '1',\n",
       " '1',\n",
       " '5',\n",
       " '5',\n",
       " '5',\n",
       " '3',\n",
       " '5',\n",
       " '4',\n",
       " '2',\n",
       " '5',\n",
       " '1',\n",
       " '1',\n",
       " '5',\n",
       " '1',\n",
       " '5',\n",
       " '1',\n",
       " '2',\n",
       " '3',\n",
       " '4',\n",
       " '3',\n",
       " '1',\n",
       " '1',\n",
       " '5',\n",
       " '5',\n",
       " '2',\n",
       " '5',\n",
       " '3',\n",
       " '5',\n",
       " '4',\n",
       " '5',\n",
       " '2',\n",
       " '4',\n",
       " '3',\n",
       " '4',\n",
       " '3',\n",
       " '3',\n",
       " '2',\n",
       " '5',\n",
       " '5',\n",
       " '4',\n",
       " '4',\n",
       " '3',\n",
       " '3',\n",
       " '4',\n",
       " '5',\n",
       " '5',\n",
       " '5',\n",
       " '5',\n",
       " '5',\n",
       " '5',\n",
       " '4',\n",
       " '4',\n",
       " '2',\n",
       " '2',\n",
       " '5',\n",
       " '1',\n",
       " '5',\n",
       " '3',\n",
       " '4',\n",
       " '5',\n",
       " '5',\n",
       " '5',\n",
       " '4',\n",
       " '4',\n",
       " '5',\n",
       " '1',\n",
       " '1',\n",
       " '4',\n",
       " '2',\n",
       " '5',\n",
       " '5',\n",
       " '5',\n",
       " '4',\n",
       " '4',\n",
       " '1',\n",
       " '1',\n",
       " '1',\n",
       " '5',\n",
       " '2',\n",
       " '1',\n",
       " '4',\n",
       " '3',\n",
       " '4',\n",
       " '4',\n",
       " '5',\n",
       " '4',\n",
       " '1',\n",
       " '1',\n",
       " '5',\n",
       " '1',\n",
       " '3',\n",
       " '5',\n",
       " '5',\n",
       " '3',\n",
       " '3',\n",
       " '4',\n",
       " '5',\n",
       " '5',\n",
       " '3',\n",
       " '5',\n",
       " '5',\n",
       " '4',\n",
       " '3',\n",
       " '4',\n",
       " '3',\n",
       " '3',\n",
       " '1',\n",
       " '5',\n",
       " '5',\n",
       " '3',\n",
       " '4',\n",
       " '2',\n",
       " '2',\n",
       " '3',\n",
       " '4',\n",
       " '4',\n",
       " '4',\n",
       " '5',\n",
       " '1',\n",
       " '3',\n",
       " '1',\n",
       " '1',\n",
       " '5',\n",
       " '2',\n",
       " '5',\n",
       " '5',\n",
       " '4',\n",
       " '2',\n",
       " '2',\n",
       " '4',\n",
       " '4',\n",
       " '5',\n",
       " '4',\n",
       " '1',\n",
       " '2',\n",
       " '5',\n",
       " '5',\n",
       " '5',\n",
       " '5',\n",
       " '3',\n",
       " '3',\n",
       " '5',\n",
       " '5',\n",
       " '4',\n",
       " '5',\n",
       " '5',\n",
       " '5',\n",
       " '5',\n",
       " '5',\n",
       " '5',\n",
       " '5',\n",
       " '5',\n",
       " '5',\n",
       " '3',\n",
       " '5',\n",
       " '4',\n",
       " '1',\n",
       " '4',\n",
       " '5',\n",
       " '3',\n",
       " '1',\n",
       " '1',\n",
       " '4',\n",
       " '5',\n",
       " '5',\n",
       " '3',\n",
       " '5',\n",
       " '5',\n",
       " '4',\n",
       " '5',\n",
       " '3',\n",
       " '5',\n",
       " '5',\n",
       " '5',\n",
       " '5',\n",
       " '3',\n",
       " '5',\n",
       " '5',\n",
       " '5',\n",
       " '4',\n",
       " '2',\n",
       " '1',\n",
       " '5',\n",
       " '4',\n",
       " '5',\n",
       " '4',\n",
       " '3',\n",
       " '5',\n",
       " '5',\n",
       " '1',\n",
       " '4',\n",
       " '5',\n",
       " '4',\n",
       " '5',\n",
       " '1',\n",
       " '5',\n",
       " '1',\n",
       " '3',\n",
       " '2',\n",
       " '5',\n",
       " '4',\n",
       " '5',\n",
       " '1',\n",
       " '4',\n",
       " '1',\n",
       " '2',\n",
       " '4',\n",
       " '1',\n",
       " '5',\n",
       " '4',\n",
       " '4',\n",
       " '5',\n",
       " '5',\n",
       " '5',\n",
       " '4',\n",
       " '1',\n",
       " '5',\n",
       " '4',\n",
       " '5',\n",
       " '5',\n",
       " ...]"
      ]
     },
     "execution_count": 15,
     "metadata": {},
     "output_type": "execute_result"
    }
   ],
   "source": [
    "Ratings"
   ]
  },
  {
   "cell_type": "code",
   "execution_count": 16,
   "metadata": {},
   "outputs": [
    {
     "data": {
      "text/plain": [
       "['This is the best laptop in this range.I recieved late delivery due to big billion sale but the waiting was worth it. I played The Witcher 3 and Far Cry 4 in ULTRA graphics and it was running super smooth without any lag. So for gaming its a Beast no doubt. After 2 days I was getting charging issue and the charging was very slow so I contacted HP support via whatsapp and they told me to update the BIOS and after updating it was back to super fast charging and even the system was running faster...',\n",
       " 'Good product as used of now.... Everything is good and also SSD slot is given for upgradation.... Only keys of Keyboard are not looking as reliable as other basic HP laptops....it has been a month now... I will use it for three months again and will update my review.....',\n",
       " 'AWESOME LAPTOP. It supports many high spec games like gta 5. Super quality. I liked it very much',\n",
       " \"For that price... it's exceptionally good. Played Far Cry 4 at Ultra Graphics 1080p.. was super smooth. So was GTA V, Just Cause 4. So you can do pretty decent gaming. General PC performance is good. Photoshop 2020 (June) works perfectly and also other Adobe products. Display is super cool too. So yeah, a good system overall for that price.\",\n",
       " 'RAM upgrade is must do because the useable RAM is only 6GB, Ryzen 5 3550H is a great processor however eats up 2GB RAM in system, Due to that Heavy games like GTA 5 stutter, The FPS while gaming is good however stuttering happens when games doesn’t get enough RAM, Due to which I have to spend another 3.5K to put a 2nd 8GB ram stick. Rest all Is good Display is crisp Battey is good for gaming laptop anyway to play games chargers needs to be plugged in, Although the 5400 RPM HDD is quite slow m...',\n",
       " 'For the peoples who R going to buy R they buyed this Product. U will Face all this Problems 1) Performance of the laptop is so slow 2) Booting time takes 40 sec coz of HDD 3)When u will play Heavy games like Gta 5 of pubg it will lag like A hell 4) Apps opening and closing time is soo slow and Feels like the laptop is lagging and performing Very slow. 5) Whenever u will game on It, The laptop will automatically Get lock and Restart.  Okay Now SolUTion For all of This -  1) Update ur Laptop to...',\n",
       " \"It's good gameing laptop in this price Display is good battery backup is good And I like keyboard 😁👌\",\n",
       " \"Best laptop in this price range... Believe me if you are willing to buy this laptop don't hesitate just go Nd buy it !! Booting takes 22 sec... If you want more faster then I will recommend you to go for ssd variant... Speed of HDD is not that slow people are reviewing above🙄... Nd wait wait wait people are also saying above ram is the problem only given 6 GB so every device have some pre installed software so non of the brand will provide u 8 out of 8 gbs 🤦♂️...there is no problem with the...\",\n",
       " \"The AMD APU is a disappointment. If you guys don't know, the amd integrated graphics will reserve 2gb of your ram so you are left with 6gb instead of 8. HP has also locked their bios so we can't change vram settings either. It is what it is, I'll recommend that you should go for an Intel cpu if you can bcz amd might be cheaper but they will eat your hardware even though you are not using it at all so it's a waste of 1/4 of ram you paid for. Other than that Gtx1650 is a beast and ryzen 5 will ...\",\n",
       " 'Okay so ive been using this laptop since a few days/weeks now and i really like it 1. The display is good 2. The Laptop runs smoothly 3. Upgradable which is a big pro 4. Great sound quality 5. beautiful build 6. Games work nicely Cons 1. A little bit slow but that can be upgraded using a ram and ssd 2. I play fortnite and rocket league on it and they run smoothly but sometimes theres a frame drop which again can be solved by ssd and ram  Overall i would really say this is a great laptop',\n",
       " \"This is my 2nd laptop and ti be true i like it preety much. The booting speed is good and can be more if you install ssd in it.  Overall look wise it's awesome 👌😍.  I played Apex legend in low graphic settings and it runs smoothly  The lappy can become a beast if you upgrade the ssd and ram ✌️ An additional of around 5k to 9k can be done to reach it's maximum potential. I'm happy with it 😊\",\n",
       " \"I am using it for a day what i have noticed is it gets a little hot from the bottom right but it's manageable. The screen is beautiful, backlit keyboard makes it total worth the price. I bought it for 48,875 and it delivers really good specifications and quality. Overall it's a great product if you're getting it under 50k. If not then you should wait for some Flipkart sale.\",\n",
       " 'Look perfect 💕 Display is nice Sound quality is superb 💕 Performance :- A little bit laggy... But if you upgrade with ssd then it gives you a good performance .. 5 day genuine review',\n",
       " \"The true potential of this thing is unleashed when it's plugged in. Don't even bother to game on this thing on battery only. Battery backup about 5 Hrs on normal uses like browsing, video streaming etc with both wifi and Bluetooth ON.  2GB out of the 8GB RAM is reserved for Vega 8 which is a real bummer. So another RAM of 8GB 2400 MHz is recommended at slot 2.  Pair it with an SSD ( ofcourse nvme recommend ) and feel the difference.  Be sure to download GeForce Experience.  Update all the dr...\",\n",
       " \"Don't ever buy this laptop , the description says it's a gaming laptop but it can't handle games like gta 5 and goes into hibernation mode within 5 minutes of the game and out of the 8gb ram only 5.9 gb is available and performance is not that slick , hence would advise anyone looking to buy this , avoid it and spend extra and get yourself a better laptop\",\n",
       " 'Good packaging, right on time, gorgeous design and lovely performance, best buy for beginners',\n",
       " 'Nice product Battery mostly 4 to 5 hours But performance was very nice 4 star for late delivery otherwise product was very nice at this price Booting take normal time but its good in hdd Because sdd was fast comparable to hdd I think this is the drawback Company needs to modify ssd on this product',\n",
       " 'This review is after using this laptop for 6 months. Display:10/10 Performance:10/10 Battery:8/10 No heating issues No fan noise while normal usage Suggestions: 1.try to add extra 8 gb ram.because amd integrated graphic card uses 2gb of ram and available ram is only 6gb. 2.try to add 500gb ssd and move your os to ssd. Then you laptop enters into beast mode  Overall great laptop with amazing specs. Blindly go for it.',\n",
       " 'This is an initial impression review. The battery life, display and design are above par. Gaming experience is terrific with a good, strong card inside. The issue might be the 2GB RAM reseved by RX Vega which is the inbuilt mobile gpu of Ryzen. All in all, a good package and a great value for money. My suggestion would be to install an ssd and an additional 8 GB RAM in the near future to get the most out of the product. Note : Disappointed by flipkart for not putting in bubble wrap in the pa...',\n",
       " \"greate deal for the price to performance ratio. for gaming it is good but only one problem it heats up quickly so for better you should keep it on cool surface for gaming . Other things are exellent. 'I loved the experience\",\n",
       " 'Product is excellent but battery is draining is lot faster than I expected but it is above average. Overall product is good and I think you also get what you paid for. I am happy with laptop.',\n",
       " \"Sorry, after 2 months of buying now....I am thinking why I bought this laptop ....I recommend don't buy you can go with intel instead of ryzen ...I bought it for coding and designing purpose but yet I haven't installed such softwares ...still it is getting hang while watching yt on it ... just like our Android get if memory gets full ...and also some time sentence of some part getting on screen adruptly ....design and display of lappi is excellent but had performence ....\",\n",
       " 'Good product performance really awsome and powerful battery life...😇😇😍.. I like it very much',\n",
       " \"It is having a wonderful build design ? Build quality is really good Bcoz of not having ssd it's not that fast in opening files apps and softwares It doesn't gets too much heat Overall satisfied with the product\",\n",
       " 'Overall this is best buy in this price range. Only issue I found that it has 5.9 gigs of Usuable ram out of 8 gigs because of integrated amd graphics. It gives approximately 40 to 60 fps in high end games like watch dogs 2, gta v, Witcher 3 at high settings. Battery is decent, display quality is good.....',\n",
       " 'It is a bit slow.... If you want faster experience install ssd in it. It has SSD slot or you can go for SSD variant.Other than this all are woking good. I think this may not be a big problem. I loved it.... The gaming experience is so nice...overall performance is good..',\n",
       " 'Good Experience with this Product. For better more smoothness and for better experience upgrade add 256 GB SSD in it .',\n",
       " \"It's small...Design good...Clarity awesome....Performance is good after 1 week use...Battery charges fast and stands nearly 6 hours for normal use ...One minor problem when it's charging we can't use the mouse touch pad smoothly...It's jumping and lagging....Better use separate mouse like i do...Just cause 3 plays very smoothly...Only 6 gb ram we can use as a default... Over all its a good one ...\",\n",
       " 'The laptop in short is a beast.For peaple owning a laptop for the first time,it would be bliss.It has many flaws(with HDD).But for those who are willing to take care of their laptop,it will work like a charm. Overall,I would say just to go for it.',\n",
       " 'Product is awesome I m fully satisfied with the product. Display quality is superb But the delivery experience was not so good took almost 15 days to deliver the product..',\n",
       " 'Excellent laptop for professional as well as gaming purpose. I am writing this review after 1 month of use. First when I got the product it was not the proper product as the OS was having some problem. But immediately hp service man have checked and cleared the problem. I am using this laptop for design purpose. I use to work with AutoCAD, CATIA, SOLIDWORKS, etc. These applications are running super smooth and speed in this laptop. However if you are using this kind of high end applications ...',\n",
       " 'I am writing these reviews after using 3 months of using this laptop.  Points: 1. RAM capacity is 8GB. If you want to enjoy gaming, atleast install 16GB RAM. 2. I played games like AC Valhalla, GTA 5, RDR 2, Days Gone, Witcher, AC Oddesey, watch dogs 2 and many more. At the highest graphics settings you can sense some lag, but good for mid range graphics. 3.Heating Issue: Yes, this can heat up a lot, but to mention gaming laptops use graphics so that is natural. To use the most out of laptop,...',\n",
       " \"I have been using this for a week now. Short answer, just go for it, the best non chinese laptop under this price segment. I brought it for 48k. I have seen most of the reviews saying performance is not great. First things first you have to plug in while you are gaming otherwise you won't be getting the peak performance or just set battery to best performance while you are not plugged in.  Boot time with HDD: Again I have seen many reviews saying it takes around 1 and half minute to boot ...\",\n",
       " 'One of the best budget gaming laptop loved it 😘. Smooth performance, good graphics card but it would have been better if there were other colors of RGB lights on the keyboards and u cannot change the color of the keyboard lights. But good laptop beast performance.',\n",
       " \"Actually it's good ,no problem yet .just update your windows and it will became more fast. You can also add ssd and ram if you needed. Look wise it is great and battery charges very fast due to 150 watt charger.  Actually it's perfect if you add ssd and ram\",\n",
       " 'I bought this laptop for a balance routine like moderate gaming and normal work, and i have no complaints. The battery backup is really good of around 4hrs 30min to 5 hrs. The keyboard is well lit and you have no problem seeing the buttons even in dark room conditions. Ive been using this for 3 months now and I HAVE NO ISSUES with it. Do keep in mind that this comes with the TRIAL version of Microsoft Office and not the full version. It comes with McAfee antivirus which does a really good j...',\n",
       " 'Performance was awesome .....it has Amd Rhyzen 5 3550H processor which has slightly lower base clock speed of 2.1 GHz but that works much better than Intel Core i5 9th gen and also neck to neck i5 10th gen....some said it was also better than i7 9th gen ....which I can even realise when it renders videos within minutes in DaVinci Resolve which is most renowned video editing software and heavy software in the industry...but that is only possible with an extra installation of M.2 Nvme SSD from...',\n",
       " \"Pictures don't do justice.. Product is awesome and built quality is too good. Looks premium. Upgrade to ssd for most of this beast.. Display is awesome. Backlit is good. Purple is better than >>>red, white.. I have used many of them... Battery is 4 hours.. Overall it's a beast under 50k..  If u are getting it under 55k go for it..  Out of 8 gb ram 6 gb ram is what we get..\",\n",
       " \"I ordered this laptop a month ago and I really love it So this review is for those who aren't sure if it's worth it well to be honest it has a average battery in terms of me rating it But it is really fast and the screen is really good Design wise and performance is really good It comes with a ryzen 5 processor and gtx 1650 Graphics card Which is really great Especially for gaming U can play fortnite above 60 fps and 120 fps with no problem Go for it it's really worth it The only is...\",\n",
       " 'Very Good Packaging. Product safely kept. Received the product in good condition. Clean Stuff. Only problem is the RAM, 6GB is only usable out of 8GB',\n",
       " \"Ok, so I have a lot to say. First of all, I ordered this laptop for my sister on 7th Nov. My father purchased it and it was fast delivered. Coming to packaging. Flipkart terrible packaging from the outermost. When we first unboxed it the hp package was perfect in condition. The laptop was fresh as anticipated. It was perfectly sealed. Ok now coming to the product. I'll say it directly. Pros Display-15.6 perfect if you want a big screen and got bored of a 14 inch one Processor-a ryzen 5 3550h...\",\n",
       " 'This Laptop has a HDD which is really slow at booting...i would recommend you to buy a M.2 NVME SSD for Faster boot time and great performance...and also add up an 8GB ddr4 RAM for great performance',\n",
       " 'Nice and best product as per specification but only battery backup is needed and i will suggest tjat if you are buying this product then please insert an SSD for smooth and better experience in it.',\n",
       " 'absolutely satisfied with the product. No ssd in this one but believe me it boots up in freaking 20 seconds. its just mind boggling. performance wise its descent handles my alll the tasks like a charm and it has got a good cooling system as well. fan not so loud so . if u r having a strict budget around 52k just go for this, spending little more and getting a hexa core proccesor model 1021ax would be wiser though. go for it u wont be dissapointed.  Edit: if u buy this one here after do not uo...',\n",
       " 'Overall This Laptop Is Great But Someone Who Want Something Perfect I inform You That For Ame Lovers Its gReat thing as 4gb graphics and 8 gb ram is spectacular on the other hand battery drains quickly when you play games its important to plug in charger while playing  Screen size is small compare to others but its budget friendly so no offense  Need ssd for the fast startup and game lags due to it when power supply is not connected  I lost my battery sign on the taskbar so if anyone know how...',\n",
       " 'Best at this price range only compromising thing is its ram but 6 gb ram also handle many AAA titles with ease but you may notice some of very high end titles sttuter like GTA 5 because of ram if you upgrade your ram to 12 gb or 16 gb then you will get the real performance of this lappy ....no frame drops after upgrading and handle 70% new games with 60fps ij high setting .....',\n",
       " 'In this price range this is better lappi and you can also option for upgrade your ram and also attached ssd for better performance but one demerit was processor 3350h if HP inbuilt 4600H processor this was AWESOME deal but over all performance was good . Display 5star Battery 5 star Processor 4star But if we attached SSD then speed and performance will increase but overall in this price range i will give 5 star after 20 days use ..',\n",
       " 'The product is best at this price ... The only con is it is a little bit slow because of hdd but can be corrected with 256 gb ssd ... So that will not be a big problem... Charging is very fast and battery life in normal usage is 4hours.... Overall good laptop',\n",
       " \"I bought this laptop 7 days back and according to my, this laptop is pretty good .let me first talk about the design, so the design of this product very good and the performance of the battery is also nice but I don't like the keyboard because of the LED light you will not able to see the letters present on the keyboard and the final one is speed. In my case, the laptop speed is a little slow. If you add SSD then it will become more fast. so then thank you for reading my review.\",\n",
       " 'Boot time is a little slow but other than that I have know complains. Solid build quality, great screen, good speakers, respectable battery life, bang for the buck gaming performance. Overall very satisfied',\n",
       " 'The design and the user experience is best in class. But, it is quite slow. Even simple activities take longer time to respond. Also, would have been great if it had a Touch screen instead of a regular screen. Overall, I am happy except for these issues.',\n",
       " 'Its been 2 weeks I am using the laptop, upgraded with 8 GB more RAM and it works like a charm, all the AAA titles of game runs smoothly on it - The game you name it and this beast will play it like charm, overall a great choice for official use also - For Work from home. To unlock the beast do upgrade with 8 GB ram and 240 GB SSD and it will run faster than any other laptop in this price range. Great value for money, Looks are awesome. Great choice.',\n",
       " 'pretty cool design the performance is really good the battery performance is good and it really charge very fast comparing to another laptops if you are seeing a laptop under 55k you can go for it',\n",
       " \"Amazing Laptop Loved it I upgraded the 256gb Western Digital Nvme SSD into it which make it's performance next level Booting time reduced from 40 seconds to 18 seconds. Recommended to install ssd to get real performance\",\n",
       " 'Very nice laptop for students and office work better that Asus and Acer We can play game at High settings to get 60fps Battery is very nice and laptop charges in 30-60 min Display is fantastic',\n",
       " 'Great gaming laptop in affordable price... Must buy for gaming lovers and content creators..   Pros: 1. Display is crisp and smooth 2. Processor 3. Upgradable with SSD upto 1tb and ram upto 32 gb  Cons: 1. Stock HDD is slow and it takes pc to start upto 3-4mins.(once I upgraded with WD SSD and copied the OS from HDD to SSD by WD disk cloning app, this problem cleared and takes me to windows within 10 seconds) 2. Games like GTA V can be played only when the laptop is connected to charger. Wh...',\n",
       " 'Laptop is decent in terms of performance and gaming. Good display and processor for the price. Only con is less ram as integrated vega gfx eats 2gb so u get only 6gb. An additional 8/16gb RAM of 2666mhz speed from crucial can easily solve this problem. Also after 3-4 months the hdd will start acting up. This can be tolerated to some extent but if someone is looking to play games like Valorant or GTA 5 must upgrade to an 512GB SSD. Rest everything is working fine. Its a beauty🔥',\n",
       " \"This is a good laptop.I played farcry 3,farcry 4 without SSD or ram upgrade.But BlueStacks lags.If you are a freefire player you can play lag free in smooth only.Charge don't last long.For gaming 10min it drops more than 20%.With charged only u get smooth fps.If u upgrade ram and SSD it may be good.\",\n",
       " 'I write this review after using 10 days Design of laptop is excellent Especially display I loved it Battery is disappointing me Except battery all else fine If you are student then go for it Overall this is my first laptop so I love it One more thing performance is bit slow due to hdd If you want to play gt5 then you add ssd this boot your performance',\n",
       " \"This is a decent gaming laptop, not recommended for high end gamers. However for casual gamers it's a nice option and performance is also good.\",\n",
       " \"The System is quite good in terms of processing power. The only problem is HDD, it takes ages to load anything. Be it booting or starting any heavy app. It takes a lot of time to run apps and to boot up. The same problem is true for most laptops with HDD as primary storage.  To overcome the long wait in boot time. I use the hibernate option provided by windows instead of shutdown. Hibernate keeps all your apps running and cuts of the power to the system. So the next time you turn it on, it's ...\",\n",
       " 'Display and design are great hdd is slow i updated this ssd its very fast and battery is average but 150watt charges charges very quick, gaming performance while charger plugged is seamless i got it for RS.49240/- perfect deal im happy with it.',\n",
       " 'Awsome laptop. Only battery backup is a little lower but charges faster and windows 10 is genuine it is still awsome laptop.',\n",
       " \"-Laptop looks great. -Display is awesome. -Those backlits are awesome man. We feel like watching the backlits turn-on the whole day. -Battery is below average to be frank. I get hardly 2:30 hrs backup. -Speakers are good, but not the best in this price rang e and especially when they mention B & Bo audio system, I expected more from it. -As it has only HDD, it's not that fast, it gets stuck at times but still manageable. -Graphics is good. I played Asphalt 9 legends.  Verdict: Go for it!👍\",\n",
       " \"Review after 3 months !! If you really want a good display laptop,just go for it. screen display is awesome than asus vivobook and mi notebook. If you want a performance and speed then you really need SSD. without that it is average. Just normal gaming and takes a bit second to open apps and games. Bit SSD will make it a beast !! Overall m happy with the beast 🔥 no other laptop has such feature in this range. 1. Display 5/5 2. Performance 4/5 (bcoz of hdd) 3. Speaker 4/5 (it's decent) 4. L...\",\n",
       " \"It's awesome product.. it's completely fast working process and multi short cut touch and design its ultimate like this laptop . I lived it ... battery backup generally good. Once you completely charged ur working continues online 5hrs I think. As per price the product its better then other laptop.  But design its fibler related plastic. Otherwise the product have supper product I like it product.\",\n",
       " 'Battery is pathetic, like I was getting free electricity in Delhi due to limited consumption, but this laptop sure gonna hike my electricity usage.  Laptop lags a bit , atleast 128 GB SSD should be given , and yes ram needs to get upgraded too , in order to have good performance.  Rest okayish product. For average usage.',\n",
       " 'It is just awesome laptop good design, excellent display,nice graphics It is an awesome product I just loved it',\n",
       " 'I am satisfied with it at this price.Smooth performance even without ssd , backlight is just awesome I loved it.this is best for overall performance wheather you want to play game ,do editing , everything you can do smoothly.must buy it.',\n",
       " \"Awesome Product. Really fast and reliable. Haven't played any games yet but it pretty solid with multi tasking. Takes some time to start up the first time but then later its fine. I preferred Ryzen 5 over intel because of performance and it truly delivers that performance.\",\n",
       " \"I bought this laptop far a week now.. it was soo cool and amazing performance for this price range.The only issue is with the booting time gets more time because of no ssd.. and the battery is pretty good for my usage..and for great performance there is a M.2 sad slot you can easy add ssd and run os on that ssd it will boot fast and fast processing 🔥.. Overall the laptop is beast because of Nividia GTX 1650 graphics 🔥🔥..go for it don't hesitate to buy it's a beast for this price range and...\",\n",
       " 'Very nice product must buy !!!!! *Performance is very nice.. *Battery backup up to 90min for gaming otherwise for small works 3-4hrs *Audio quality is good but not so loud. * Display also good even we can use in sunlight Over all nice product must by this.',\n",
       " 'this laptop needs some extra ram to be installed after purchasing as it is slow in many ways and if possible have some budget after buying it to upgrade it with a ssd and ram then it is a beast. over all build quality is very good. the matte finish make it looks classy but at the same time attracts everything including dust, fingerprints so it needs some pampering. The keyboard backlit is very awesome and is eye catchy , sound is awesome, screen resolution is just best. battery is average jus...',\n",
       " 'One of tha Best laptop for Gaming and also for office work  Pros... Best performance Best display Best Sound Best design Best battery backup Beautiful backlit keyboard Trust of HP service  Put ssd and increase ram yourself.. Then this laptop will be Beast performance.  Cons.... Average webcam Boot time max 30sec... Only 5.9gb Ram available',\n",
       " \"Flipkart and hp, I'm really disappointed in both you with this slow lagging machine. I have seen so many videos that told me that this machine is a very good option but even after spending 55k rupees in this dabba. I'm not even able to use Chrome on it. It's that slow. Yes, not even Chrome. HP people are you sure, you are one of the best companies. You have made this lagging box, just so i can regret trusting you again. I thought maybe 55k is enough for me to get a decent laptop for daily use...\",\n",
       " 'Overall I like the laptop and perferably perfer this one.  Pros: 1. Speaker quality is good 2. LED quality is good and great display 3. Keybord is nice 4. Battery back is nice upto 3 hours without games. 5. Laptop build quality is nice. 6. Cooling is very well. 7. Camera quality is quiet well. 8. Processor is at their best  Cons: 1. There should be an SSD in place of HDD ( In this price tag ). 2. There is lagging problem while playing games on battery mode.',\n",
       " \"Ok, first of all this is gaming laptop, so if you are looking for gaming purpose then it's absolutely for you. Now Talking about battery performance then it's as usual like for all gaming laptops. Only thing is it doesn't come with MS office licence key. Overall laptop is worth it...💥 Have a nice day...\",\n",
       " 'Dont judge proformance if u dont know how to setup gaming laptop for gaming 1.update all driver and bios,without this u will face lag and start saying wrost product. 2.setup window mobility or power plan to high proformance and also set best proformance in battery,this will give u constant high proformance for gaming even in battery.but if you are not gaming than set in power sever in battery life otherwise battry drained in 1-2 hours and start crying. 3.Due to radeon vega 8 gpu 2 gb ram wil...',\n",
       " 'Worth it guys go blindly for it but as its a gaming laptop battery backup is not nice but laptop design and other stuff are awesome',\n",
       " 'Go for it , It is a budget friendly laptop with no issues.  You can upgrade in future :- 1)Ram (Upto - 32 GB,3200mhz)The information in product page is wrong. 2)SSD (NVMe)  Backlit keyboard is present at this cost only. The wifi is super fast also the bluetooth. The base speed of processor is 2.10ghz.',\n",
       " 'Best laptop for this type of specifications in this affordable price. And also good for Music quality.Display is good for quality videos . Performance is not so good.',\n",
       " 'The only thing that I noticed is that it takes a little time to boot up. I have had used Lenovo before, beside being old it boots even taster than HP. Other than this I like all about it, when it gets little hot the two fans kicks in which makes me feel that I have a powerful machine. If you have more budget, then I would suggest you to go for Asus ROG. Which is too of the line product.',\n",
       " 'Good laptop with quite good display and features. Performance wise the processing is little slower than expected. Good buy at this price. Games run with good speed and efficiency.',\n",
       " 'This is best laptop for students. I really like keyboard and disin. Startup almost 10s. But super and amazing. Perfomance is specialy amazing. I konw ryzen is best than in intel.still i satisfied this product 😍',\n",
       " \"This is my first higher price product that I bought from Flipkart. The seller was PETILANTE ONLINE. I was very much satisfied with overall everything. I literally have zero complaints. The package and the delivery was all perfect and genuine. Coming to the laptop, it's the BEST machine if you're looking for a great gaming and also for other miscellaneous purposes. I never thought that online shopping would be a bliss. Thank you, Flipkart.\",\n",
       " 'This review is after using for 1 week after installing all the updates and updating BIOS. This is a mediocre laptop. It just gets the work done. If you are purchasing this laptop, better get the SSD version or better get a SSD and upgrade RAM. The HDD version is really slow to boot up and takes 2-3 minutes after startup to function without stuttering. The initial 2-3 minutes after startup is really painful to use. My 2012 Dell laptop with HDD boots faster and can get to functioning properly ...',\n",
       " 'I am writing this review almost a month After I have started using the product. As per the price it is an Ok quality of product. You can expect this quality of product for a range of 50k to 55k. I have got it on 48k inclusive of offers. Pros : 1.Got a very productive and effecient build quality. 2. Backlight Keyboard 3. Great 15.6 Inch Display. 4. Graphics card and Support 5. Rygen 5 Performance is great.  Cons : 1. No Microsoft life usability. It will ask you a license key. 2. Battery lif...',\n",
       " \"Pathetic performance take ages to load the PC, had already replaced it once thought performance will be better in replaced version, it worked for a month now back to the same issue, booting takes a life to load? I also bought extended support with technician visit which does not work they want us to do all sorts of check by us before a technician visit can be arranged so pathetic support system. I won't recommend HP hardware.\",\n",
       " \"Its takes a several minutes when its starting for first time. but after that it runs smoothly. Also the specification of RAM given here is 8 gb, yes its true.. but for daily(normal usage) you can use only 6 gb. Rest 2 gb is reserved. The best thing is The display and trackpad.  the thing which I didn't liked is that, it only has 2 usb ports which sometimes feels short when multiple devices needs to be connected. Pros: Best Display best nvidia graphic card ryzen 5 chipset Compact attractive b...\",\n",
       " 'Good trending budget gaming configuration. HP has hit a jackpot in this category and it’s sales have seen a huge demand for the price point... more than Omen series. Can use it for Design softwares as well as heavy Gaming... serves well for both. AMD Ryzen series of processors wont disappoint you... trust me!',\n",
       " 'The laptop is just a beast. I loved the design of the laptop the speakers and the keys are the top quality. The battery of the laptop last well for normal usage for like 6 to 7 hours. I received the latest hp pavilion model the wifi is the best and it can connect to a wifi and a ethernet cable together at the same time you can enable this feature from the omen command center you can download it for free from the microsoft store the laptop performance is also good i am using this from last 10 ...',\n",
       " \"System starts very slow sometime 12 - 13 minutes. Not happy with that, and if you want to use any good software or number of process then 8GB ( in that only 5.8GB usable its a Big Note to anyone who's is buying laptop because rest of it will be used for video card as per the laptop stands) is not enough.  But don't worry you can buy DDR4 8 GB ram and install so the laptop will be real fast and that might cost another 4.5k.  Overall I don't feel it's good to buy for 51k. Rather I would go for ...\",\n",
       " 'So I waited a LONG time to write this review. I have been using this laptop for about 10 months now and I feel that it is pretty good. It smoothly runs almost every game, and it is great for coding. I use it for literally everything, and it is a great experience. However, using this thing in the first 2 months or so was like the biggest disappointment. It was slow as hell, games did not run properly, and the boot took forever (still takes a bit of time). I contacted HP Support multiple times ...',\n",
       " 'Highly Satisfied and value for money Laptop   7 months since I purchased this laptop and it works perfectly . Boot time was more since it has only HDD but when i installed SSD everything is just matter of seconds . Also upgraded Ram to 16 GB only I confirmed with HP service executive that the laptop Ram can be expanded to 32GB.   I suggest to confirm the Ram capacity with HP service center before upgrading the Ram',\n",
       " 'I using this laptop from three months. Autocad software are not running smooth. There are lagging problem for heavy autocad work so for autocad or 3 d software this laptop is avarage',\n",
       " \"My initial product had to be replaced because of various issues, I believe I have recieved a product that was returned by someone else.  It was damn slow and plastic felt very cheap, like for example, when you lift the laptop, you hear cracking noise throughout.  2 laptop;  First thing I did to uninstall the trail version antivirus as that made the laptop too slow. Second, updated windows and drivers.  Performance is ok and I'm not rating good because, the load time is very high but once wha...\",\n",
       " \"For Gaming Its Performance Is Fab .... But I don't Why it sometimes Lag In Carrying Out Normal Work (that can be due to HDD) Design Looks Unique 🥰 Speakers are also Good & Overall A Very Good Choice For those... Who have Dreams of Playing Some High Level Games... In Low Budget Laptops😊😊\",\n",
       " 'If you are go for a decent laptop then I should recommended this as described there is a huge and most of the amount of power that can be delivered by a AMD ryzen 5 3500H processor can be processed and there is a huge lot of processing power and many more decent display decent power backup for 4.5 or and a decent multitasking and full HD display which can be a great pleasure for who can do Photoshop and title gamer why most of us for follow by HDD that can be slow your laptop so you can be go...',\n",
       " 'There is 1 slot available u can upgrade ur ram and boost your performance i buyed 8gb hyper ram and boom its amazing u can stay with its 8gab ram no prblm laptop is tooo good',\n",
       " \"It needs upgrade as 2.1 gb of ram is reserved by the GPU itself, so your left with 6 gb of usable ram which bottlenecks gaming, so I upgraded with another 8gb of the same ram make for dual channeling and a samsung 1TB SSD, works smooth which few seconds of boot up and load up of games. Heating is slightly on a higher side, fan loudness is acceptable and battery is ; there's no way to say it but mediocre.  But overall with the updates I have no issues with this laptop, sound quality is good, d...\",\n",
       " \"I am using this laptop for three months. It has only hdd storage, due to that the system was very slow. For boot time it takes almost 3min. Unable to do multitasking. All the operations like copy, paste,file unzipping takes more than 2hours. So within one week I have added sdd storage, since it has the compartment for sdd(cost:3k).Now it's super cool laptop at this price. I can able to do multitasking. I didn't faced any issue after that. If you are ready to spend extra 3k for this laptop you...\",\n",
       " \"If possible buy the SSD version , or add an m.2 nvme ssd on your own (do this only if you know what you are doing). Without SSD its very slow, but yiu can still run a lot of things on it, just that yiu have to wait longer on loading screens. My boot time before ssd was around 1.5 to 2 mins, after I put Crucial P5 m.2 nvme ssd , now my boot time is 12 to 15 seconds. The display and keybord are perfect. Very sturdy design , its designed to last long. Camera is average, but I don't think you are...\",\n",
       " \"Very amazing laptop with this price range and the important thing is the laptop is come with nvidia GTX 1650 4 gb graphic card amazing beast if you upgrade this laptop then it's become monster 👹 . Upgrade Ram to 8gb+8gb and upgrade SSD 250gb in m.2 slot then your laptop is become monster and you can play all new generation games I am fully satisfied with this laptop after upgrading . Check out right now if you want budget gaming laptop ⭐⭐⭐⭐⭐⭐⭐⭐⭐⭐\",\n",
       " \"I m giving a honest review..I m using this laptop for 1 month now..it's not that much fast as I expected..betery quality is good..when I use c++ or Java it's gives a decent experience..but sometimes it takes so much time to start..\",\n",
       " 'The product is amazing it is must buy from the Flipkart if you want to buy a laptop it is very amazing and it seem as shown their and the functions is also amazing it is superb but the problem is that the battery is getting low in a very short time so this was on the problem otherwise the laptop is amazing',\n",
       " 'Nice product and the delivery person was very good and give this item in just 1 day thank you flipcart for fast delivery',\n",
       " 'I have been using this product for both gaming, online classes and movies ...it is awesome in all...not the beast performance but still good as it is budget laptop ....sometimes it freezes for no reason for 1-2 seconds , but my overall review is that my was spent well and it has value of money',\n",
       " 'Battery performance is very awful...only 2 hours battery backup which is very irritating you have to charge it on every 2 hours which might be very disturbing for all of us and the performance is not so great ....apps like even simple apps take 5 min of time to open which is also very irritating and PC needs different types of updates time to time and it take 5 to 10 kin of time to open. Processor is good and graphic card and when you use PC for 4 to 5 hours it heats up like a very hot cooker...',\n",
       " 'After upgrading the ram to 16 gb... All games for this specification works fine. I played few games including pubg pc, warzone, gta v , wolfenstein young blood, gears 5 .. all of them work great in this laptop',\n",
       " 'Excellent product super value for money I mean this is a all rounder though u get gtx 1650 ti in competition but then is jus about 5 % gap go with this upgrade ram and ssd and good to go',\n",
       " \"excellent laptop with amazing looks and good price range. Just add a SSD to it and it's super fast.\",\n",
       " \"The hp pavilion gaming ryzen 5 laptop is a great option for a mix between business and gaming laptop. It has great design,good sound, great display.good battery and processor. The only downside is it doesn't come with a SSD which is a must for this laptop. It's a little slow without the SSD but since I had the SSD installed it's very fast. All in all a good buy at this price. Add 5k for SSD 500gb\",\n",
       " 'Design of the laptop is very good . Performance not that good because some high spec games like GTA 5 are lagging . Need to install a ssd and a 8 GB ram additional. But I think this is the best laptop in this price range as it offers Nvidia gtx 1650 . And also battery backup is also just ok not good .',\n",
       " 'I just loved it ....It performed beyond my expectations...If you are planning to get a power laptop with sleek and classy design go for .... It will offer you great experience ...You will just love it..',\n",
       " \"I have been using this product for the last 10 days. So let me share my experience here.  -Its packing was great  -It has a decent screen.  -The backlight keyboard with violet color makes it quite attractive.  -speaker sound is good  -Battery backup is okay (even after using normal applications. Don't know if u play heavy games!!)  -webcam is great.  -this laptop is a bit slower & its booting time is more which makes it look like its lagging. It should be more faster as it has an AMD Ryzen 5 ...\",\n",
       " \"Startup is very long  Battery is not good  Working speed also no good .  This is the worst experience in laptops I ever used .  I didn't use first 15 days due to some person reasons now till then my return period is over .  Please I strongly recommend don't buy this laptop\",\n",
       " \"07/09/20 today I got my laptop and it's design is fabulous looking too good. Really lite in weight display is descent for a hdd it is little bit slow but it has a nvme m.2 port for upgrading and a ddr4 extra ram slots so you can upgrade whenever you want to.best laptop for gaming and and work.ryzen processor really works well and that purple colour combinations is really eye catching\",\n",
       " 'At this prize Intel is giving best laptops. But for 50k ryzen 5 3550h quad core is less At the prize of 45k other laptop is giving ryzen 5 hexa core',\n",
       " '1)i liked it very much because of its design fabulus 2)dispaly was good and bright &veuvienig angles were also good at that price range 3)performace was excelent and it also come with 4gb nvidia gtx 1650 grafix card which can handle the heavy games &softwares easily 4)booting time is little bit late when compare with SSD laptop because it comes only with HDD the good thing is we can easily upgrade the storage with help of SSD up to 1TB 5)we can also upgrade RAM upto 16 gb and it comes with 8...',\n",
       " \"The Product is Good Not Best. There are 2 Problems here, One with Ram and One with HDD. Well Ram issue is not the big issue Here, Games are still Playable. For Those who don't Know out of 8 Gb 2.1 GB of Ram is totally occupied by The Vram of the Cpu, So u are left with 5.88 GB of Ram. Now The game still runs like GTA 5.  But The Issue comes with HDD being 5400 Rpm its less. Its Pc performance degrades. You will see windows starting little late, application taking time to open. Also GTA 5 st...\",\n",
       " \"Great laptop especially fans for cooling. Add another 8 gb of ram and an SSD and then it'll skyrocket like no other. Fans do their work exceptionally well as the most important job of a gaming pc is cooling the system. Which is performed best in this price bracket.\",\n",
       " 'the laptop is great, an excellent buy for students and gamers alike.  the cpu and gpu work great in gaming and video editing. display size and quality is excellent. the keyboard feels really tactile and good to use. one of the con i found about this laptop is out of the 8gb ram, only 6 gb ram is usable ( 2gb ram is reserved for the integrated graphics). so i reccomend adding another 8gb ram stick for the best performance.',\n",
       " \"Ok So first don't trust on my english i hope you people can understand.  I review this laptop after 1 month of use i purchase this laptop on 3rd December 2020 today is 3rd jan 2021.   Look wise product is awesome. looks you want in gaming laptops this laptop satisfy the looks  Lets talk about display and the display is to awesome do not worry about display. Performance wise : you got amd ryzen 5 with radeon vega graphics(for display) and gtx 1650 dedicated graphic card with 8 gigs of ram but...\",\n",
       " \"At first week the laptop was quite fast it's booting time was also less than 1 min. But after 1 month due to some windows 10 update booting tome went upto 4-5 minutes. And the laptop battery was also not too long for general purpose we can use it for 3-4 hours or sometimes even less. But I am happy with hp customer service because when my battery adapter failed to work they replaced it with new one. I could suggest you that instead of buying HDD you may buy 4gb 1050 graphic card with SSD. Whi...\",\n",
       " 'A great laptop at this price segment with hp branding. I would suggest to go for ssd variant not with hdd one it takes around 15 -20 sec to work properly at time of boot. Battry is decent you can watch videos for 6-7 hrs i guess But dont expect gaming without charging  Conclusion- nice product if you want to do all work gaming , editing, coding and video watching',\n",
       " 'Wonderful gaming laptop,upgrade the ram to 16gb but it supports until 32gb , ssd then this absolute stunning machine, coding wise this doesnt lag even a little bit. gaming still havent tested yet but the nvidia graphics card 1650 is really awesome , 4k videos run cool',\n",
       " 'Besides all reviews i fell good after buying this laptop. But their i feel some lag in performance. I prefer you to go for ssd version or buy 256gb or 520 gb ssd for upgrade if you want to enjoy its full performance . Regarding to battery, it is a gaming laptop so thier battery quality is always low as they are build for playing games while charging for full performance.all total battery is better than expected. All total you can go with this laptop but later you have to buy ssd and ram for ...',\n",
       " 'The laptop itself is nice it can play most games at high graphics at 60fps i play total war troy which is a demanding game and it runs smoothly. The main problem arises when you start playing games like forza horizon 4 the game will run at 60fps ultra but due to very slow hdd and very low ram it will stutter. The laptop has 8gb of ram out of which 2.1 gb is hardware reserved for vega 8 graphics which itself is good and can handle most things on its own. After that the os will take futher 1-2 ...',\n",
       " 'Honestly, this is a good laptop for multitasking and heavy gaming. But it also has some issues which is need to fixed. I highly suggest you to upgrade RAM (16GB) and SSD.  PROS: 1. Can play latest games like Red Dead Redemption at high graphics (30 fps) and GTA 5 which runs as smooth as butter at 60 fps at ultra settings. 2. Suitable for multitasking. 3. Gives high performance and a lag free smooth experience.  CONS: 1. Battery life is bad in this case...',\n",
       " 'You could buy Acer with same prize and super performance than this product.   Overall product is good but would have been happy if hp provided ssd in this price.   No problem at all  You Can buy without hesitation',\n",
       " \"I have given 3 start because.....bilt quality is good but it's 8 gb ram is and usable is 5 gb.....we can't play any big game like gta 5 ect.. And it's hard disk is we're slow many time it's not response any operation and we want to forcebley turn offf the laptop when it's not response.. And I have writting this review ofter parchse of 1 month use and I am saying that you want computer for only gaming mens please go for pc... And if you're thinking to parchse this lap then kept in ming that ...\",\n",
       " \"After a month, I'm reviewing this Pros:- 1) The build up of this laptop is literally the best amongst other gaming laptop. Attractive. 2) Better crisp display & also you can do pretty good gaming on this laptop. Like GTA 5 on HDD with 40-50 fps n minor lags. 3) Better Battery backup. Lasts 3.30-4 hrs once charged fully. 4) HP support is appreciable i.e after service 5) Value for money n best at this price.  Cons:- 1) Hard disk rpm is less like 5000 ...\",\n",
       " 'Best Value And Discount From Flipkart.... But This Hp pavilion Ryzen 5 Gaming Laptop Not Good For Gaming Performance.... Please add some money and get better Version Of Ryzen And Graphics Cards.... Like GEOFORCE RTX',\n",
       " \"PEOPLE LISTEN.... MANY SAY IT'S SLOW AMD WASTE OF MONEY AND CREATE A RUCKUS IN THE BUYER'S MIND.... SEE... IT HAS SLOWER BOOTING TIME ONLY BECAUSE 5400 RPM HDD.... JUST CLONE THE OS TO A SSD...THATS IT... IT'S A PERFECT BEAST... AND THE HDD IS NOT AS DUMB AS PEOPLE SAY.... REMOVE MANY STARTUP PROGRAMS IN MSCONFIG AND ENABLE QUICK BOOT IN BIOS... MAXIMUM 25 SECS BOOT TIME AFTER THIS... MOSTLY 15 TO 18 SECS...... THE LAPPY IS A SEXY BEAST TO BEHOLD....\",\n",
       " 'Awesome.. Must buy the product.',\n",
       " 'excellent product , just go for it if u are a gamer, basically i m using it for office purpose in these lockdown days.',\n",
       " 'BEST GAMING LAPTOP UNDER 55K.. AND ALL GAMES RUN SMOOTHLY LIKE GTA5',\n",
       " 'Best Laptop in this range ❤️❤️ no one can beat this in this price range. Nice build quality. Battery is good. Awsme product. Just go for it.',\n",
       " 'Good product',\n",
       " 'Awesome',\n",
       " 'Laptop is really pretty first of all. I have played sekiro and mk 11 till now both are working on max. Only issue i am having is of ram the system gets overloaded very easily because of ram. Maybe if we just upgrade it all will be fine. Overall everything is working as expected.',\n",
       " \"Review after 2 months usage PERFORMANCE- It's bit slow because of 1TB hard disk..if it was with 512GB SSD then it was perfect beast..add SSD to laptop then it will be excellent..but no problem it's ok BATTERY-Battery is very impressive ...in battery factor it's the best laptop with more time of battery backup...battery best DESIGN-BEAST💯 SPEAKER-best ever experience💯 PRICE- Value for money💯 BEST IN ALL FIELDS JUST FOR SPEED ADD SSD\",\n",
       " 'Over all the laptop is good but battery life is little less which was a negative point for this but for this price range this hp laptop rocks I had been using this laptop from last 15days and after so many days of use I gave this laptop 4/5',\n",
       " 'Value for money laptop good also good for programing and beast gaming performance 🔥🔥',\n",
       " 'Awesome Laptop 👌👌👌❤️❤️❤️',\n",
       " 'Nice Laptop Best Budget laptop for gaming.',\n",
       " 'A pc like this comes in a lifetime!!!! Very Very happy to purchase this . My dream of gaming came true. Games like The Witcher 3:Wild Hunt and specially Grand Theft Auto V runs beautifully. Although latest high end games like Devil May Cry 5 (2019) takes quite a toll on the ram often causing the game to lag if played for longer duration so my recommendation is to play latest high end games for less duration about 2 hrs not more than that. Hope upgrading it will fix this issue otherwise everyt...',\n",
       " 'Good laptop 🤠',\n",
       " 'Nice',\n",
       " 'The best gaming laptop at this price range',\n",
       " 'Satisfactory.',\n",
       " \"I am writing this review after uses of 10 days. Performance: 1. Overall performance is very nice. Laptop working very smooth, I am using NX, Matlab and other designs software. 2. For gaming- working smoothly  Just one suggestion - those who are facing issue in battery and performance lag, pls update the window completely and while updating don't use laptop. Initially it will take 4 to 5 hours to update. Then u use the 💻, u can see the difference.  Overall: 1. Build quality is very nice 2. ...\",\n",
       " 'Good',\n",
       " \"People are complaining here about the speed and laptop is very slow worst but hey its not if you want out of the box fast Machine just go for ssd varient which cost 9k more for me boot time is not that is very game changer once laptop is been booted its all day on sleep when i am not using it and about the performance 1650 handles all the games in very good fps , gta v 60+ , pubg lite 120+ ,pubg pc 55 -60 , forza horizon 4 gives 55 to 60 but its frezze for one second why I'll give you the an...\",\n",
       " 'Seriously after upgrading the ram its running like a beast.I could play rdr2 on medium settimgs🔥⭐',\n",
       " 'Its A good Budget gaming laptop.  Evrythings seems Fine Only booting time is high i suppose its due to HDD u should ho for SSD .  But at this range u are getting Nvidia Gtx 1650 which is jackpot..',\n",
       " 'What an amazing product delivered by flipkart. Not feeling that it not consist of ssd .working quickly in having hdd in it. Thank you flipkart',\n",
       " \"I'm in love with this laptop 💜💜💜\",\n",
       " \"Only purchase it if you're ready to spend at least 5-6k more on adding additional RAM and SSD. Without SSD it's dead slow. And you'll need additional RAM to play games as AMD keeps 2.1 gb RAM reserved so you get only 5.8 GB RAM available which is too low.\",\n",
       " 'I have reviewed this product after 7 days. First we should update latest version of nvidia gpu and amd Radeon versions and additionally windows updates also. I have played rise of the tomb Raider, you get around 30-40fps on high settings. If I played this game for long hour, laptop automatically locks and hibernate itlsef it is a major issue in this laptop. Additionally u need 8 gb ram to play high end games without laaging, sluttering and smooth. This laptop have hdd capacity boot up time...',\n",
       " 'Very nice product in this price range.',\n",
       " \"One of the least efficient thing I have bought from. Flipkart no doubt packaging is quite good But performance of laptop. Is mil. It's boot time is 3-4 times future We have to wait for 2-3 mins for google chrome or microsoft edge to start I think this is not gaming laptop this is waiting laptop all time just we have to. Go on waiting\",\n",
       " \"Great performance but there is need to add a SSD for boost in the performance.Got the order after a delay than expected delivery date but product wasn't damaged.Product was intact.Overall nice future proof product.\",\n",
       " 'Beast with beauty',\n",
       " 'This HP laptop is specifically bought for my daughter for her engineering studies as she has to make graphic designs using Solidworks, PTC Creo and Ansys. Ideal computer for Engineering students.',\n",
       " \"Guys it's an superlap at this rate but after buying this u need to add SSD card and upgrade the ram nor will will cause u super lag u will hate this so do upgrade the lap I am writing this after use of 7 months I had lag issues before upgrade after upgrated that it's super nice to play games and stream with no lag issues so don't forget to add SSD and Upgrade RAM\",\n",
       " 'Performing worse than my expectaions. Even my Dell Latitude 3400 works faster and smoother than this.',\n",
       " \"1) Real daily boot time is 4 minutes atleast. Don't expect to boot in 1 minute. 2) lags a little while using from first day. Opening of apps is not that fast. 3) hdd used in it is of toshiba company. Hdd is not good its speed is slow. 4) comes with mcafee antivirus of only 1 month. 5) ADDITIONAL RAM AND SSD IS MUST in this laptop !!!\",\n",
       " 'Must Buy. Excellent product. Value for money.',\n",
       " 'So this rating is for the laptop which comes in original condition without ssd. Before ssd laptop was performing below average and HP bloatware was dragging the performance down. So I installed a new wd ssd and migrate os in that ssd. Now the performance is improved alot. Machine boots in 7 to 10 seconds, copying speed is 22mbs/sec. And I am happy.  Laptop body is fingerprint magnet.  Recommendation- if anyone wants to buy this product install ssd in it. You will be happy.',\n",
       " 'Just wow! 😍',\n",
       " 'Perfect laptop under 55k',\n",
       " 'Writing this review after 6 month of usage, after updating latest update of nvidia amd and software update boot time it quite okay performance is the worst thing in this laptop games frequently crash and hangs a lot worst experience ever.',\n",
       " \"Best Laptop Ever. I thought the HDD would be slow, but it's booting in 15 seconds. battery backup also fine, I'll Upgrade to SSD and 16 GB ram. it'll be The best ever.\",\n",
       " 'Let me tell a kutty story .. pay attention Listen to me...this laptop is just awesome naa😃',\n",
       " 'Booting is very very slow',\n",
       " 'Nice product and nice luking',\n",
       " 'Today i have received the laptop..Thanks for flipkart team.. and we will write review the laptop workings after 15 days',\n",
       " \"Don't buy the cheap words of people saying that it is a fraud of something. It is expected for radeon vega 8 to cover up 2 GBs of your ram. I've played cs go, fifa 21,etc and there wasn't much of heating issue. If you are a typical gamer, you should go for a higher laptop. I've got work of programming and modelling, and this product provides satisfaction. You could always a stick of RAM and M.2 nvme SSD for more performance any time you want.\",\n",
       " 'a personal suggestion extend ram with one more 8 gb stick otherwise gta V lags alot',\n",
       " 'Over all Good.... Windows opening speed is low.. may be due to no SSD Thanks fr all trial version software development',\n",
       " \"It's a good laptop you can play games in medium or low settings it can give you around 60 fps,but don't expect High quality gaming with High frame rate,Also if you upgrade the ram and add ssd to it you can increase its performance,the display quality and viewing angles are also good, overall it's a good laptop for its price\",\n",
       " 'This product is good , value for money But after usage of 6 month , laptop will show some problems',\n",
       " 'I have Changed my review from 5 star to one... DUE TO BUILD QUALITY. AFTER using for 2 weeks. The build of this laptop showed its colours. Its very bad. The Hinge is quite rough to open. and it makes a tick noise. Also the ports side plastic quality making tick tick noises when touched. i checked in the service centre. They said the build quality is not promising. but laptop is functional. So poor Feel from this laptop. Look wise its good. no issues. But the feel is totally destroyed coz of...',\n",
       " \"Performance is not good but after upgrading ram it's performance boosted after the upgrade the games are played very well.little bit slow but there is a solution upgrade SSD.value for money after upgrading it is the beast.fan noise is loud\",\n",
       " 'Asowm',\n",
       " 'Very good product and less price',\n",
       " \"It's a handy laptop for both performance and style. I have been using for a month now and I have zero issues with any of the spec or nuances around the laptop. Ryzen's quad core sure helps keep cpu usage below 50% even during hard core coding moments while I have 20+ tabs open chrome 2-3 heavy developer softwares running simultaneously and Spotify plays music. I have not played games with it so I'm not in a position to talk about the gaming aspects of the laptop.\",\n",
       " 'Best laptop at this prize range..',\n",
       " 'Good product but delay in delivery',\n",
       " 'Nice product..',\n",
       " 'Nice laptop.',\n",
       " 'Gaming experience is absolutely amazing...',\n",
       " 'i dont know why but my laptop is very slow i know there is no ssd but this us too much.. it takes time even to open My pc 😭😭',\n",
       " \"Good laptop, but to take full advantage of this you definitely need to upgrade both SSD to make it faster since it is very slow loading applications and even booting and upgrade RAM, coz when I play games on this laptop it stutters a lot since only 5.9gb ram is available. Other than that display, keyboard n track pad are good. I didn't find any worry some heating issues while doing intensive works which is good. Looks premium but it is made full of plastic and one thing I don't like is that p...\",\n",
       " \"It's awesome...\",\n",
       " 'Performance was improved after the updates. Battery is good Edges are sharp and it got me a few times. Not a problem while typing. Display is good Keyboard is single color with two brightness modes and off.',\n",
       " \"Beast 😍 100% I Recommend to buy .Graphics 1650gtx 🔥Long Life Battery ...all in one kind this Laptop ..work, travel,gaming suitable ..No heat while play 6hrs Pubg ..you need to careful on edges ..bezel less dat's only problem\",\n",
       " 'VERY AWESOME LAPTOP..  BEST LAPTOP IN THIS RANGE  VERY GOOD IN PERFORMANCE',\n",
       " 'Preformance + premium looks 💯 Go for it',\n",
       " \"The start up time seem to be a bit higher than usual where as the specs should be reducing the time to start. Initially I got a start up time of 20-25 sec to Login Screen .. which was really good. however it seems to be a bit slow now a days. Unsure of the reasons. Battery back is good. Display is beautiful. Very less heating issue. Gaming is good. Haven't done extensive gaming though. In-Built apps helps a lot.\",\n",
       " \"The worst investment done by me till date, the product is not at all upto the mark. It is said to be gaming laptop but it has problem of freezing you can't do work as well. Its my worst experience till now in all the laptop i have been used. And if you are going to buy laptop please don't buy ryzen go for another processor.\",\n",
       " 'I have used this laptop for a month, the windows that installed on hard disk is very heavy hence booting time is very high, i have reinstalled the deafult windows with bootable pendrive,now its fine for use ,now it take 15 to 20 sec to boot, performance in improved after reinstallation of windows.',\n",
       " 'My first laptop purchase and it was the best. Yes off course it is slow but it is nothing that can be solved by an SSD a mere 120gb m.2 nvme can change this laptop a ultimate beast. I play Resident evil 7 and Batman Arkham Knight both perform very well in 1080p Max settings.',\n",
       " \"It's all things is good but battery backup is written there 5 hours but it not it's battery backup is is only 3 and half hours\",\n",
       " 'The laptop is slow! Really really slow. And this, without any new applications installed. Disappointing performance.',\n",
       " 'Awesome laptop',\n",
       " 'Just spend 5-7k extra to upgrade RAM and SSD and see your dreams come true',\n",
       " 'Using this laptop for a week. Here are some things I noticed. Positive points:  Display is value for the money. Design is great, body looks awesome. After effects and GTA V runs like charms.  I do graphic design and rendering using Blender and it works fine I have no complains so far   Negative points: Cyberpunk lags so I had to uninstall. Problem in loading large Blender files Lag issues in using big graphic intensive software. Startup takes time, maybe buy an SSD version.  Not sure...',\n",
       " \"Been 4 months since I got this laptop and must say its been very impressive PROS are the price, the monitor(keep in mind I haven't seen a lot of other IPS monitors), the keyboard, The speakers(amazing) Build quality-made of plastic, but the plastic has a good feel Unique design Actually good selection of ports  CONS The above mentioned plastic is good, but it loves getting smudged and picks up fingerprints  HDD can sometimes be surprisingly slow in game loading 8GbB RAM but obv 2GB of th...\",\n",
       " \"Laptop is superb.....🤞🔥🤙 All laptop's give battery backup upto 3-4hrs. That laptop also gives same battery backup. I liked it's thermal cooling system. As the temperature increases the fan spped is increase. Cooling system is superb🔥🔥 Design and overall other things are also good.\",\n",
       " 'Performance is okay. Sound quality is superb. Display is good. The main disappointment is battery. Battery is draining fast',\n",
       " 'So far So goood!!!🔥🔥📣',\n",
       " \"It's good.\",\n",
       " 'Awesome in this price range',\n",
       " 'Good 👍😎',\n",
       " \"It was good but sometimes apps like blender and fusion 360 are not responding I don't know exactly what the problem is but I downloaded the apps with lisence but why the are not responding nad battery backup is not up to the mark I think it should be get more backup and charging speed is okay..\",\n",
       " 'Overall the laptop is good but after using it for 5 days the booting time is very slow but the games run good I would suggest you to go for extra 8gb ram and 250gb ssd.',\n",
       " 'Before time delivery. Awesome product peformance.goos build quality. Nice sound . Best display..',\n",
       " 'Good laptop but thinking to add ssd',\n",
       " 'Thanks for this product... i am very satisfied with this... i am in love with HP❤ Design and Looks is elegant... AMD ryzen is always cool... Thanks!',\n",
       " \"Everything is good about the Laptop. Design is okay.. Performance wise..it is good. Since it is a gaming laptop ..it's should have something special that makes this laptop different from others.\",\n",
       " 'It’s like ok ok type laptop, it does lag at times even not playing games or using editing softwares , I m planning to upgrade the ram and add ssd for faster results. Display and Battery performance is good',\n",
       " 'Not first as I thick . But nice in 55 k',\n",
       " \"I am satisfied with the product but it didn't reach my expectations\",\n",
       " 'Excellent Performance....🔥',\n",
       " \"After 8 months, I'm very satisfied with this product, nice design, performance, sound quality, a good choice for a budget gaming Laptop, Had a issue with the battery backup some times gives 1.5 hours backup while using normally.\",\n",
       " 'Best laptop is this price segment',\n",
       " \"A bit slow but it's good ..\",\n",
       " 'What great laptop in this price for engineering student I am also engineer tx to hp to create the laptop in this price and also about flipkart delivary osm just delivered in 4 days only and sefly in unlock lockdown',\n",
       " 'Its bad some error issues plz say any suggestions about my problem',\n",
       " 'This laptop is too too slow from 1st day.',\n",
       " \"4 star because i got damaged product first time . and the replacement policy was bit annoying. Otherwise laptoop is good , best laptop in this price range .And yeah it's battery backup is sort of weak too.\",\n",
       " 'Faulty product send',\n",
       " 'Amazing',\n",
       " 'SO I GOT THE LAPTOP TODAY AND GONNA SAY ONE THING : BEAST🔥 Design And Display Are So Good The Keyboard Is Awesome Performance Is Beast  I Uninstalled All The Bloatware Using PowerShell And Disabled All Windows Privacy Settings And Also Disable Cortana Then It Becomes Smooth  Keep Your Drivers And Windows Updated (That’s The First Thing I Did)  Remove All Unwanted Apps And Install HP Omen Comand Center To Keep Your Laptop In Check  Open Task Manager And In Startup Disable All Programmes (Thi...',\n",
       " '5 star rating 👍',\n",
       " 'Fully Satisfied 🤩🤩🤩',\n",
       " 'As flipkart assured all the specs were very well integrated.',\n",
       " 'Its awesome laptop',\n",
       " 'Facing motherboard issue after 8 months',\n",
       " 'Open in near delivery boy option best',\n",
       " \"Loved the product First I was but confused because of all negative reviews But my experience is satisfactory Few tips for new users 1) Contact support and update BIOS and Graphic Drivers 2) Close all auto start up application 3) Check your warranty as there was dispute in my warranty but it got resolved 4) Add RAM later when required, SSD of 250GB will make ur dormant beast fully upgraded Beast 5) Battery backup is good I am getting 5hrs backup as it's just 4 days old 😁 6) Rest if ur bud...\",\n",
       " 'The performance is low and battery is also low ,,but good for gaming',\n",
       " 'Awsm Gaming Laptop….Just make sure to update all the drivers…and get a extra 4 or 8 GB DDR4 Ram…For the best gaming performance….in Triple A Title Games',\n",
       " 'Laptop is good you can do everything thing on it if you want to play games u can it has 8gb ram but i recommend to upgrade to 12-16 gb of ram for ultra performance ...',\n",
       " \"Excellent purchase. Don't think twice before buying it. Amazing!!!\",\n",
       " 'Super🥰🥰🥰',\n",
       " 'Great laptop just make it ssd. And it becomes the beast laptop',\n",
       " '0.format the whole hdd , remove the crappy windows pre installed. Lags as fook. 1. Hdd has lag and runs at 100% most of the time. Need to Add pci nvme ssd first not SATA. UPTO 250GB ONLY 2. Update bios ASAP. Noticeable difference. 3. Install windows 10 lite 4. Best laptop for the price. I can play games at ultra quality. 🤗 5. No point in buying desktop at this price. This laptop is better than a desktop.🤫😏 6. add another 8gb if you want to squeeze every bit. 8gb 3200mhz .like the one pre...',\n",
       " 'Best laptop in this price',\n",
       " 'This is good',\n",
       " 'absolutely right... Thanks flipkart And thank you Ekart',\n",
       " 'Value for money Best design Good sound quality I have been used for 2 weeks still now there is no issues I love HP❤',\n",
       " 'Excellent product from HP pavilion very much satisfied from the product. Somewhat Battery drains and warming. It is not an issue for a gaming laptops. Update of processor and bios is recommended. Upgrade of SSD and Ram shows better performance. Thank you',\n",
       " 'BEST LAPTOP FOR THE PRICE.I PREFER U TO INSTALL A SSD FOR BEST PERFORMANCE.',\n",
       " 'Best laptop i used it continue after charging',\n",
       " 'Fast delivery Excellent laptop',\n",
       " 'I using since august 2020, awesome laptop..  I daily use for about 10 12 hours continue, no heating problem  Battery backup is about 5 hr on 5% of screen brightness with earphones  Thank-you HP for this awesome beast',\n",
       " \"It's take to much time to start and shut down it's with out SSD so windows is so slow\",\n",
       " 'nice laptop my dream laptop 😍',\n",
       " 'Just for normal works.....old rated product',\n",
       " 'I recommend to every budget Gamer this was the best option for this price point......',\n",
       " 'Everything is good and worth for the price But within four five days the inbuilt mouse gave up Everything runs smoothly but yeah the mouse sucks',\n",
       " \"It's look is awesome working good but a little slow as it is HDD. Will update about it performance later.  Update- Pros Working fine 1. battery is still good on normal usage gives 7 hours backup and I don't play games on battery will not recommend anyone to do so plug in then play. 2. Hinges and keys are still in amazing state. 3. Thermal give good cooling. 4. Gets fully charged in 1 hour 45 minutes even is you are using it.  Cons 1. Thermal's outlets vent throws half of the hot air directly ...\",\n",
       " 'SETISFIED IN THIS PRISE :-)',\n",
       " 'I got this for 45.5k using card offer best in that price.add SSD 256gb 3.5k and the laptop is beast',\n",
       " 'Best laptop in this range with Nvidia GeForce GTX 1650',\n",
       " 'Working great. No lag. Quality good',\n",
       " 'You should go for nvme ssd hardware or u can upgrade this then it would be beast',\n",
       " 'Looks great n after use of some time I add my review',\n",
       " 'It was fantabulous inthis price range.The display and sound quality of this laptop is top-notch but little bit slow down which is negligible.Good battery backup and backlit keyboard.Iam happy with this.',\n",
       " 'Good For the decent Gaming And other user stuff...But cannot run highEnd Games smoothly without The Frame drops...unless You upgrade The Ram.',\n",
       " 'Awesome product',\n",
       " 'After ssd it is a beast goo for it',\n",
       " 'Mind blowing lappy.... I highly recommend just go for it....',\n",
       " 'Better to put SSD in it',\n",
       " \"At first it didn't go well,Then I put an SSD, now it's going well😊\",\n",
       " 'After 1 week of use my impression:  Perfomence: Laptop is slow compared to others devices at this range, maybe performance will be better after installation of ssd and increasing ram.  Battery: battery backup is descend. I will fully review this after a month or so.  Design: Design is really impressing.  Keyboard & trackpad: keyboard quality is good but trackpad is descend.  I will cover full review after a month or so.',\n",
       " \"Updated review.  Motherboard and battery replaced by HP. Charging is an issue. While using the system, it won't charge. Shutdown and it charges. Bad product  HDD doesn't help. It's slow than slowest. Upgraded with SSD and it became lightning fast. Make the SSD primary drive with OS installation. HDD can be back up one.\",\n",
       " 'Good build quality Apart from HDD, everything is great. User can purchase SSD or buy SSD variant for more speed.',\n",
       " \"It's a really great product, I would say go for it and it is also upgradable, so u can buy it if you want a lap for 4-5 years.  Till 1TB SSD can be installed And also extra 8GB ram can be installed (In total 16 GB).\",\n",
       " 'I got the 4 days ago this product is value for money buy it this is great deal and at this price this is beast laptop and plus point is Nvidia graphics card 1650 I love this product',\n",
       " 'Bought the laptop a week ago and it had already started to hang almost every time I switch it on',\n",
       " 'Feels premium, looks premium and build quality is good',\n",
       " \"awesome budget gaming laptop I'm so happy\",\n",
       " \"It's really good. Performance is also good.\",\n",
       " 'Good economical product',\n",
       " 'Worth buying',\n",
       " 'Performance 💯 Battery 💯 Overall 💯',\n",
       " 'An awesome budget gaming laptop having a good processor but HDD makes its quite slow but all over its Excellent',\n",
       " \"I donnow it takes 2.1 minutes to start only some times, i feel somehere d system is slow, may be bcz of No SSD, but still this shouldn't be this much slow, even opening photos, opening windows takes around 10 seconds some times even 15 seconds, for gaming this is the best.....\",\n",
       " 'Best laptop in this range Got at 46k only. Played Valorant without facing any problem Need to add SSD for rough usage, otherwise no problem in normal use with HDD.',\n",
       " 'I HAVE A PROBLEM ABOUT THIS LAPTOP NOT ABOUT THIS LAPTOP BUT ABOUT FLIPKART SERVICES FIRSTLY FLIPKART GIVES ME SURITY ABOUT I WILL GOT MY LAPTOP AT 18 OCT AND IT TAKES ONE MORE EXTRA DAY AND IT ARRIVES ON 20 OKAY THATS NOT A PROBLEM THE PROBLEM IS MY LAPTOP IS ALREDY SETUPED AND WINDOWS IS ALSO INSTALLED ON IT AND ONE USER ACCOUNT IS CREATED ON IT AND SECURITY SOFTWARE IS ALSO INSTALLED ON IT AND FOR CONNECTIVETY THEY ALSO ATTACHED JBL SPEAKER AND MANY MORE AND AND I CHEACKED LAST TIME WHEN ...',\n",
       " 'I got this laptop only in 47,000 .... I am so happy with this product (till now) Battery last long about 5-6 Hr in normal video streaming',\n",
       " 'Performance is average, and the gaming performance too is not so good. I tried to install gta 5 and ith lags like hell even at low settings. The battery backup is also so poor.',\n",
       " 'Utterly disappointed It literally takes 2.50 min to boot up and another 50 sec for system to set up. Even after read all the comments about its worst performance I made up mind to buy it and hoped I can manage. Now I feel how stupid I was. I am regretting everything now. What I have done to my self!!? It is very slower than my i3 laptop with 2 gb ram. I know SSD WOULD HAVE MADE IT FASTER, BUT REALLY DUDE THIS IS AMD RYZEN 5 WITH 8GB RAM COMMON ON!!!!.what will be more worse than having 8gb ra...',\n",
       " 'Pros: Performance is really good Excellent configuration for the given price  Cons: Poor build quality No pre-installed MS office Battery last long for max of 5hrs unlike hp is claiming like 8hrs',\n",
       " 'Worst customer care experience. Even after 6 days of my complaint HP was even unable to find what causes the problem and I am still waiting for an explanation from them.',\n",
       " 'The laptop is an absolutely power package for the given price range and runs most games at a decent pace . Gta v has encountered a frame rate lag but runs almost smooth when service priority set high and framerate at 40fps. The absence of an ssd and an higher ram is an disappointment but the upgradable slots are a counter to the issue with an additional expense of 10grand will make up for an 1tb ssd with another 8gb ram . Overall very satisfied with product',\n",
       " 'Nice to handle',\n",
       " 'Absolutely terrible laptop, gta v lagging even on lowest settings.  Quite possibly the worst purchase and very much a scam. The laptop itself does not have enough RAM to even run MS Paint without lag. Do not buy it under any circumstances.',\n",
       " 'This could have ssd card for faster operation and not having disc drive.',\n",
       " \"Only 2 usb slots provided which is disappointing, battery backup is just ok sustainable not that great. Display is ok doesn't have a full HD vibe. Overall a good one.\",\n",
       " 'Low battery backup upto 3.5hrs for normal usage',\n",
       " 'Laptop is overall value for money and u can play GTA V like games in very high settings. The main problem Im facing is its performance issue.but after installing SSD and Ram this laptop is working very smoothly u won’t regret after buying it. And finally the Thermals of the laptop @ max temp during GTA V was 84 degree and that is quite good so this laptop is very in thermals also u can play 4-5 hours continuously. 👍',\n",
       " 'It an good machine but one must add SSD before or after using it(without SSD it pretty much slow) SSD slot is available(M.2)',\n",
       " 'Great quality and good looking device.',\n",
       " 'Its amazing laptop with 55k budget..... Awesome experience with gaming..... Battery backup is good..',\n",
       " 'Everything is okay but sime times it got slowness as 2 GB RAM out of 8 GB RAM is already locked by system....just getting 20 to 30 seconds hanging',\n",
       " 'Best in price but must add SSD',\n",
       " 'Must buy product and amazing gaming beast at this price',\n",
       " 'Awesome product.',\n",
       " 'Nice one but require ssd',\n",
       " 'product is so good just go for it. battery is good. display is awesome. graphics also awesome. it hangs some times , but after the windows update it is awesome. best laptop at this price',\n",
       " 'Not bad',\n",
       " 'Perfect device in this price range',\n",
       " \"Don't even think to play warzone with this laptop, it just hangs up and you'll be taking an year to come back to home screen.\",\n",
       " 'HP IS GREAT FOR LAPTOP AND PRINTER',\n",
       " 'Totally good.. U always need charger for avoid lag and battery draining while playing gta 5 and other high games.. Also u need to add ssd. For better perfomence.. 8gb ram. But 5gb available.. Design and backlit is very good... Best value in money..',\n",
       " 'Little lagging problem otherwise everything is good 👍🏻',\n",
       " 'Nice laptop in this range.. only one thing that the Laptop Speed is not great as per our expectations, but after update bios and Windows OS Speed increase from than previous speed....',\n",
       " 'Better version but for better performance u need to update ssd',\n",
       " 'Everything is good but they are not giving SSD.. Almost all companies are giving SSD in this price..',\n",
       " 'I have used this laptop for more than one month and have not faced a single issue in it..I have played gta 5, did video editing in premiere pro, coding, used Adobe Photoshop and everything was working absolutely fine.. But if you want more smooth exotics l experience you can just upgrade the ram to 16gb and this laptop will become beast..i myself upgraded to ssd 500gb and 8 gb Ram and now the performance is best',\n",
       " \"Amazing laptop and a pure beast at this price segment. No lag or heating issues and battery lasts easily for 4 hours on normal usage. Got it within a day and far above my expectations. Just add an m2 SSD and additional 8 GB 2400 MHz RAM and it'll be the best thing ever.\",\n",
       " 'I edited my review after the heavy use like(working on Revit Architecture software).After installing Revit I especially feel it is laggy but if you add SSD then it works fine. Takes time for opening after shut down thats why I keep my pc on sleep mode in day time and shut down only in night. I expected little more in this price range becoz if you invest 55k money in any pc and you will feel disappointed with its functionality,, it is not fair.',\n",
       " 'Good🔥🔥',\n",
       " \"It's adorable\",\n",
       " 'Got it at 43.5k in ugadi sale Good laptop and build quality good',\n",
       " \"I had installed the SSD coz hdd is slow overall it's good\",\n",
       " \"Fast delivery and design is very good. It haven't SSD so little bit slower for use. But overall good.\",\n",
       " 'Overall best product. One star deducted for late delivery',\n",
       " \"Can't call this a gaming laptop!! It sucks 😡😡😡 can't play gta5 properly, it lags, fps drops... worst performance!!Really bad experience!\",\n",
       " 'Game will run smoothly if charger is connected 😉',\n",
       " 'There are only two USB ports.HP should have provided at least four USB ports.Also,cooling ports for the cpu seem to be delicate.Over all a good package.Flipcart packing and delivery top.',\n",
       " 'Good packing❤️ Best customer service❤️ Budget laptop',\n",
       " \"Never seen a laptop slower than this. Forget gaming, you can't even browse internet on it properly.\",\n",
       " 'Best Laptop, I got it for 48897 Good graphic performance feels a bit slower because of AMD Ryzen 5 3550H and no ssd alongwith. display is good battery backup is good sound quality is average It is a light weight laptop around 1.8 kgs looks very stunning',\n",
       " \"Display good Performance is some Butter It is suitable for only students Not for gamers . But keyboard backlight I'm impresse I am Getting windows licence problem\",\n",
       " 'Never buy from cheaters like flipkart',\n",
       " \"It's too much slow my dual core laptop load faster then this, shutdown takes 1.30 minutes and apps lagged too much while opening worst experience till now please don't buy, and main point games are lagging while playing\",\n",
       " 'The worst purchase I ever made',\n",
       " \"This is a value for money laptop. I bought it for video editing and boy it does the job so nicely. And I think it's targeted for that exact group, because I think for really high end game it will run short especially with only 6 GB allocated memory. It does take bit long to reboot and you won't find any high performance in normal day to day tasks. But in high end tasks like video editing it comes to life and takes 10% time of what it used to be in my older laptop. I got it at 49k, I think it'...\",\n",
       " 'After one year the system becomes very slow. Initial starting take 3 minutes. Opening and closing application too slow. Low performing laptop',\n",
       " \"Please don't buy this product, performance is very bad. Start and shut down is taking too much time.We will go mad.\",\n",
       " \"Worst laptop ever it started lgaing from day one and can't run basic games very slow and worst performance you expect from a gaming laptop. My money is wasted and now I can't return it. I am stuck with it . Please dont the mistake I did.\",\n",
       " 'I was sceptical before buying, but I received a brand new stock, Jan 2021 in February itself. The packing itself was untouched from factory. We bought two, and I asked my daughter about the performance, she gave everything 5 stars and for battery 4 stars. Overall we are happy about the purchase after using it for over a month.',\n",
       " 'I am using this laptop for 5 months now. It is incredibly good have also give me 140+FPS during gaming. I mostly plays Valorant and it really runs well. But sometime it performs slow whenever i open up any IDE for coading. I am a CS Student and i like to code a lot but sometimes it lags during debugging and compilation of the code. Maybe its because of SSD. I will edit my Review after I install a ssd in it. Maybe after a month or two.',\n",
       " 'Beast Product Tested FALL GUYS - 61-75 FPS ON HIGH SETTINGS MINECRAFT - 50-61 FPS ON FANCY SETTINGS NO LAG GTX 1650 IS BEAST RYZEN 5 3550H IS ALSO GOOD',\n",
       " 'Good Laptop for gaming and software coding  Pros Backlight keyboard 6Gb graphic card amd + Nvidia 2 ram slot 1 used and 1 in free Amd Ryzen gaming chip  Cons No ssd so we can add ssd also Only 6 gb ram When installing heavy game cpu get 100% so laptop get hanged',\n",
       " 'Performance is good and look is awesome but sometimes the hing is producing sound in turbo mood',\n",
       " 'Just awsoom Looks 10/10 Performance best Sound awesome Just love with pavilion',\n",
       " 'Product was good and there is no doubt about Flipkart. I am very happy with this product.',\n",
       " '4 star is only for in this price they can add a 120gb ssd. Because of hdd machine is lagging to much, response time is high. Others all good.',\n",
       " 'The only problem is ram. I was only provided with 6gb of ram and there is no option in bios to free the ram. Else every thing is good.',\n",
       " 'Expect SSD all features are great',\n",
       " 'Nice product allover is good but ssd is important',\n",
       " 'Very very slow.worst product from hp.',\n",
       " \"This is very bad please don't buy it\",\n",
       " 'Good performance.',\n",
       " 'Flipart People are frauds.',\n",
       " 'Super laptop at this price range...must buy no issues yet...',\n",
       " 'This is a, budget gaming laptop',\n",
       " 'Nice laptop',\n",
       " 'Best product',\n",
       " 'If you add SSD then it becomes beast',\n",
       " 'Not good. After idle time close the laptop does not open and have to forcefully shutdown the laptop . Also, taking more time to start and open.',\n",
       " 'Bad hp company Westez money',\n",
       " 'Excellent',\n",
       " 'Not the value of money',\n",
       " 'Nice',\n",
       " '2 months it will work nice after that 🙂',\n",
       " 'The laptop is very slow and it gives only 20-30 fps on gta v 720p resolution',\n",
       " 'Best laptop@48465/- i just fall in love with this beast one!!!!!!!',\n",
       " 'Good if you extend ram and ssd',\n",
       " 'Except battery all features are good.',\n",
       " 'With extra 512 gb SSD and 8gb ram this laptop is beast under 50k',\n",
       " 'I love it just an amazing ....❤️💫',\n",
       " 'Best laptop for gaming after upgrading 16 gb ram Because very lag in gta 5',\n",
       " 'Perfect Laptop for gaming! must bye',\n",
       " 'The laptop was super awesome, but just one little problem, there is no screw to install SSD, they must need to provide screws for SSD. I collected one from old laptop, but had to use sandpaper to reduce the screw length. And also added a washer to hold it in place',\n",
       " 'Really Satisfied ☺️',\n",
       " \"Add ssd worth 3-5 k and it's beast at this price range Btw adding ssd do not violate the hp warranty\",\n",
       " 'Awesome product, amazing speed n performance🤩👌',\n",
       " 'Very gud product',\n",
       " 'Nice but login slow',\n",
       " 'Good working',\n",
       " \"Gaming performance is great but other than gaming, it's slow because it doesn't come equipped with SSD. If you can extend your budget go for SSD variant directly or you can just buy this one and install it later.\",\n",
       " \"Performance isn't consistent . I think this may be due to processor or the updates for windows 10. Definitely needs SSD minimum 256gb coz the laptop feels incomplete without it . For consistency on performance and reduce the application load time or boot time. The way things are right now it's walking needs SSD to run.\",\n",
       " \"This laptop can be bought only when you can afford another 10K on SSD and RAM upgrade. Otherwise don't go for it.\",\n",
       " 'The Laptop is Very Slow(Installed Photoshop & coral) .. Need to add SSD in it...',\n",
       " 'Best one',\n",
       " 'Nice performance, almost good',\n",
       " 'U should definitely purchase this laptop as its a budget one... It does hav many features but i got the issue of booting time and slow opening of apps..... After that update it to your latest version and the laptop will work smoothly',\n",
       " 'Everything is good but probably the worst HDD installed. You cannot game even when you get a perfect FPS because it takes time to load and retrieve the data from your hard disk. But for this price, if in case you have installed an SSD which costs around 5k for 500GB M.2 nVme then you can game or do something productive with no issues.  So an extra 5k is required unless you do not want to hard gaming on this.  The plus in this laptop is even when you game a lot with sufficient space and venti...',\n",
       " \"Worst product from HP don't buy this one very very slow\",\n",
       " \"Major draw back is booting time takes little bit long ,and sometimes touch pad wouldn't work properly\",\n",
       " 'Used it over an year.. Still running awesome. I am able to play games like Horizon Zero Dawn, Cyberpunk in high quality without any lags. Will recommend to add 8 gb ram more as it has 1 empty ram slot',\n",
       " \"Writing a review after 1 week usage. I am a surgeon by profession, needed a laptop for presentations, paper writing, some video editing. Design is terrific, gives a classy, techy look...especially the built quality, finish and backlit keyboard. This product is absolutely rocking performance wise... Intially it was lagging a bit then I updated the drivers. It started firing then, It's a complete setup for academic n educational purposes. If more needed I'll upgrade the ram n ssd...\",\n",
       " 'Best for 3D work',\n",
       " \"Never buy this laptop with hdd it's slow like tortoise\",\n",
       " \"Very good laptop. At first it's very slow, but you should add ram and ssd and then it's very fast. I added ram and ssd and now the booting time is around 10 secs. Very good laptop after upgrade.\",\n",
       " 'Overall good performance',\n",
       " 'Forget about gaming.. not even good for normal office use.....Very very very very very slow... Waste of money ..',\n",
       " 'Absolutely love this laptop!!!!',\n",
       " 'Lap is too slow ... performance is too poor',\n",
       " 'Take more time to booting bcz of low rpm than normal HDD Only 5.9GB Ram is usable Sound is Good Good performance',\n",
       " \"It's a budget laptop. It has fullfilled all my requirements from playing fifa 20 to coding and installation of appium.\",\n",
       " 'Bad',\n",
       " \"After purchasing the laptop it's speed was slow. Due to high graphics you will get 6 gb ram. And don't even think of playing high quality games without upgrading your laptop. But after 15 days of purchase... I bought a 8 gb ram and 256 gb ssd... After upgrading my laptop became very fast.... So u must spend additional 8k rupees for upgradation !!!\",\n",
       " \"very slow, buy ssd or don't buy at all\",\n",
       " \"Value for money... After few setups and updates, it's working very smoothly. Battery backup is also good. Camera is also good . Sound system is quite satisfying.\",\n",
       " \"Laptop is very good.. looking good.. design good...but it lags sometime...and it is slower than expected 😣😔..So if You want a beast performance then upgrade it's ram and SSD... Battery is average...and this is my dream laptop..and now I have this dream ☺️☺️☺️\",\n",
       " \"The laptop is so good for doing ur daily works or multitasking and all. The only problem is i can't play games in this it starts to lag and there is a big fps drop. I don't know why it is happening. If anyone could please give me a proper ans, how to repair this problem i would be really greatful.\",\n",
       " 'Good laptop, But little bit slow. Looks like using an old gen computer.( I think this is making it slow \"New tech on old hardware type hdd😅)So I\\'ll upgrade it lateron . All are saying that will make the performance much faster. I\\'ll update the review afterwards',\n",
       " 'This laptop is vary slow please go for ssd version',\n",
       " 'It is good but my delivery boy was very rude',\n",
       " 'This product is too good.... Must putchase it.',\n",
       " 'it working very slow , we have to add ssd to working properly, without ssd it is useless',\n",
       " 'Best laptop for College students',\n",
       " 'Best laptop for students',\n",
       " 'Best laptop in th 50000',\n",
       " 'Superb amazing product, 100% worthy. I bought it for 50000. But remember to buy an ssd. Battery life is up to 3 to 4 hr.',\n",
       " '. So its not a major problem because it has Hdd in it if you install ssd in it will be faster and their will be no lag',\n",
       " \"It takes around 30 seconds to boot, takes time to open any application so overall response time is somewhat more than expected. It doesn't feel today's generation laptop while using.\",\n",
       " 'Overall laptop is very good but will need add a ssd to it and remember to update your graphic card drivers',\n",
       " 'Just need to add sdd and ram then it wll be beast',\n",
       " \"This is the best laptop I've ever bought in my life till now. The only lack I feel is that they didn't provide MS office full version for permanent. They've a trial version of very short duration. Now even needs to buy the software separately, I feel the extra expense.\",\n",
       " \"IF YOU HAVE MORE MONEY THEN GO FOR SSD MODEL OF THIS LAPTOP. THE HDD IS VERY SLOW AND SOMETIMES IT'S PERFORMANCE CRASHES. YOU CAN SEE LAGS AND THE BOOT TIME IS SLOW. RAM IS NOT SUFFICIENT AS PER THE GAMING LAPTOP. 2GB RAM IS RESERVED ALREADY FOR AMD RADEON GRAPHICS. WHEN YOU SEE THE TASK MANAGER THEN YOU WILL DISCOVER THAT ONLY AROUND 3GB OF RAM IS USABLE. IF YOU WANT TO PLAY AAA GAMES LIKE GTA5 AND FARCRY THEN DON'T EXPECT IT TO RUN WITHOUT ANY LAGS AND SHUTTERING. OVERALL THE LOOK AND DISP...\",\n",
       " 'Very poor performance... takes almost an hour to start That too after restarting after 4-5 times Very slow  Worst laptop ever experienced',\n",
       " 'After one month of Laptop , i felt it is value for money. Only one trouble is that booting time is little longer. If we add a PCIe NVMe card this problem should get resolved',\n",
       " 'Best in its class. Ram & SSD upgrade is a must other than that no issues, battery 🔋 is fine .',\n",
       " 'When system is starting than it will much slow open and its performance is also slow otherwise it was best its better also good',\n",
       " 'Best laptop at this Price range',\n",
       " 'Best at this price',\n",
       " 'Simply superb !!',\n",
       " 'This is a worth product at this price..... Such a nice performance it has',\n",
       " \"After using 3months I'm posting my review.... simply it's awsm.... If u r looking laptop for design,animation, coding, gaming etc.... go for it... u can use anything on it... build quality awsm... performance awsm... look awsm... Awsm...awsm...awsm...awsm\",\n",
       " 'Need to upgrade SSD for smooth but performance with hdd is good for low end users',\n",
       " 'Great product . But if possible get yourself a SSD and 8gigs of extra RAM then you will enjoy it at its full capacity. HDD is too slow. And other than that it felt value for money.',\n",
       " 'All features are very good ..but battery backup only problem ..less time working',\n",
       " 'Good',\n",
       " 'Just wow',\n",
       " 'In price approx 50000 the product is very good and performance is also good.',\n",
       " 'It would be a 5star product if it has more battery life . It ran out of battery in high performance however can cope up with it in battery saver mode',\n",
       " 'Good',\n",
       " 'Awesome',\n",
       " 'Awesome product.... thanks Flipkart gor delivering this amazing item within 24hrs🤩',\n",
       " 'Need SSD to be faster',\n",
       " 'No bad but ok',\n",
       " 'If u r buying the hdd version upgrade as fast as u can to ssd',\n",
       " 'Battry life is not up to the expectations...it drains completely in 2 ton3 hrs.',\n",
       " 'Very good product',\n",
       " 'I love it',\n",
       " 'Nice laptop in this price',\n",
       " 'Superb laptop. But sound quality is not as expected.',\n",
       " 'Worthy to buy this 😻😻',\n",
       " \"Here is the beast .. basically I am a college student.... I purchase it for coding and light gaming and light editing.....I am using it for a week.....an I am very satisfied.........no complain about battery normal use without changing I get almost 4 hours battery backup......as this is a gaming laptop so ...it is....ok.... Conclusion:it is a hp product so you can trust on it blindly.. I'm very happy 😊❤️\",\n",
       " 'Pretty awesome for the price range..',\n",
       " 'Thank you flipkart for such a wonderful product',\n",
       " 'amzazing laptop 💻',\n",
       " 'Best',\n",
       " 'Very nice.... Go for it blindly... Superb config and performance.',\n",
       " 'Nice product',\n",
       " 'Values of price .....Super',\n",
       " 'Great performance',\n",
       " 'Ultimate beast laptop Super fast delivery by Flipkart',\n",
       " 'Exlent performance.',\n",
       " 'Good laptop for gaming and editing',\n",
       " 'No screw in SSD slot',\n",
       " 'Sometime Touch Pad is not working',\n",
       " 'Awesome Laptop with hd backlight with 3 modes at low price with 8gb ram and 1 tb storage I have only problem that laptop has only 2 usb point Rest 🔥🔥🔥🔥🔥🔥🔥💯💯💯😘😘😘',\n",
       " 'Good',\n",
       " 'Awesome performance, value for money, battery life is ok, best gaming experience, design is beast, display is good. Best buget gaming pc❤️👍',\n",
       " 'Superb flipcard 🤘🤘',\n",
       " 'Satisfied 🙂',\n",
       " 'Product is too good for performance but battery backup is just 2 to 3 hours without lights of keyboard so switch it off for better battery backup. For switching off the lights press fn and f5 and for screenshot press windows \\U0001fa9f and ins prc sc',\n",
       " \"Overall good product, only one problem of hanging shows while run a bigger software, I have to install additional SSD of 256 GB in it. Now it's run smoothly.\",\n",
       " 'Just leg',\n",
       " 'Display not work properly, need to change or rectified,   Bed Hp service, I want to return the product, any cost',\n",
       " 'Mind-blowing',\n",
       " \"Don't doubt just go for it 💌\",\n",
       " 'Best laptop for engineering students',\n",
       " 'Good product',\n",
       " 'Delivery is much delay ... Buy only for coding and other responses , not for gaming.. I recommend to upgrade ssd for gaming..',\n",
       " \"Added a SSD and now I can't expect a better computer at this price.  You can run it without a SSD as well. But adding one is highly recommended. You get a whole different experience. Totally happy.\",\n",
       " 'Nice product',\n",
       " 'I am very glad to buy this laptop . It is my best laptop till now I buy all of them.',\n",
       " 'Nice laptop great......👌',\n",
       " 'Very sexy and Love you flipcart',\n",
       " 'Worth for money',\n",
       " 'Value for money.and also good product',\n",
       " 'The overall performance is so good,',\n",
       " 'Very good laptop but little slow...design is just amazing..',\n",
       " 'Too slow nd charge drain out very soon not worth it!!',\n",
       " 'Better to use ssd for fast speed',\n",
       " 'Value For Money best laptop 🤩',\n",
       " 'Lil bit slow.. Rest everything all right. Moreover the product looks premium w.r.t price segment..',\n",
       " \"I recently purchased this laptop and getting very good performance but having heating issue on right side of keyboard panel and left side of heating vents downside which is more than usual. This thing bothers me that you touching your laptop and feel heat. Otherwise all other things are good.  Heating isn't a small issue which you can ignore. It troubles you everytime you use your device. I've no option to return, only replacement is acceptable which worth nothing to me because I think the wh...\",\n",
       " 'Genuine product, trust worthy.',\n",
       " 'Overall happy',\n",
       " 'Good product.....you can go for it',\n",
       " 'It is best laptop for gaming',\n",
       " 'Every thing is fine but slightly slow due to without ssd and extra ram',\n",
       " \"After 1 week of usage. Should have gone for SSD is the only drawback. There's another slot for expansion, which is a good option. No lag issues and maximum boot time is between 2 - 3 seconds which is good for HDD these days. Ryzen 5 is just out of the box. Battery life is also good. We can manually enable 4K with AMD settings on the system.\",\n",
       " 'Not for value for money',\n",
       " 'I think it is refreshing',\n",
       " 'Sent a defective laptop after placing an order it took just 4 days to deliver the product but when I applied for returns its been 8 days still the product is with me, the procedure to return anything is pathetic product is good only need to install an ssd for better percormance',\n",
       " 'Great Machine, Got it for 52k on sale and it is worth every penny, played Doom, Doom Eternal, GTA V, Just Cause and other great titles without even a single lag. go for it without a second thought :)',\n",
       " 'Excellent Performance with this affordable price',\n",
       " \"U have to add SSD for better performance. When i switched it on performance was not good as i expected. Bought 250 GB Kingston additional SSD. Now it's good.\",\n",
       " \"Extremely Slow and poor performance! The specifications look impressive only on paper but the falsely hyped Laptop is extremely disappointing. It takes over 4 minutes to boot and several seconds to open applications. The battery life is around 1.5 hours so you have to rely on constant power to continue working. HP support is not impressive because the customer service team isn't technically qualified to resolve common issues. Would strongly advise against buying HP laptops.\",\n",
       " 'Fantastic😍',\n",
       " \"It's nice product\",\n",
       " 'Please provide atleast 128 gb SSD for fast boot .One of the best laptop and gorgeous look.',\n",
       " 'Good but little bit slow if you used ssd than it will be okay',\n",
       " 'taking too much time to start',\n",
       " 'It is good product..',\n",
       " 'Great product🔥',\n",
       " 'Awesome laptop on this price',\n",
       " 'Simply i said this laptop is best at that price',\n",
       " \"Just go for it, bought it for 49k, Don't worry about the SSD, can update it later with samsung SSD, worth every penny\",\n",
       " \"Good laptop must change your hard drive, if not you'll not be happy\",\n",
       " \"After Using This Lappy , Geniune Review  It's working Slow due to Hdd Speed Is 5000Rpm  You Need to Upgrade RAM & NVME SSD\",\n",
       " 'Superb',\n",
       " 'Great product.',\n",
       " 'Ok , nice Product under 50k range , but please increase your packing quality , this type of packing is not suitable for 50k item',\n",
       " 'It is very good at performance and also best for gaming at this price If you want to buy dont think just go for it.',\n",
       " 'Performance not so good without ssd so i prefer to say must buy ssd for it.',\n",
       " 'Beauty and Beast 😍 Will upgrade RAM Will install 512 GB SSD Worth every penny in this price range ✌🏻',\n",
       " 'Slow like hell due to lack of SSD... otherwise it is best in this price range... go for it guys After adding a NVME M.2 SSD, I got better performance',\n",
       " 'This is a good and best laptop',\n",
       " 'Nice product from hp. Value for money .',\n",
       " 'Best laptop under 60000',\n",
       " \"It's ok\",\n",
       " 'Build is perfect ,display is good ,battery performance is normal ,speed is value for money 💰',\n",
       " 'Good',\n",
       " 'Good for gaming and Web designing but it takes little more time to start and shutdown',\n",
       " \"One of the best laptop in this price segment(around 52k). Display is awesome. Just install any 256/512GB nvme SSD and it's performance would change drastically! Overall AMD Ryzen 5 3550H is a good processor for casual gamers.\",\n",
       " 'Poor quality of Flipkart packing',\n",
       " 'U need to upgrade it by adding more ram and adding and ssd without this lags a lot very slow pc',\n",
       " 'Everything is good..',\n",
       " 'Perfomace is good only bootup takes time due to hdd bit games run flawless',\n",
       " 'Good',\n",
       " 'Amazing product just lv it.....performance is awsome... What a display... Lovely....',\n",
       " 'good. but noticed lags in it .',\n",
       " 'you can purchase it without any hesitation',\n",
       " 'Use SSD for even more better performance',\n",
       " 'best gaming laptop',\n",
       " \"You definitely need a SSD card if you buy this laptop. It has 2.1GHZ processor. If you buy this laptop for gaming than go for 3.1GHZ processor in this category or install a SSD card. Otherwise it will work Slow. Just that processor is slow otherwise it's good laptop to buy.\",\n",
       " \"I am Android developer running Android studio taking lot of ram also sound problem if I run my emulator making sound not run properly waste of money don't buy it\",\n",
       " 'Booting time is high.. I recommend to add an SSD and move windows to it. Otherwise nice laptop for entry level gaming and editing...',\n",
       " 'Battery life is too bad',\n",
       " 'Good laptop for this price',\n",
       " 'Speed is slow compare to others due to HSD however SSD can be further install.Display is very good and keyboard light is also attractive. Over all its good product in this price range.',\n",
       " 'Value for money',\n",
       " 'Laptop is good for mid graphl',\n",
       " 'This is a good product In terms of value for money. But I face a problem which is Slow boot. I write this review after 4 month Continue use. Go for it But Mind it Insert a Ssd for batter experience',\n",
       " 'With 8gb ram its really hard to play games. Upgrade to 16 gb for best performance',\n",
       " 'Good laptop at all 😊🤟💥🔥💯',\n",
       " \"The only major issue is battery backup ,which can be seen in all the gaming laptops . But once you connect it to a charger then you will get the real beast out of it . Considering the price, the laptop delivers great performance and quality of the product is very good. Total graphical memory is 5 gb ( 4gb From Nvidia+1 gb from RAM ). I'll recommend you all to upgrade your pc with an ssd of 250gb and a ram of atleast 4gb\",\n",
       " \"Am graphic designer. After using 1 month of photoshop. Lot of hang issues. So any one buy for designing purpose. Go for Ssd version. Not this. But apart from designing. It's really good.. 😇✌️. Im telling only for designing people's. Not everyone.\",\n",
       " \"Looks so premium can't go wrong with this\",\n",
       " 'Purchased as per the spec but it takes too much time to boot, recommended to have SSD',\n",
       " 'Just go for it its literally frickin 🔥🔥🔥',\n",
       " 'Jst awesome!!!!',\n",
       " 'Nice Gaming laptop ,with Good Display, Graphics ,Sound & performance.',\n",
       " 'Battery capacity only 2 hr',\n",
       " 'Good product',\n",
       " 'Nice , gud',\n",
       " 'Good product go for it',\n",
       " 'Loving it...❤❤❤',\n",
       " 'bettry backup is low but all is best',\n",
       " \"No problem in booting in my case it's taking less then 30secs\",\n",
       " 'Boot time is slow',\n",
       " 'Laptop is good but battery backup is poor',\n",
       " \"Not for gamers every game lagging display is very good but when I started playing games like gta valorant both are lagging after few minutes now tell me what's the advantage of buying gaming laptop if I facing these problems\",\n",
       " 'really amazing laptop ..battery 👉🏻 5 hour constant , smooth relability',\n",
       " 'Best laptop under 50000 budget 4gb graphic card which is the best Under this range but Prossesor is low',\n",
       " 'Best laptop for everything...',\n",
       " 'Its miss the SSD factor, Using it with HDD is like buying a 400cc bike with normal tyre, need to boost it up with SSD Perfomance truelly enhanced by 10X after adding SSD normal Boot time is 20+ secs which turn in to 8secs',\n",
       " 'got this at 46,999.... thank you flipkart...',\n",
       " 'The display panel is so light ,that it literally moving under the celing fan.its completely plastic',\n",
       " 'Just amezing 😍 Super battery backup ❤️ Best laptop in budget 👍',\n",
       " 'This is absolute beast, best laptop with super premium feel ,and plastic is soo good and high quality, go for it without any hesitation, no regards buying it, gulabi dil gulabi dil',\n",
       " 'Better you add a SSD to it. Got it for 48650/-',\n",
       " 'Just go for it',\n",
       " 'HDD is not that much slow than i thought. Overall good performance,design,display. Battery can last upto 4 hours while connected to internet. Happy with the product ☺️',\n",
       " 'Loved it!!!❤️😍',\n",
       " \"Wonderful product  It's awesome 👌👌👌🔥\",\n",
       " 'everything is good in this price range.. just U have to add an extra 8gb ram to run smoothly.. no other choice.. extra around 2500 rs for ram... and u should know that 2gb ram already reserved for system usage.. it means even if u upgrade the ram upto 16 gb still u can use only 14gb... just mind it before buying it.. and it matters.. 😕 and while charging the charger getting heated so much.. I dont know it only happens to me or others too..',\n",
       " 'Some games are lagging , i dont know why this is happening. I am not impressed regarding this product. Build quality is not good . heat control is no doubt good. Battery average. Charging cable is too small.. No colours variety is available, disgusting black Colour.',\n",
       " 'Graphics ard is Nice Display is Nice Everythin is nice except 3 points 1. Startup problem (slow) 2. Batter life is too less (2/3 hrs during general use , not gaming) 3. Speaker volume is too low (almost half than other PC)  Every other crieteria is good Value for money Only Battery and Speaker disappointed me.. (Have to buy external speakers or Headphones)',\n",
       " \"This is the best gaming laptop at this rate.. It's performance is very good display is also grate But the only problem is there is no ssd so booting time is slow\",\n",
       " \"Got a cheap and used product usb ports doesn't work well if you try to transfer any file from mobile or pendrive it will show you 24 hours of time and Internet doesn't work either please don't purchase it from this seller\",\n",
       " 'Everything is good except the hdd feels slow,if you are buying this ,buy a 128 gb ssd minimum.',\n",
       " 'Everytime i am paying valorant after 3-4 minutes the screen is showing locking & shuts down... After 1 months of use the screen is getting backlight bleeding & dead pixels',\n",
       " 'This is a great laptop, specially for gaming. I played COD World War 2 and Far Cry 5. Amazing experience. You can upgrade it with SSD to. I Highly recommended it.',\n",
       " 'Overall good performance🤩',\n",
       " 'Best ever laptop at this price. Just upgrade Ram by 8 GB 2666mhz +nvme pcie SSD >>> Beast unleashed.  Play warzone with highest setting, awesome clarity.and performance',\n",
       " 'Boots very slow . By tha way product best😊',\n",
       " 'Power packed at a reasonable price. Awesome display, High performance',\n",
       " 'Awesome one! Sound is awesome!',\n",
       " 'I m in love with my laptop , this is amazing 💚',\n",
       " \"It's good at this price range battery is good performance is good\",\n",
       " 'Battery life is some much less...but in other categories ...the best ...main thing is u have to maintain good internet connection..',\n",
       " 'best laptop in this range',\n",
       " 'No ssd so poor performance boot time 30 sec',\n",
       " 'excellent product',\n",
       " \"The booting speed is very low i think add a ssd that problems will be solved. Battery backup is not much as i expected, and the usb ports are only 2 in this laptop that's the one problems i facing, but the laptop is very much better to compared some other products because in this price range gtx 1650 with 4gb graphics card is not available in any other laptops so if you want 60k budget laptop the buy this\",\n",
       " \"It's one of the best in the market I bought it and planning to save some money and then add a ram 8 gb stick and an SSD 256 gb and yeah it's awesome value for money.\",\n",
       " 'Not performing as expected , 40 - 60% ram utilisation was going for OS , There is minor lag in games too like asphalt 8',\n",
       " \"It's been two week since i have used it. For a price of 53k it a value deal.  Shadow of tomb raider: 30-40 fps (Medium settings) Witcher 3: Plays flawlessly in medium settings Total war 3k: 30-40fps (medium settings)  Just slap on an extra 8gigs ram and most games would run 30-40fps at medium settings.  Thermals: I played continously for 7-8hrs, it never throttled. Never expected this from a laptop at this price range, really outperforms. :)  Multitasking: Since the ram is limited to 6gb ca...\",\n",
       " 'Everything is perfect but battery is good having average 4to 5hr. Due to absence of ssd it takes 40 sec to boot up ,it can be improved by inserting a ssd.',\n",
       " 'It is a very good laptop. I am writing this review after one week of delivery. I used this laptop and found some cons. The battery life is very low and the 8 GB ram, we provided by 5.8 GB on which we used and the other 2.2 GB is locked for hardware. Due to lack of ssd this laptop is slow working and boot time about 25-35 sec.  But overall this laptop is great.',\n",
       " 'Nice product',\n",
       " 'This is an awesome product, hughly recommended!!',\n",
       " 'Good',\n",
       " 'Battery performance is good but Charing is too slow. All this are good. Design is very sleek. Color is nice',\n",
       " 'Laptop is good but sound is not good and also reeboot time is too long to start the laptop, otherwise all good specially display is osm',\n",
       " 'A ssd would be a better option. Battery is not as good as other laptop. Performance is not very great. Still.its fine.',\n",
       " 'The product is very good and the performance is best in my opinion, battery life is also last longing according to my need.',\n",
       " 'Purchased for my younger son. He is absolutely happy. So I got the value of purchase.',\n",
       " 'Great Display and Sound quality .  Overpowered gaming but only problem is that the usable RAM is 5.92 GB.  You can add RAM and the AMD Ryzen 5 is a total beast .  Love the finishing and overall 4.5/5',\n",
       " 'Awesome Product💯❤️ Recommended for UI DESIGNERS!',\n",
       " \"This is nice product but I don't have my warranty card\",\n",
       " 'Super ! Worth each penny',\n",
       " 'This is a good gaming laptop under this price range.',\n",
       " 'nice',\n",
       " 'Fantastic product with fantastic price point...',\n",
       " 'Very nice,, ???',\n",
       " 'I dont know what the issue is but the performance is very very poor,the booting takes almost 45sec,games are unplayable,also it crashes a lot. For some weird reason the usable ram i get is only 5.88 gb out of 8gb. Opted for the return option,but weirdly flipkart has only replace option,that too with only the same product. My friend just bought the same product,he is facing the same issue! Update:- received the replacement unit, still a shitbox,slow af,i guess the whole lot is defective',\n",
       " 'The main reason for giving just one star is nothing but their amd on board gpu which reserves 2gb of the total ram in the system which seriously affect the gaming performance. Overheating is another issue.',\n",
       " \"performance too much slow. don't buy this product .it's waste of money\",\n",
       " 'The product is not good with 6 gb ram but if you add another 8 gb of ram and 256 gb of ssd then it is a beast.',\n",
       " 'Very slow processor',\n",
       " 'Takes too long to start... High graphic games lag',\n",
       " 'cant play gta 5 smoothly with this 6gb ram a lot of lag occuring',\n",
       " 'Battery back up has been reduces to 2 hrs with in 2 weeks and laptop charge rate is 6% per hour',\n",
       " \"4days of USAGE AND in short. This laptop can be used for multitasking(coding apps) and runs fairly smooth...boot time approx 45secs and build is amazing. But there is a sluggish and conventional old laptop feels from the start..Its is kind of slow and in the promotion of the laptop benchmark says COD WARFARE runs at ultra high but the laptop doesn't even run the game smoothly like lobby and all...Gaming experience is bad when its online. Have already updated my bios and all but its pretty bad.\",\n",
       " 'screen bleeding issue noted, i return',\n",
       " \"Due to the hdd... it's boot time and app opening time is slow but overall it's ok for a budget gamer.... The design is awesome as a gamming laptop but the top flex is visible. Built of the top is slightly disappointing. But the overall the built quality is ok. The huge disappointing thing in this laptop is that the usable ram is only 5.4GB out of 8 gb I'm very disappointed for that.\",\n",
       " 'I wanted to write this review because there are couple of things not worth.  1 Design is awesome. 2 Sound is awesome. 3 Display is awesome. 4 Performance disappointed me, I bought the laptop two days back and it’s hanging many times. Even before checked game performance. single HD movie also hanged many time in two hours.  Before buying this laptop please check other laptops in this price range and compare with hardware.',\n",
       " 'Very slow laptop',\n",
       " \"Don't buy this model. Boot time is above 3 min and the laptop is laggy\",\n",
       " 'The Laptop is good But the Service of Flipkart is extremely poor',\n",
       " \"I purchased this Laptop looking at all the reviews, and also after going through expert comments and reviews on different websites. I really like the design, look and aesthetics of the Laptop.  However, when it comes to performance, I am terribly upset with the boot speed. I understand this doesn't have an SSD, but even with a Hard Disk, that too with the specs that his Laptop comes with, taking close to 2 minutes or more to get to the Windows 10 logon screen is too much. Moreover after loggi...\",\n",
       " \"I had buy this laptop just some days before. And I'm very much regretted. The battery takes too long time to charge like 3% takes 30 minutes. And the laptop is very very slow and taking too much time to start. And if you play any game it lags very much or even in between game the laptop gets lock. Very disappointed.\",\n",
       " \"Please don't purchase it because after finding lots of diificulties when I talked to the HP customer care they told me that windows is not provided by them may be flipkart has given windows 10 means hp has provided with simple docs nothing.  Actually I purchased this laptop after reading all the review but what I observed it a very slow battery is ok only and screen gets freezes I think about 50 times with in only 20days and boot up issue. Takes about 1 to 2 minutes to start the laptop after...\",\n",
       " \"Battery drains very fast & this laptop is super slow. The main problem is in this laptop it's take so much time to start (one &half minute maximum) & it's folder opening speed also very slow,\",\n",
       " 'The laptop review is written after a months usage 1. Windows home edition does not have ms office which is needed for any student: misleading information by Flipkart/ HP as they should specify. 2. Computer booting takes considerable time feel that I should have taken SSD rather than 1 TB HDD, seems a bit slow in response (maybe due to Ryzen 5 processors when compared to i5) 3. Very heavy weighing laptop 4. Scroll pad does not have separate buttons below so again left and right clicks are hav...',\n",
       " 'DONT BUY THIS...........its very very slow Sometimes it freeze for no reason It take atleast 1 min to startup Cant even shutdown the system  NOT SATISFIED AT ALL',\n",
       " 'Booting time is too long even with min loading apps. Apps loading time is also too long. Battery drains too fast.',\n",
       " 'Worst laptop of all time. Very slow and battery was a useless and causing issue within 15 days of buying',\n",
       " 'Very slow laptop',\n",
       " \"I am using this laptop from 15 days plz don't buy this laptop it stop working, I am pissed of plz buy a laptop to your near story😢\",\n",
       " 'Worst product , Device not getting on after installation Just one day of use , laptop turned to be useless',\n",
       " 'Very very slow 😒 performance. Slow processor very disappoint',\n",
       " \"Modern laptop need more fast processing ...but my laptop, haha even lots of upgrades I still found it's like 13 processor...it's very slow processing I am a bit unhappy ,it takes nearly 10 minutes to start,...which system now a days take 10 minutes to get in track .\",\n",
       " 'Everything is fine best performance but battery drains fast',\n",
       " 'Performance is slow',\n",
       " 'Best laptop',\n",
       " 'Just to sell the ssd they make made this hdd thing a joke.. If u r willing to spend about 10 K more then only buy this one otherwise find something else. The boot up time and the performance it gives is jst unacceptable. Even opening Google Chrome takes ages',\n",
       " 'Man this is one of the best but of your gaming in this laptop. 8 gb ram is not enough you have to upgrade to 16 gb ram or directly buy same laptop with 16 gb ram and the most value for money in this laptop is graphics card',\n",
       " \"Don't waste your money on this ,I am writing this review after 1month of usage, it crashes almost every time ,can,t even watch YouTube on chrom properly , always crashesh, I buy this laptop for gaming and video editing, now I am regretting \\U0001f972,PLZZ don't buy this\",\n",
       " 'It is worst phase and you can say experience of online shopping there is nothing which justify its cost and specifications.This is also a old model so u can buy some new arrivals of any company with great experience.',\n",
       " 'Always if you open any program it will show not responding not responding',\n",
       " 'bootup time is around 2 min, horribly slow system',\n",
       " \"If you are really into gaming and want to buy a high performance laptop do not buy it. Never ever go for Ryzen. I won't suggest you ever. I am writing this honest review after using it for a month. Do not buy it.\",\n",
       " 'Disgusting service from Flipkart and HP.....they stuck my money......third class product they sell',\n",
       " 'A gaming laptop, which cannot survive browser tabs more than 5, while simple apps are running in the background (Spotify, Trello, Telegram).',\n",
       " 'Very slow laptop not working fast',\n",
       " 'Worst product ever and i had a worst very bad experience ordering with flipkart the customer care is not helpfull . No one ever listens to the customer',\n",
       " 'Boot time around 2mints every time and profomnce not good',\n",
       " 'Laptop is getting slow while charging... started after onemonth of purchasing... not getting any help from hp after compalining multiple times... hp is reallyy worse for me',\n",
       " 'Battery is week.',\n",
       " 'Its very slow boot up time is aprrox 2 minutes also i takes 20 30 seconds to open any application btw good for gaming but very slow',\n",
       " 'Please not buy this 🙏🏻in 5days it have lots of issues worest battery slow boot time',\n",
       " \"Little slow it's giving me reminder of first generation pc black and white once\",\n",
       " 'Booting Takes Much time (more than 5 min). Speaker sounds are very low. system performance is low.  Display is good. Battery Backup is okk as of now since the use is less and gaming is not done. Could have included SSD Hard disk.',\n",
       " 'Good working',\n",
       " \"Not really satisfied with the product and the entire process till possession of it. Laptop takes forever to boot up. The response time is very slow. I don't know if you can run games smoothly takes forever to open Chrome.\",\n",
       " 'heating issue lagging takes forever to load windows 50k wasted',\n",
       " 'I was using this laptop since September 2020 it hang a lot',\n",
       " 'Excellent laptop go for it Screen 5/5 Bettery 4:5/5 ,performance 5/5',\n",
       " 'Avarage',\n",
       " 'Very good',\n",
       " 'Some softwares seems to be pixelated. Also, I could notice some lag during the file transfer. Multi tasking is not at most good for 8gb ram. It still has to be more efficient.',\n",
       " 'used very well no issue reported as of now, little bit slow due to HDD.',\n",
       " 'Very good product..',\n",
       " 'Good',\n",
       " 'Battery is not God',\n",
       " 'Performance is slow',\n",
       " 'Best on this price range',\n",
       " 'If u r going for gaming then u should upgrade SSD and Ram then it becomes beast.',\n",
       " 'Best for Multitasking and multiprocessing',\n",
       " 'Better than expected....🔥❤ awesome product',\n",
       " 'Slow booting up with hdd,, but overall good in price segment...',\n",
       " 'Worth the money',\n",
       " \"This laptop is literally amazing. But, a bit slow cause of hdd.. I'm certain it'll get much faster after adding an ssd.\",\n",
       " \"The laptop takes very long to boot up...every app that I open takes very long to start..I don't know what the problem is...sometimes the laptop just freezes.....and while playing fifa 18 I noticed some frame drops which should not have been....because the GTX 1650 is a great processor....I tried to consult with the hp support ...but they said it's not the laptop defect....it's windows defect\",\n",
       " 'This laptop is broken down within a month',\n",
       " 'Laptop functions quite slow, starting from power ON. Even same with browsing. I observe buffer. Takes lot time to open application and switch between them.. Not upto the mark. Facing issues while using office tools. Not worth the investment of 55K.',\n",
       " 'i like this laptop ,used outocad and heavy game smoothly',\n",
       " 'I received a defective piece which is not getting on. Display is completely defective. I received this item as gift and hence took 20 days to unwrap. Now Flipkart says you only have the option to contact HP helpdesk. Really purchasing expensive items online for Gifts is risky because 7 day return policy gets overs till the time gift is unwrapped',\n",
       " 'Writing review after using it for 5 months approx. It is best in market got at 49998 only. Used matlab and ansys software it has no lag. Played games like resident evil 6 , gta 5, mafia 3 . It is running game at 1080p at 40-60 fps. No issue of lag or heating is there. After playing for half an hour fan are starting to run but they are giving very cold air so no issue of beat. Temperature of graphic card maximum goes to 55 degree during games. Battery is .out 12 hrs on simple use and 6 hours o...',\n",
       " 'Everything is good except an SSD would make a lot of difference in performance...and secondly the processor is little slower than intel i5 8th or 9th gen. But it is good compared to other gaming laptops in battery backup.',\n",
       " 'Too slow.. I used only 1weak.. The Performance is very slow..',\n",
       " 'Very good laptop must buy....it is very good for engineering students and fulfilling all requirements which we want for design purpose in this price..',\n",
       " 'Very bad to use on multiprocessing.',\n",
       " 'This laptop is very good But you have to upgrade the ram and ssd After upgrading it will become beast',\n",
       " 'Excellent for the price but the ram we get is about 6gb, which is enough for day to day tasks but not for gaming... upgrading the ram is a must. HDD is a bit slow but if you want that snapiness in windows you can add an SSD. battery life is ok-ish of about 4 hrs',\n",
       " 'Bro the speed is really very slow like its hangs for like 30sec after i close a game and booting time is 1min 10secs .... If anyone can fix this please let me know coz i had put all my 3 year savings on this laptop',\n",
       " 'Battery backup not so good. Games very slow',\n",
       " 'I happy with hp laptop and flipkart service. Thank you flipkart',\n",
       " 'it takes too much time to boot .it takes around 1;30 minutes',\n",
       " 'I got a faulty product.',\n",
       " 'Hmm somewht battry issue but performance is beast',\n",
       " 'Laptop is getting strucked when I use it for more than 3 hr',\n",
       " 'Very good laptop at its price range Best design Battery ok No doubt you can go for it',\n",
       " 'It heats so much.... unbearable...third class product of HP. Atleast low budget laptops have good performance but this laptop is so bad. It hangs like hell n then nothing happens. Very bad purchase. Nothing goes right with this laptop when compared to its specifications',\n",
       " 'I am using this laptop for about 4 months and it had ruined my experience it is worst thing i have purchased ever  it take about 1 minute to start or boot and still after that it get hanged up  i had run many softwares as an graphic designer and every time it screwed up at every last moment and  as for hp support they always tell to reset the pc on every call and every update never download properly  As for heating concern it heats alot if fans are not given it may explode Very cheap qual...',\n",
       " \"The delivery boy was a bit rude ...Design display and battery is good...but it seems a bit slow after updating the drivers it's ok ..booting time is 40-60 sec ..maybe due to less ram(6gb and 2gb Vega graphics) and HDD..after upgrading ram and adding ssd ...This will be a beast... everything else seems good..no heating problem..so if u think about this laptop this is ok and after upgrading with about 6-8k it will give best performance...like if you want any updates ....  After 10 days of u...\",\n",
       " 'Laptop dead on arrival',\n",
       " 'Worst product Very slow',\n",
       " \"Without ssd it's very much slow buy yah it's performance worth\",\n",
       " 'The product advertises that it can be upgraded upto 1TB SSD but it cannot and HP confirmed that. The laptop is also very slow. I was not at all happy with it. It’s supposed to be a gaming laptop but if it’s so slow how can one play!!! This false advertisement on the sellers part is unforgivable.',\n",
       " 'Go for ssd varient It lacks even in bluestacks',\n",
       " 'After 6 month of User It’s really slow Takes lot of time to start',\n",
       " \"I'm writing this after using it for 5 months.  Considering the configuration it has, the laptop is extremely slow. It takes nearly 3-5 mins just to switch on (even after minimizing almost all startup apps after consulting HP Customer Service. App loading is very slow. While playing game as well, game stutters (FIFA 19). So, performance wise, not at all good.  Looks is great. Keyboard backlight looks attractive, however you can't keep backlight on all the time as it consumes reasonable batter...\",\n",
       " 'There is only 5.9 gb usable ram in this laptop...',\n",
       " 'Battery backup is very low and performance is ok ok.! You can invest 5-10k more and go gor some better option.!',\n",
       " 'Very nice product..Perfect for Heavy gaming if you upgrade ram to 16gb..but its also nice to play with 8gb ram..only negative is booting time',\n",
       " 'Take so much time for booting... Too slow',\n",
       " 'Everything is great. Butiful Experience. But there is one problem HD varient is slow If you want faster experience Go for SSD varient',\n",
       " 'Machine is too slow. I think the performance issue is related to hdd and windows 10. Need to wait long time for machine to become responsive else it will show 100% disk usage. Users cant change the bios settings as its locked.',\n",
       " 'Worst laptop and worst service by Flipkart',\n",
       " 'I bought the laptop for more than 3 months now if you are a gamer go for an upgrade of ssd which will make your overall performance good The speakers are stunning compare to other laptops the b&o audio took it to the next level Display is epic with the streaming 4k video which is cool 8gb ram only 6 gb usable because of the consumption of integrated graphics card While gaming with hdd face lag issues for nfs payback bit after a bit its okay After a month i face a little bit of crashing issue...',\n",
       " 'Battry backup is very poor ... And please do not order this product ...without ssd it has very slow processor...',\n",
       " 'Never buy a ryzen laptop Better go for i3 Intel it works better',\n",
       " 'This laptop is i am using but this is really working are slowly...i am not happy',\n",
       " 'Worst product..',\n",
       " 'I use this laptop 1 months its performance are soo bad lak problem software very slow working and so many problems',\n",
       " \"Physical memory installed is 8.0 GB but out of it only 5.88GB is usable. They have no explanation about this. They haven't mentioned this in their specifications. Think before you buy.\",\n",
       " 'Too much from the date of purchase..',\n",
       " 'hard disk speed is too slow always shows 100% disk usage and games are lagging like hell.',\n",
       " \"The Laptop if you can get it around 48 with the SBI or HDFC cards offer then it's a really great deal. The HDDs a bit slow but that's nothing an SSD won't fix and an additional 8 gigs of Ram would make any other entry level gaming laptop run for its money. Bottomline with another 7k investment this will beat anything else below 60-65k\",\n",
       " \"Laptop generates lot of heat while using it Lags a lot while playing Gta5 Laptop takes 3minutes to boot up It takes 20-30 seconds to respond for a click when there is no background app running. Performance is much less than an average laptop which is half the cost of this laptop. HP shouldn't call this a gaming laptop at all and the price is way too higher for the poor value delivered.\",\n",
       " 'Hangs alot. Poor performance. Worst battery. Discharged within every 3 hour. Very poor experience. Even copying a single folder of 10 GB from one drive to another take about 1 hour time',\n",
       " 'Simply superb 😍😊',\n",
       " 'Be ready to spend atleast 5k extra on this laptop for ssd .Out of the box this is a very poorly performing laptop the reason is the HDD. Definitely need a SSD. After getting ssd now I could run the games with discord open before I could not . Now I could alt+ tab within sec before it would crash. If possible upgrade ram to 8Gb 3300Mhz then this lap is a beast at the prize',\n",
       " \"Very waste product i ever seened before.no customer care support.very very slow .. after 11 days the laptop showing very bad performance.the hp customer cares are not contacting me. After i submit a complaint.very very bad prduct.the flipkart , They do not givinge replacement also.don't by this product.\",\n",
       " \"Laptop is a beast but very poor battery don't expect for a long time gaming should use while charging battery drains within 1hr for gaming and 2hrs of normal usage\",\n",
       " \"Very very slow performance 😏. Processor very slow I'm not satisfied\",\n",
       " 'Best in all way....',\n",
       " 'Awesome budget gaming laptop, great performance and looks very cool.',\n",
       " \"After using a year I'm rating this laptop don't buy this product.this is the worst product.donot go on 5star rating.this product is worst\",\n",
       " 'Very slow',\n",
       " 'UPON THE EXPIRY OF ONE YEAR DISPLAY STOPPED WORKING AND COMPANY CLAIMED THAT ITS NOT UNDER WARRENTY. VERY DISSATISFIED WITH THE PRODUCT BEING A GAMING LAPTOP ALL THE FEATURES MENTIONED ARE TO BE CAPABLE AND DURABLE KEEPING IN MIND THAT IT IS A GAMING LAPTOP. FOR NORMAL USAGE ALSO THE SCREEN STOPPED ALL OF THE SUDDEN AND COSTS ME EXTRA.',\n",
       " 'Good',\n",
       " \"I am writing this review after 1 year of continuous usage. Very good and nice laptop it has best in class display it also passes the the dead pixel test. Displacement astic performance I play a lot of games in this, CSGO and GTA V.  It can't run call of duty Modern warfare, as ram is only 8GB, out of that too 5.88GB is only usable.  Cons: Ram is low. Only 5.88GB I have the HDD variant, and there is no SSD. So my laptop hangs sometimes, and is slow. Go for the SSD variant  Pros: There is ...\",\n",
       " 'Nice product for this budget but get ssd model for faster response and better performance than the hdd one',\n",
       " 'Worth',\n",
       " 'Worst laptop don’t waste your money',\n",
       " 'Wrost laptop ever',\n",
       " 'Good for gaming, but if you are a programeer as well then its worst. i m using this since a year but never feel its the worth of money ,3 times i done cloud recovery (master reset)  speed is not well even it had 8gb ram',\n",
       " \"Very slow and worst. Pls don't buy this !! Complete waste of money\",\n",
       " \"Go for a bit better version of pavilion gaming laptop rather than this one. Only 2 months and I have already replaced a harddisk, frequent lags (too much lagging) and works a bit slow. After windows 11 update it's like potato. Had better expectations from hp. Seriously\",\n",
       " 'Very bad product  It’s super slow and takes 20 mins to start.  Never expected this from a brand like HP…',\n",
       " \"Getting very slow after every 2 or 3 month. Don't purchase, if anyone going for this product\",\n",
       " 'Currently you can find a better laptop at this rate, Avg product, High battery usage if you do some heavy work,  Strong and hard piece.',\n",
       " 'its too slow after 3 months of use',\n",
       " \"Waste of money...!! Never buy this seeing anyone's review...its bad and slow after 3 months u will regret buying this laptop\",\n",
       " 'Have been using this for few months now and am loving it. The experience, reliability, and the large screen makes it really cool!',\n",
       " \"Haven't download any software still hangs a lot after 7months of usage the disk, CPU and memory space always goes to 100\",\n",
       " 'Too much hang',\n",
       " 'It is very powerful but because off hdd it is litely slow but no problem it Play gta v very easily in any setting',\n",
       " 'Good budget gamming laptop from hp,I am happy with this laptop,',\n",
       " 'I am using this laptop for 1 year now best value for money',\n",
       " 'Better to go for acer aspire 7 or ssd variant...I am Facing lot of issues. Worst perfomamce..',\n",
       " 'The worst laptop you can ever buy it has ram issues hp support also not able to fix my solution and you will only get 80 90 fps in valorant',\n",
       " 'So lets keep it simple fantastic product unless the vents at below it are open enough For gaming can handle everything And If u gaming try rising the laptop slightly to open up the vents which will make the performance noticeable way better multitasking will improve and the hdd kinda slow but when it also given enough breathing room will perform just well so prefer slightly rised like a cardboard roll shud do just fine Overall 10/10 its epic and the specs are just fine to stream and record...',\n",
       " 'This is amazing I can use this laptop no lag,not any issues best laptop I think everyone buy this laptop',\n",
       " 'Great product , superb result , happy with the purchase .',\n",
       " 'This laptop has a Nvidia 1650 graphics card but by default internal onboard graphics is preferred by laptop for games. You need to change this setting in Nvidia control center to use Nvidia for graphics and games. Major downside of this laptop is it comes with 5400 rpm hard-disk, which causes it to perform very slow. For those who got this laptop with SSD, no problem for them, but for remaining they need to buy additional SSD to get decent day to day usage performance from this Laptop. Fina...',\n",
       " 'All things are good and best But SSD is must Minimum 256gb Overall performance is very good....',\n",
       " 'For HDD varient this laptop is as slow as a Turtle..... But after installation of SSD this is really good one.... and look is awesome...',\n",
       " 'Very slow product',\n",
       " 'If you want a Gaming performance I insist you guys to install a Solid State Drive (SSD).......But if you are a normal user this laptop is really more than enough for your needs.....  Plus Points:- ->Very Good Design ->Less weight compared to other with same specifications ->All in all Laptop ->Elegant backlight  Limitations:- -> As it is Plastic body material, it is very often to get untidy.....frequent cleaning is required -> Always good to install SSD to get beast performance -> Camera cla...',\n",
       " 'Worst Laptop For gaming or daily use too. So much hanging issues and lagging issue and booting issue too.',\n",
       " 'Always hanging, not always showing not responding',\n",
       " 'hard disk is slow...you can install ssd must',\n",
       " 'Bit battery backup is low',\n",
       " 'In short I would say, WORTHY!',\n",
       " 'Worst model',\n",
       " 'Very slow',\n",
       " 'Laptop is powerful and hardware is best,but the quality of hard disk is so bad,it crash in 1year after buying,i reccomend you to buy the its ssd version or you can upgrade to ssd after buying.',\n",
       " 'On this price....good performance 🥳',\n",
       " 'Hdd are very sloww.',\n",
       " 'Laptop is tooo slow on both off and on, lag while watching movies, lag on process, many apps and software are not responding',\n",
       " \"Very bad item, it's got stuck every time and responding time is tooo large it's totally waste of money pls 🙏check before you buy\",\n",
       " 'Value for money',\n",
       " 'Should update Ram and Ssd to avoid slow performance. Other than that every thing is good',\n",
       " 'DONT BUY HDD.go for SSD. day 2 laptop got automatically shutdown and when it came up, there is no operating system. I had to buy it for my own money.',\n",
       " 'Good Performance Laptop',\n",
       " 'All things is good but performance is down when playing games charger heating and lagging during high games',\n",
       " 'Satisfied.',\n",
       " 'Good purchase from Flipkart, a bit slow even after with SSD so far good experience with the product',\n",
       " \"It's very good.. Worth of money\",\n",
       " 'Slow start ,',\n",
       " 'Worth the money',\n",
       " 'It was really nice I like it',\n",
       " 'There is one important thing about this laptop that is- If you add more ram upto 16gb and Ssd then this laptop is fantabulous. Warning!: Atleast 12gb of Ram is necessary to Run best of tour games.',\n",
       " 'It takes too much time to boot up.',\n",
       " 'Ok',\n",
       " 'Gaming performance was very good since it uses the graphics card. Rest of the normal day to day performance was very bad. The pc runs very slow and lagging even when you open a browser.',\n",
       " \"ITEM DELIVERED INTACT AND PERFORMING SATISFACTORILY TILL DATE. NO DEFECT FOUND AS I'VE BEEN USING IT FOR LAST 12 MONTHS.\",\n",
       " 'Very good but take some time to booting',\n",
       " 'Amazing laptop, but slower because of HDD, if my budget was more I would have bought same laptop with SSD.',\n",
       " 'I think because of HDD this product is getting too slow running',\n",
       " 'very very hang but looking is good',\n",
       " 'Should buy it.......!',\n",
       " 'Good product',\n",
       " \"Satisfied with this purchase.. Don't expect much from a ryzen 5 processor but powerful enough for programming and coding.\",\n",
       " 'Best laptop in this segment',\n",
       " 'adipoli product ❤️🥳',\n",
       " 'Good product',\n",
       " 'Worth',\n",
       " 'amazing product',\n",
       " \"Man you're looking for accounting work laptop..... Then that's perfect for us\",\n",
       " 'Product was good and worth for Penny',\n",
       " \"Worst Laptop Ever / I haven't Download Such Things Hanging So Much It's 1 Month Review / But Now It's 7month And it's Opening Microsoft , Chrome Speed So Trash\",\n",
       " \"It needs ram and ssd ,afterwards it's best , otherwise it's booting time is so long also, sometimes it may hangs\",\n",
       " \"Amazing Laptop for mild gaming...If you are not a professional gamer and just wanna play for fun this lap. is highly recommended...Even good for coding!!...best at this range ...and it's design is just lit!!!..🤟🔥\",\n",
       " 'Some of my internal parts are replaced by other quality less old parts .I just found out this today when I just opened it because of its very poor performance and I was shocked.if I found out earlier in the time of before replacement surely replaced it.and I would never buy a another product from Flipkart because then will never hesitate to fool me again',\n",
       " 'can we use pentab with this laptop ?',\n",
       " 'I work with android studio. But this lap can not run emulators. It a bit laggy than expected. I wont say its bad but could be better. If you are looking to do heavier tasks go for another higer ones.',\n",
       " \"Just upgrade with SSD then it's great\",\n",
       " 'I am using this laptop from last 6 months and I must say it worths. If you are looking for gaming laptop then this laptop will the best option for you. You will neet to upgrade with SSD. You can use it for official work also',\n",
       " 'Good',\n",
       " 'I love it',\n",
       " \"ONE THING . The Warrenty.. Got a new one and instead of 12 months of warrenty it has only 8 months warranty left and . PC opened 4 months ago for just one day and even in your Hp site you cannot dispute the Warrenty issue because HP says it's not a Consumer product but a Business product.. No Idea what to do about this. And also system is slow and gets hanging simultaneously. Display is good. Sound is not good and loud as expected.\",\n",
       " 'It takes too much time to start',\n",
       " 'Good',\n",
       " '•The Processing speed is very slow •Booting and Loading takes much time •Overall looks are good   Is this because of the running of automatic windows updates !???',\n",
       " 'Not buy this product Buy ssd laptop',\n",
       " 'Great design and performance. A bit slow boot time.',\n",
       " \"Worst laptop, very very slow processor don't buy it\",\n",
       " 'Best laptop under this price',\n",
       " 'Very nice for students and gamers',\n",
       " 'Best laptop for gaming design is excellent graphics Premium design decent processor best deal @49k 150w charger super gaming laptop under 50k hp brand quality',\n",
       " 'Nice',\n",
       " 'Very good for audio and video production.',\n",
       " \"Worst laptop don't buy it at all\",\n",
       " 'Poor laptop',\n",
       " 'In last 6 months it has crashed twice. How can HP make such a product',\n",
       " 'Good gaming & design product in budget',\n",
       " \"Very slow performance, it can irritates. If you buy it be patient while working on it😁😁😁 and it's not an gaming laptop performer..\",\n",
       " 'Speed Not good.',\n",
       " \"It is a very good laptop. Very good in this price range. Don't have too much expectations as mentioned in some other reviews. Only problem is 5.9 gb ram ( 2.1 gb is reserved for integrated GPU.\",\n",
       " 'average',\n",
       " 'You Must have to upgrade the laptop ram for playing high specs games like GTA V and others. BTW nyc design and performance..',\n",
       " 'GOOD FOR GAMING AND VIDEO EDITING.. BUT RAM UPGRADE IS NECESSARY FOR REACHING ITS POTENTIAL... ALSO SSD UPGRADATION FOR FASTER BOOTING TIME AND PERFORMANCE ENHANCEMENT..... RYZEN 3550H ITSELF IS A GOOD BUDGET PROCESSOR FOR MEDIUM- HIGH GAMING BUT THE PROCESSOR ITSELF TAKE UP 2GB OF RAM AND THE INSTALLED APPS ALSO CONSUMES MORE THAN HALF OF THE RAM SPACE..WHICH LEFT THE USER ONLY 2-3GB OF SPACE... SO BETTER TO UPGRADE... ITS LACKS LIKE HELL IN JUST STOCK 8GB RAM. OTHER THAN THAT THIS LAPTOP IS...',\n",
       " 'Really very good',\n",
       " \"Nice performance but sometimes get stuck when am working on my office domain.. I don't think it's good for gaming purpose... I am giving review after one year of use.. in between battery was draining very fastly.. but customer care helped and resolved quickly.. Tbh look is very cool but sharp edges are there.. packaging was very nice and safe also the delivery was on time... Thanks\",\n",
       " \"I been using these product it's completely slow not worth of money you may regret after buying these product\",\n",
       " 'Slow working battery drain,',\n",
       " 'Worth it',\n",
       " 'Performance is pathetic while working with AI or photoshop. I think Flipkart is worst in handling fake product supplier, I think Flipkart actually receives handsome margin through supplier that’s why promoting it through its platform',\n",
       " 'System is good but booting time it takes around 55 seconds and while updating windows system becomes very slow.',\n",
       " 'Requires SSD for better performance',\n",
       " \"it's so impressive and value for money... Overall it's showing great performance but u have to add ssd for better performance in gaming...\",\n",
       " 'Poor performance',\n",
       " 'Frame drop happens when we play gta 5',\n",
       " 'With a ram and ssd....this is a true beast🔥',\n",
       " 'The laptop is good the build quality is awesome and display,battery etc are excellent but you will get disappointed of the performance it takes around 5 minutes to boot it up and it lags even while using chrome with multiple tabs. Hope it will be better in the ssd version of the same laptop',\n",
       " 'nice',\n",
       " \"Well, the laptop could run GTA 5, with basic graphics. But, whenever I felt the game froze in the middle, I had to restart the laptop. The NFS Rivals car game ran very well, with minimal graphics. Crypto mining is not possible as the GPU only has 4 gb ram. Min you would need 6 gb for those kind of activities.  The boot time is a staggering 2 minutes 20 seconds and it's frustrating. The one I got was a replacement unit. Originally received one has defective display.  Waiting for the warranty...\",\n",
       " 'Good product',\n",
       " 'Nice',\n",
       " 'Nice product',\n",
       " 'The laptop is very slow',\n",
       " 'Good',\n",
       " 'Boot time is much high and processing is also slow',\n",
       " 'Average performance',\n",
       " 'Waste of money',\n",
       " 'It is so slow better to take ssd',\n",
       " 'We r really happy to purchased the HP pavilion by flipkart. Awesome product and awesome online shopping app i.e Flipkart.',\n",
       " 'Not so good!',\n",
       " 'Everything fine but harddisk little slower',\n",
       " 'Its too hanging',\n",
       " 'Not what was expected',\n",
       " 'Performance is low',\n",
       " 'The hinges are looking cool and give this laptop a cool look but in day to day usage they create problem. Screen is shaky cz of these hinges . Also there is no ssd i highly recommend if u are going to buy this laptop purchase a ssd soon. Overall laptop h fine. Gaming performance is great .',\n",
       " 'Good',\n",
       " 'There is no ssd ..so its kind of slow..that it Overall its good',\n",
       " 'Value for money product',\n",
       " \"Very slow performance.I am not happy with this product. So you don't buy it and go for other except HP.\",\n",
       " 'Process is very slow',\n",
       " 'Very poor laptop from HP. The design itself is faulty as the charging point location is bound to create problem due to its positioning on the laptop. Battery itself has been ok but it is difficult to get it charged. Display is ok but again due to design the screen panel vibrates even with the fan speed. With such impressive specifications the laptops takes too much of time to boot. This is for normal functions, i havent even used it for gaming purpose yet. Charger seems to be a cheap third gr...',\n",
       " 'Very bad',\n",
       " 'Well good product',\n",
       " 'Processor is very slower , I m not satisfied from this product, I want to change my laptop',\n",
       " 'Best in this segment',\n",
       " 'just upgrade it to 225 ssd, and then it will turn into beast..',\n",
       " \"The laptop performance is not that good... because it requires to be upgraded.it is bang for the buck but without ram upgrade to 16gb and SSD you can't play any good AAA title game even at low settings...this issue is due to 2.1gb ram occupied by Vega 8 integrated graphics and paging issue due to HDD and low ram....go for it only if you can upgrade or go for another laptop...this is not a ready to play gaming laptop...\",\n",
       " 'Very slow processar. Even after 8gb memory system hangs !',\n",
       " 'This product having lagging problem',\n",
       " \"Premium looking laptop . ❤️ Value for money .❤️ Don't think about it just go for it❤️\",\n",
       " 'After 7 month booting time is so late But you can buying this laptop for more better experience.',\n",
       " 'Wonderfull',\n",
       " 'Good',\n",
       " 'The performance of a brand new unit was pathetic. The purple backlit sucks. The font on keyboard is not comfortable. Had to run a check with HP assistant. I dont recommend',\n",
       " 'Not suitable for gamers',\n",
       " 'With unique design and Backlit keyboard this looks fantastic..... But on the part of functioning it take a very long time to start... It seriously consumes much time to stable after restart too...',\n",
       " 'Awesome Gaming laptop',\n",
       " \"Lap is good But delivery is too late It's good working lap Nice design Overall good\",\n",
       " 'Super laptop at this price segment.',\n",
       " 'If you like to buy this product go right ahead, this is a great budget gaming laptop the two downside of this laptop is out of the 8gb ram you are getting only 6gb usable the rest is used by the system so i will recommend you to upgrade the ram with atleast 4gb or 8gb ram stick and the second downside is that the 5400rpm hdd is very slow so i will also recommend a 512gb ssd upgrade for gaming',\n",
       " 'The screen was not working . Chk before you take this product. Hope i get a replacement of a gud quality.',\n",
       " \"If you want a gaming laptop.You can definitely go with this laptop.But keep a thing in mind that it has a integrated graphic card which is AMD radeon vega 8 so it allocate approx 2GB of the RAM memory so you'll get only approx 5.9GB memory for RAM so heavy games like GTA V needs atleast 8GB of ram then it uses the virtual memory that is not much fast as RAM so you will feel some framedrops if you are a gamer so you have to upgrade the RAM.And also you can't deallocate the memory from the HP b...\",\n",
       " 'Best laptop',\n",
       " \"It's boot up slow, tools are 40 seconds due to HDD, otherwise it's OK.\",\n",
       " 'Don’t buy it if ur main aim is gaming.it has only 6gb usable ram and for gaming an additional 8gb ram is must.boot time is ok and can be made better with ann ssd.battery,sound and display r just wonderful.if ur going to college and want a gaming under budget I’d suggest u to go for it',\n",
       " 'Great laptop for daily office use. On time delivery. Genuine product. Good packaging.',\n",
       " 'Worth of money',\n",
       " 'Absolute beast keeping in mind the budget of the device.  I do not play games, rather I bought his for product and graphic design.  Adobe suite works flawlessly. 3 d modelling software works without any issues. Heating could be a issue while performing 3d rendering, suggest using a cooling pad to keep temp. In control.  On stock hdd ..boot time is more..suggest to upgrade to ssd and ram upgrade from hp service centre ..in order keep warranty intact.',\n",
       " 'Design super Sound quality super Display normal Battery usage super Totally value for money this product',\n",
       " 'The best.... Every penny was worth spending.',\n",
       " 'Loved it❤️',\n",
       " 'Beast!',\n",
       " 'Nice laptop for Gaming ,Video Editing, coding I Have some issues with screen colour ratio  NOT A MAJOR ISSUE THOUGH  NICE LAPTOP AT THIS PRICE RANGE',\n",
       " 'Good product!! But you can continue use at least 3 hours, it is stuck when you switch on it while every thing is good.',\n",
       " 'Thank you',\n",
       " 'Speed is slow but value of money for hp laptop and I suggest go with ssd varient',\n",
       " 'Speakers are not working !!',\n",
       " \"It's good device in this price range packed with a good graphic card sleek design and a pretty decent processor the only and biggest draw back lack of ssd though you can cop it with a additional sum of 5000 bucks by adding a ssd ( got with nvme m.2 ssd) and you will be left no complaint.\",\n",
       " 'good look and performence',\n",
       " 'No SSD - makes loading new software very slow. Else good product.',\n",
       " \"I review this product when not added extra ram or ssd the performance may vary on adding them.Pls don't buy this product if you want 🙏 good performance it is not worth this price.pls go for intel i5 for this price range. I can't even open the task manager quickly when nothing is opened.pls hear my review. I felt very much for purchased this product. Many reviews says that it is a performance beast but i dont think it is a performance beast. I didn't take care of those negative reviews now i...\",\n",
       " 'They say it have 8gb RAM but 2.1 gb is hardware reserved So actual usable ram is 5.9gb only. I have use it for 3 months, lags during playing game even when using gpu. Battery life is not up to the mark. Overall its not worth the price.',\n",
       " 'good',\n",
       " 'Good product',\n",
       " 'best laptop',\n",
       " 'It is laptop with good spec but the one and only thing you have to do is to upgrade ur m2. Nmve ssd to have a good performance and bettee booting time. And with this lap we can play games in a 60p frame per second but it takes some more time to open because of the hdd in the lap. Battery backup is good as it can last over 3.5 hrs min and 5 hrs of maximum timing.and the backlit keyboard is the feature that i found very much useful and also looks great in night time. Overall its a performance g...',\n",
       " 'Best gaming laptop in this range..... As everyone said u need a ram and ssd for best performance',\n",
       " 'Best hp laptop under this range',\n",
       " 'if add the additional SSD in this spec then will be seen a good performance',\n",
       " 'Good product',\n",
       " \"I hate booting speed, it takes eternity to boot, and remember its not bcz of rpm and hdd bt something else, maybe some software issue or something. I tried to upgrade bios and update it, bt the problem won't buzz I don't know if its gonna get solved or not bt pls don't take it if u think its goof speed booting laptop  After 1 month use: Guys m really happy bcz the booting prblm is now solved and it take 20 seconds to open on hdd.. Bt still i see some lagging while playing heavy games with t...\",\n",
       " 'Nice laptop , smooth performance, worth the price !',\n",
       " 'Too good',\n",
       " 'Value for money 💰',\n",
       " 'Worth the money. SSD only gives 15-20 fps, without that itself its a beast, but some few lags in some point.',\n",
       " \"Nic laptop But it's booting time and performance is slow\",\n",
       " 'Using for 3 days now.... So far so good. In a budgeted gaming laptop, I guess it is one of the best you will acquire if you go for it.',\n",
       " 'Performance beast ... But needed a better battery capacity...',\n",
       " 'Nice but not that much',\n",
       " 'Laptop is very good but the hard disk variant is slow but once you installed a ssd in it you will the beast performance.',\n",
       " 'If u want to play games buy ps4 or ps5 more better for games in pc or laptop some does not even work',\n",
       " 'Waste product',\n",
       " 'Nice',\n",
       " 'Excellent Product',\n",
       " 'Very good product ⭐⭐⭐⭐⭐',\n",
       " 'Amazing laptop in this range but very slow, upgrade to ssd',\n",
       " 'Booting time is more, I am not recommending.',\n",
       " \"What a powerful and sturdy laptop. Build quality is very impressive. I bought the 8gb version. Can upgrade to 16gb with another slot that supports 8gb ram. Ssd can also be installed. Performance wise it's ok, as I use it for editing purposes, takes time to render even JPEGs. But I think once upgraded to its full power and windows, softwares shifted to SSD, then it will be a real solid beast. As of now am loving it very much and it's a value for money buy. One thing that I found odd is the key...\",\n",
       " 'God',\n",
       " \"It was very slow by starting and slow performance. Simply don't waste u r money on this laptop.\",\n",
       " 'Nice product but i feel like without ssd the performance is not satisfying.',\n",
       " 'excellent',\n",
       " 'Honest Review! This laptop is good for normal usage and light gaming purposes though it is very slow without an external SSD .So I would really recommend you to get a SSD and if possible upgrade the ram to 16 gb for flawless gaming.Sound quality is decent and video quality is sharp.',\n",
       " 'This is a budget gaming beast',\n",
       " \"Worst Laptop I ever purchased Don't Buy It Pls Waste of money It hangs too much\",\n",
       " 'Complete value for money product Very much satisfactory performance',\n",
       " \"Received already used and defect product ,applied for return but it's mentioned more than 15 days for replacement\",\n",
       " 'The Laptop is good but since there is no SSD, the bootup time takes much more than the expected time (Approx 4-5 Mins). The company is also not providing the MS Office lifetime access (which we have to pay separately). Sometimes even the responding time is also slow. Sometimes the type c port is not working properly for transferring files and for charging. There is no global warranty for this product.',\n",
       " \"The product wasn't expected..and also support not at all in time.\",\n",
       " 'Very good....',\n",
       " 'The laptop was superb. But its bppting is not too fast ot takes about 30-1 min. 3-4 days aftet buying there was a problem that i cant open setting, taskbar, windows etc. So i rebooyed it. But now its working excellent',\n",
       " 'Best Product',\n",
       " \"It's the worst gaming laptop ever don't buy it.\",\n",
       " 'Everything is ok but it take time to open sometime good value of your money',\n",
       " 'This is the worst laptop that anyone can buy for gaming after a year the system is super slow... majority time there is a huge FPS drop while playing games.... it can not take heavy application during work time.... dont buy this Laptop u will be wasting ur money',\n",
       " 'Very poor quality performance...not worth it',\n",
       " 'I have been using this for over 4 month now. It has geniunly stood up for my needs Been doing some coding and cad drawing using solidworks  Works just fine with this graphic card.. Rendering speed is good but 1) u will need a ssd asap At this point takes around 3 minutes to start and lags for some seconds too. 2) this does not include office 3) has macafee antivirus for only 21 days  Other than that coders, designers, students. If you are on a budget go for this one. Best of luck',\n",
       " \"Please don't buy???\",\n",
       " 'Good for normal editing and gaming🎮',\n",
       " 'Ssd is the real need and 8gb ram if possible',\n",
       " 'Good',\n",
       " 'Love this product. My first laptop.',\n",
       " \"Honest Review  Just one thing  Add one more 8GB ram stick and bammm. U r good to go. Every single game runs at 60fps on high setting. Even RDR 2. Best laptop. Doesn't feel need of 4600h. This is enuf.\",\n",
       " 'Great design with better performance',\n",
       " 'Everything is good but disappointed by flipkart delivery  I was told it would be delivered by 11 am but delivered at 4 pm',\n",
       " 'Very slow laptop. Dont go on configurations...the new laptop OS is very very slow. Pathetic. With time it became more slow',\n",
       " 'Very good laptop for gaming, runs gta 5, fifa 19 , COD and many games smoothly, for games like cyberpunk upgrade the RAM. Upgrade RAM and get an SSD and this is a BEAST.',\n",
       " 'Aavarage system running slow',\n",
       " \"If you are buying this product then buy a ram card and ssd with it it'll become beast after upgrading.\",\n",
       " 'Very Well Featured Laptop',\n",
       " ...]"
      ]
     },
     "execution_count": 16,
     "metadata": {},
     "output_type": "execute_result"
    }
   ],
   "source": [
    "Full_review"
   ]
  },
  {
   "cell_type": "code",
   "execution_count": 17,
   "metadata": {},
   "outputs": [
    {
     "data": {
      "text/plain": [
       "1460"
      ]
     },
     "execution_count": 17,
     "metadata": {},
     "output_type": "execute_result"
    }
   ],
   "source": [
    "len(Ratings)"
   ]
  },
  {
   "cell_type": "code",
   "execution_count": 18,
   "metadata": {},
   "outputs": [
    {
     "data": {
      "text/plain": [
       "1460"
      ]
     },
     "execution_count": 18,
     "metadata": {},
     "output_type": "execute_result"
    }
   ],
   "source": [
    "len(Full_review)"
   ]
  },
  {
   "cell_type": "code",
   "execution_count": 19,
   "metadata": {},
   "outputs": [],
   "source": [
    "url='https://www.flipkart.com/apple-macbook-air-core-i5-5th-gen-8-gb-128-gb-ssd-mac-os-sierra-mqd32hn-a/product-reviews/itm0602f520428ca?pid=COMEVCPQBXBDFJ8C&lid=LSTCOMEVCPQBXBDFJ8C4V6AHG&marketplace=FLIPKART'"
   ]
  },
  {
   "cell_type": "code",
   "execution_count": 20,
   "metadata": {},
   "outputs": [],
   "source": [
    "#opening the webpage through our driver\n",
    "driver.get(url)"
   ]
  },
  {
   "cell_type": "code",
   "execution_count": 21,
   "metadata": {},
   "outputs": [],
   "source": [
    "for i in range(0,328): \n",
    "    for j in driver.find_elements_by_xpath(\"//div[@class='_3LWZlK _1BLPMq' or @class='_3LWZlK _32lA32 _1BLPMq' or @class='_3LWZlK _1rdVr6 _1BLPMq']\"):\n",
    "        Ratings.append(j.text)\n",
    "            \n",
    "            \n",
    "    for k in driver.find_elements_by_xpath(\"//div[@class='t-ZTKy']/div/div\"):\n",
    "        Full_review.append(k.text.replace('\\n',' '))\n",
    "    \n",
    "    button=driver.find_element_by_xpath(\"//*[contains(text(), 'Next')]\")\n",
    "    driver.execute_script(\"arguments[0].click();\", button)\n",
    "    \n",
    "    time.sleep(2)"
   ]
  },
  {
   "cell_type": "code",
   "execution_count": 22,
   "metadata": {},
   "outputs": [
    {
     "data": {
      "text/plain": [
       "4740"
      ]
     },
     "execution_count": 22,
     "metadata": {},
     "output_type": "execute_result"
    }
   ],
   "source": [
    "len(Ratings)"
   ]
  },
  {
   "cell_type": "code",
   "execution_count": 23,
   "metadata": {},
   "outputs": [
    {
     "data": {
      "text/plain": [
       "4740"
      ]
     },
     "execution_count": 23,
     "metadata": {},
     "output_type": "execute_result"
    }
   ],
   "source": [
    "len(Full_review)"
   ]
  },
  {
   "cell_type": "code",
   "execution_count": 24,
   "metadata": {},
   "outputs": [],
   "source": [
    "url='https://www.flipkart.com/asus-celeron-dual-core-4-gb-1-tb-hdd-windows-10-home-x543ma-gq1015t-laptop/product-reviews/itmf8811674edbeb?pid=COMFSKF9UQH8RKYF&lid=LSTCOMFSKF9UQH8RKYFK8UKIL&marketplace=FLIPKART'"
   ]
  },
  {
   "cell_type": "code",
   "execution_count": 25,
   "metadata": {},
   "outputs": [],
   "source": [
    "#opening the webpage through our driver\n",
    "driver.get(url)"
   ]
  },
  {
   "cell_type": "code",
   "execution_count": 26,
   "metadata": {},
   "outputs": [],
   "source": [
    "for i in range(0,97): \n",
    "    for j in driver.find_elements_by_xpath(\"//div[@class='_3LWZlK _1BLPMq' or @class='_3LWZlK _32lA32 _1BLPMq' or @class='_3LWZlK _1rdVr6 _1BLPMq']\"):\n",
    "        Ratings.append(j.text)\n",
    "            \n",
    "            \n",
    "    for k in driver.find_elements_by_xpath(\"//div[@class='t-ZTKy']/div/div\"):\n",
    "        Full_review.append(k.text.replace('\\n',' '))\n",
    "    \n",
    "    try:\n",
    "        button=driver.find_element_by_xpath(\"//*[contains(text(), 'Next')]\")\n",
    "        driver.execute_script(\"arguments[0].click();\", button)\n",
    "    except NoSuchElementException:\n",
    "        pass\n",
    "    time.sleep(2)"
   ]
  },
  {
   "cell_type": "code",
   "execution_count": 27,
   "metadata": {},
   "outputs": [
    {
     "data": {
      "text/plain": [
       "5710"
      ]
     },
     "execution_count": 27,
     "metadata": {},
     "output_type": "execute_result"
    }
   ],
   "source": [
    "len(Ratings)"
   ]
  },
  {
   "cell_type": "code",
   "execution_count": 28,
   "metadata": {},
   "outputs": [
    {
     "data": {
      "text/plain": [
       "5710"
      ]
     },
     "execution_count": 28,
     "metadata": {},
     "output_type": "execute_result"
    }
   ],
   "source": [
    "len(Full_review)"
   ]
  },
  {
   "cell_type": "code",
   "execution_count": 29,
   "metadata": {},
   "outputs": [],
   "source": [
    "url='https://www.flipkart.com/lenovo-ideapad-s145-ryzen-3-dual-core-3200u-4-gb-1-tb-hdd-windows-10-home-s145-15api-thin-light-laptop/product-reviews/itm3028b196c8fe1?pid=COMFJM3T7ZF2Z86F&lid=LSTCOMFJM3T7ZF2Z86FUWBWK9&marketplace=FLIPKART'"
   ]
  },
  {
   "cell_type": "code",
   "execution_count": 30,
   "metadata": {},
   "outputs": [],
   "source": [
    "#opening the webpage through our driver\n",
    "driver.get(url)"
   ]
  },
  {
   "cell_type": "code",
   "execution_count": 31,
   "metadata": {},
   "outputs": [],
   "source": [
    "for i in range(0,73): \n",
    "    for j in driver.find_elements_by_xpath(\"//div[@class='_3LWZlK _1BLPMq' or @class='_3LWZlK _32lA32 _1BLPMq' or @class='_3LWZlK _1rdVr6 _1BLPMq']\"):\n",
    "        Ratings.append(j.text)\n",
    "            \n",
    "            \n",
    "    for k in driver.find_elements_by_xpath(\"//div[@class='t-ZTKy']/div/div\"):\n",
    "        Full_review.append(k.text.replace('\\n',' '))\n",
    "    \n",
    "    try:\n",
    "        button=driver.find_element_by_xpath(\"//*[contains(text(), 'Next')]\")\n",
    "        driver.execute_script(\"arguments[0].click();\", button)\n",
    "    except NoSuchElementException:\n",
    "        pass\n",
    "    time.sleep(2)"
   ]
  },
  {
   "cell_type": "code",
   "execution_count": 32,
   "metadata": {},
   "outputs": [
    {
     "data": {
      "text/plain": [
       "6440"
      ]
     },
     "execution_count": 32,
     "metadata": {},
     "output_type": "execute_result"
    }
   ],
   "source": [
    "len(Ratings)"
   ]
  },
  {
   "cell_type": "code",
   "execution_count": 33,
   "metadata": {},
   "outputs": [
    {
     "data": {
      "text/plain": [
       "6440"
      ]
     },
     "execution_count": 33,
     "metadata": {},
     "output_type": "execute_result"
    }
   ],
   "source": [
    "len(Full_review)"
   ]
  },
  {
   "cell_type": "markdown",
   "metadata": {},
   "source": [
    "### scraping ratings and reviews of mobile phones"
   ]
  },
  {
   "cell_type": "code",
   "execution_count": 34,
   "metadata": {},
   "outputs": [],
   "source": [
    "url='https://www.flipkart.com/redmi-9-power-electric-green-64-gb/product-reviews/itmca7d78e222ed7?pid=MOBFYZ7AVAXXB2TH&lid=LSTMOBFYZ7AVAXXB2THVSNL0U&marketplace=FLIPKART'"
   ]
  },
  {
   "cell_type": "code",
   "execution_count": 35,
   "metadata": {},
   "outputs": [],
   "source": [
    "driver.get(url)"
   ]
  },
  {
   "cell_type": "code",
   "execution_count": 36,
   "metadata": {},
   "outputs": [],
   "source": [
    "for i in range(0,367): \n",
    "    for j in driver.find_elements_by_xpath(\"//div[@class='_3LWZlK _1BLPMq' or @class='_3LWZlK _32lA32 _1BLPMq' or @class='_3LWZlK _1rdVr6 _1BLPMq']\"):\n",
    "        Ratings.append(j.text)\n",
    "            \n",
    "            \n",
    "    for k in driver.find_elements_by_xpath(\"//div[@class='t-ZTKy']/div/div\"):\n",
    "        Full_review.append(k.text.replace('\\n',' '))\n",
    "    \n",
    "    try:\n",
    "        button=driver.find_element_by_xpath(\"//*[contains(text(), 'Next')]\")\n",
    "        driver.execute_script(\"arguments[0].click();\", button)\n",
    "    except NoSuchElementException:\n",
    "        pass\n",
    "    time.sleep(2)"
   ]
  },
  {
   "cell_type": "code",
   "execution_count": 37,
   "metadata": {},
   "outputs": [
    {
     "data": {
      "text/plain": [
       "10049"
      ]
     },
     "execution_count": 37,
     "metadata": {},
     "output_type": "execute_result"
    }
   ],
   "source": [
    "len(Ratings)"
   ]
  },
  {
   "cell_type": "code",
   "execution_count": 38,
   "metadata": {},
   "outputs": [
    {
     "data": {
      "text/plain": [
       "10049"
      ]
     },
     "execution_count": 38,
     "metadata": {},
     "output_type": "execute_result"
    }
   ],
   "source": [
    "len(Full_review)"
   ]
  },
  {
   "cell_type": "code",
   "execution_count": 39,
   "metadata": {},
   "outputs": [],
   "source": [
    "url='https://www.flipkart.com/motorola-g30-dark-pearl-64-gb/product-reviews/itme5ae7fa01f345?pid=MOBFVXGZWDHJHQGZ&lid=LSTMOBFVXGZWDHJHQGZBI5YJU&marketplace=FLIPKART'"
   ]
  },
  {
   "cell_type": "code",
   "execution_count": 40,
   "metadata": {},
   "outputs": [],
   "source": [
    "driver.get(url)"
   ]
  },
  {
   "cell_type": "code",
   "execution_count": 41,
   "metadata": {},
   "outputs": [],
   "source": [
    "for i in range(0,157): \n",
    "    for j in driver.find_elements_by_xpath(\"//div[@class='_3LWZlK _1BLPMq' or @class='_3LWZlK _32lA32 _1BLPMq' or @class='_3LWZlK _1rdVr6 _1BLPMq']\"):\n",
    "        Ratings.append(j.text)\n",
    "            \n",
    "            \n",
    "    for k in driver.find_elements_by_xpath(\"//div[@class='t-ZTKy']/div/div\"):\n",
    "        Full_review.append(k.text.replace('\\n',' '))\n",
    "    \n",
    "    try:\n",
    "        button=driver.find_element_by_xpath(\"//*[contains(text(), 'Next')]\")\n",
    "        driver.execute_script(\"arguments[0].click();\", button)\n",
    "    except NoSuchElementException:\n",
    "        pass\n",
    "    time.sleep(2)"
   ]
  },
  {
   "cell_type": "code",
   "execution_count": 42,
   "metadata": {},
   "outputs": [
    {
     "data": {
      "text/plain": [
       "11619"
      ]
     },
     "execution_count": 42,
     "metadata": {},
     "output_type": "execute_result"
    }
   ],
   "source": [
    "len(Ratings)"
   ]
  },
  {
   "cell_type": "code",
   "execution_count": 43,
   "metadata": {},
   "outputs": [
    {
     "data": {
      "text/plain": [
       "11619"
      ]
     },
     "execution_count": 43,
     "metadata": {},
     "output_type": "execute_result"
    }
   ],
   "source": [
    "len(Full_review)"
   ]
  },
  {
   "cell_type": "code",
   "execution_count": 44,
   "metadata": {},
   "outputs": [],
   "source": [
    "url='https://www.flipkart.com/motorola-e7-plus-misty-blue-64-gb/product-reviews/itm9a59be77f1cd2?pid=MOBFTYWW8QWUYDZU&lid=LSTMOBFTYWW8QWUYDZUM6DQNI&marketplace=FLIPKART'"
   ]
  },
  {
   "cell_type": "code",
   "execution_count": 45,
   "metadata": {},
   "outputs": [],
   "source": [
    "driver.get(url)"
   ]
  },
  {
   "cell_type": "code",
   "execution_count": 46,
   "metadata": {},
   "outputs": [],
   "source": [
    "for i in range(0,373): \n",
    "    for j in driver.find_elements_by_xpath(\"//div[@class='_3LWZlK _1BLPMq' or @class='_3LWZlK _32lA32 _1BLPMq' or @class='_3LWZlK _1rdVr6 _1BLPMq']\"):\n",
    "        Ratings.append(j.text)\n",
    "            \n",
    "            \n",
    "    for k in driver.find_elements_by_xpath(\"//div[@class='t-ZTKy']/div/div\"):\n",
    "        Full_review.append(k.text.replace('\\n',' '))\n",
    "    \n",
    "    try:\n",
    "        button=driver.find_element_by_xpath(\"//*[contains(text(), 'Next')]\")\n",
    "        driver.execute_script(\"arguments[0].click();\", button)\n",
    "    except NoSuchElementException:\n",
    "        pass\n",
    "    time.sleep(2)"
   ]
  },
  {
   "cell_type": "code",
   "execution_count": 47,
   "metadata": {},
   "outputs": [
    {
     "data": {
      "text/plain": [
       "15349"
      ]
     },
     "execution_count": 47,
     "metadata": {},
     "output_type": "execute_result"
    }
   ],
   "source": [
    "len(Ratings)"
   ]
  },
  {
   "cell_type": "code",
   "execution_count": 48,
   "metadata": {},
   "outputs": [
    {
     "data": {
      "text/plain": [
       "15349"
      ]
     },
     "execution_count": 48,
     "metadata": {},
     "output_type": "execute_result"
    }
   ],
   "source": [
    "len(Full_review)"
   ]
  },
  {
   "cell_type": "markdown",
   "metadata": {},
   "source": [
    "### scraping ratings and reviews of headphones"
   ]
  },
  {
   "cell_type": "code",
   "execution_count": 49,
   "metadata": {},
   "outputs": [],
   "source": [
    "url='https://www.flipkart.com/mivi-collar-classic-fast-charging-bluetooth-headset/product-reviews/itmd6a3a8e12473f?pid=ACCGFGJTGWRHZUAF&lid=LSTACCGFGJTGWRHZUAF3XZAXJ&marketplace=FLIPKART'"
   ]
  },
  {
   "cell_type": "code",
   "execution_count": 50,
   "metadata": {},
   "outputs": [],
   "source": [
    "driver.get(url)"
   ]
  },
  {
   "cell_type": "code",
   "execution_count": 51,
   "metadata": {},
   "outputs": [],
   "source": [
    "for i in range(0,216): \n",
    "    for j in driver.find_elements_by_xpath(\"//div[@class='_3LWZlK _1BLPMq' or @class='_3LWZlK _32lA32 _1BLPMq' or @class='_3LWZlK _1rdVr6 _1BLPMq']\"):\n",
    "        Ratings.append(j.text)\n",
    "            \n",
    "            \n",
    "    for k in driver.find_elements_by_xpath(\"//div[@class='t-ZTKy']/div/div\"):\n",
    "        Full_review.append(k.text.replace('\\n',' '))\n",
    "    \n",
    "    try:\n",
    "        button=driver.find_element_by_xpath(\"//*[contains(text(), 'Next')]\")\n",
    "        driver.execute_script(\"arguments[0].click();\", button)\n",
    "    except NoSuchElementException:\n",
    "        pass\n",
    "    time.sleep(2)"
   ]
  },
  {
   "cell_type": "code",
   "execution_count": 52,
   "metadata": {},
   "outputs": [
    {
     "data": {
      "text/plain": [
       "16880"
      ]
     },
     "execution_count": 52,
     "metadata": {},
     "output_type": "execute_result"
    }
   ],
   "source": [
    "len(Ratings)"
   ]
  },
  {
   "cell_type": "code",
   "execution_count": 53,
   "metadata": {},
   "outputs": [
    {
     "data": {
      "text/plain": [
       "16880"
      ]
     },
     "execution_count": 53,
     "metadata": {},
     "output_type": "execute_result"
    }
   ],
   "source": [
    "len(Full_review)"
   ]
  },
  {
   "cell_type": "code",
   "execution_count": 54,
   "metadata": {},
   "outputs": [],
   "source": [
    "url='https://www.flipkart.com/ubon-ub-770-wired-headset/product-reviews/itmc75e7cc4986df?pid=ACCFHCAPHTPCCXZR&lid=LSTACCFHCAPHTPCCXZRKLYRFC&marketplace=FLIPKART'"
   ]
  },
  {
   "cell_type": "code",
   "execution_count": 55,
   "metadata": {},
   "outputs": [],
   "source": [
    "driver.get(url)"
   ]
  },
  {
   "cell_type": "code",
   "execution_count": 56,
   "metadata": {},
   "outputs": [],
   "source": [
    "for i in range(0,234): \n",
    "    for j in driver.find_elements_by_xpath(\"//div[@class='_3LWZlK _1BLPMq' or @class='_3LWZlK _32lA32 _1BLPMq' or @class='_3LWZlK _1rdVr6 _1BLPMq']\"):\n",
    "        Ratings.append(j.text)\n",
    "            \n",
    "            \n",
    "    for k in driver.find_elements_by_xpath(\"//div[@class='t-ZTKy']/div/div\"):\n",
    "        Full_review.append(k.text.replace('\\n',' '))\n",
    "    \n",
    "    try:\n",
    "        button=driver.find_element_by_xpath(\"//*[contains(text(), 'Next')]\")\n",
    "        driver.execute_script(\"arguments[0].click();\", button)\n",
    "    except NoSuchElementException:\n",
    "        pass\n",
    "    time.sleep(2)"
   ]
  },
  {
   "cell_type": "code",
   "execution_count": 57,
   "metadata": {},
   "outputs": [
    {
     "data": {
      "text/plain": [
       "19187"
      ]
     },
     "execution_count": 57,
     "metadata": {},
     "output_type": "execute_result"
    }
   ],
   "source": [
    "len(Ratings)"
   ]
  },
  {
   "cell_type": "code",
   "execution_count": 58,
   "metadata": {},
   "outputs": [
    {
     "data": {
      "text/plain": [
       "19187"
      ]
     },
     "execution_count": 58,
     "metadata": {},
     "output_type": "execute_result"
    }
   ],
   "source": [
    "len(Full_review)"
   ]
  },
  {
   "cell_type": "markdown",
   "metadata": {},
   "source": [
    "### scraping ratings and reviews of smart watches"
   ]
  },
  {
   "cell_type": "code",
   "execution_count": 59,
   "metadata": {},
   "outputs": [],
   "source": [
    "url='https://www.flipkart.com/alonzo-dz09-new-phone-smartwatch/product-reviews/itm44bd98f3bf1e7?pid=SMWF5BFJHTDYCYYD&lid=LSTSMWF5BFJHTDYCYYDJIL5XV&marketplace=FLIPKART'"
   ]
  },
  {
   "cell_type": "code",
   "execution_count": 60,
   "metadata": {},
   "outputs": [],
   "source": [
    "driver.get(url)"
   ]
  },
  {
   "cell_type": "code",
   "execution_count": 61,
   "metadata": {},
   "outputs": [],
   "source": [
    "for i in range(0,106): \n",
    "    for j in driver.find_elements_by_xpath(\"//div[@class='_3LWZlK _1BLPMq' or @class='_3LWZlK _32lA32 _1BLPMq' or @class='_3LWZlK _1rdVr6 _1BLPMq']\"):\n",
    "        Ratings.append(j.text)\n",
    "            \n",
    "            \n",
    "    for k in driver.find_elements_by_xpath(\"//div[@class='t-ZTKy']/div/div\"):\n",
    "        Full_review.append(k.text.replace('\\n',' '))\n",
    "    \n",
    "    try:\n",
    "        button=driver.find_element_by_xpath(\"//*[contains(text(), 'Next')]\")\n",
    "        driver.execute_script(\"arguments[0].click();\", button)\n",
    "    except NoSuchElementException:\n",
    "        pass\n",
    "    time.sleep(2)"
   ]
  },
  {
   "cell_type": "code",
   "execution_count": 62,
   "metadata": {},
   "outputs": [
    {
     "data": {
      "text/plain": [
       "20247"
      ]
     },
     "execution_count": 62,
     "metadata": {},
     "output_type": "execute_result"
    }
   ],
   "source": [
    "len(Ratings)"
   ]
  },
  {
   "cell_type": "code",
   "execution_count": 63,
   "metadata": {},
   "outputs": [
    {
     "data": {
      "text/plain": [
       "20247"
      ]
     },
     "execution_count": 63,
     "metadata": {},
     "output_type": "execute_result"
    }
   ],
   "source": [
    "len(Full_review)"
   ]
  },
  {
   "cell_type": "code",
   "execution_count": 64,
   "metadata": {},
   "outputs": [],
   "source": [
    "url='https://www.flipkart.com/life-like-v8-bluetooth-sim-tf-card-slot-smartwatch/product-reviews/itm8deac9de357e6?pid=SMWEQJPTGWKCBDUD&lid=LSTSMWEQJPTGWKCBDUDPTTYUT&marketplace=FLIPKART'"
   ]
  },
  {
   "cell_type": "code",
   "execution_count": 65,
   "metadata": {},
   "outputs": [],
   "source": [
    "driver.get(url)"
   ]
  },
  {
   "cell_type": "code",
   "execution_count": 66,
   "metadata": {},
   "outputs": [],
   "source": [
    "for i in range(0,51): \n",
    "    for j in driver.find_elements_by_xpath(\"//div[@class='_3LWZlK _1BLPMq' or @class='_3LWZlK _32lA32 _1BLPMq' or @class='_3LWZlK _1rdVr6 _1BLPMq']\"):\n",
    "        Ratings.append(j.text)\n",
    "            \n",
    "            \n",
    "    for k in driver.find_elements_by_xpath(\"//div[@class='t-ZTKy']/div/div\"):\n",
    "        Full_review.append(k.text.replace('\\n',' '))\n",
    "    \n",
    "    try:\n",
    "        button=driver.find_element_by_xpath(\"//*[contains(text(), 'Next')]\")\n",
    "        driver.execute_script(\"arguments[0].click();\", button)\n",
    "    except NoSuchElementException:\n",
    "        pass\n",
    "    time.sleep(2)"
   ]
  },
  {
   "cell_type": "code",
   "execution_count": 67,
   "metadata": {},
   "outputs": [
    {
     "data": {
      "text/plain": [
       "20756"
      ]
     },
     "execution_count": 67,
     "metadata": {},
     "output_type": "execute_result"
    }
   ],
   "source": [
    "len(Ratings)"
   ]
  },
  {
   "cell_type": "code",
   "execution_count": 68,
   "metadata": {},
   "outputs": [
    {
     "data": {
      "text/plain": [
       "20756"
      ]
     },
     "execution_count": 68,
     "metadata": {},
     "output_type": "execute_result"
    }
   ],
   "source": [
    "len(Full_review)"
   ]
  },
  {
   "cell_type": "code",
   "execution_count": 69,
   "metadata": {},
   "outputs": [],
   "source": [
    "url='https://www.flipkart.com/fitbit-versa-special-smartwatch/product-reviews/itme0fd47f890e7f?pid=SMWFDYBW3829GKEY&lid=LSTSMWFDYBW3829GKEY8DNWTD&marketplace=FLIPKART'"
   ]
  },
  {
   "cell_type": "code",
   "execution_count": 70,
   "metadata": {},
   "outputs": [],
   "source": [
    "driver.get(url)"
   ]
  },
  {
   "cell_type": "code",
   "execution_count": 71,
   "metadata": {},
   "outputs": [],
   "source": [
    "for i in range(0,39): \n",
    "    for j in driver.find_elements_by_xpath(\"//div[@class='_3LWZlK _1BLPMq' or @class='_3LWZlK _32lA32 _1BLPMq' or @class='_3LWZlK _1rdVr6 _1BLPMq']\"):\n",
    "        Ratings.append(j.text)\n",
    "            \n",
    "            \n",
    "    for k in driver.find_elements_by_xpath(\"//div[@class='t-ZTKy']/div/div\"):\n",
    "        Full_review.append(k.text.replace('\\n',' '))\n",
    "    \n",
    "    try:\n",
    "        button=driver.find_element_by_xpath(\"//*[contains(text(), 'Next')]\")\n",
    "        driver.execute_script(\"arguments[0].click();\", button)\n",
    "    except NoSuchElementException:\n",
    "        pass\n",
    "    time.sleep(2)"
   ]
  },
  {
   "cell_type": "code",
   "execution_count": 72,
   "metadata": {},
   "outputs": [
    {
     "data": {
      "text/plain": [
       "21146"
      ]
     },
     "execution_count": 72,
     "metadata": {},
     "output_type": "execute_result"
    }
   ],
   "source": [
    "len(Ratings)"
   ]
  },
  {
   "cell_type": "code",
   "execution_count": 73,
   "metadata": {},
   "outputs": [
    {
     "data": {
      "text/plain": [
       "21146"
      ]
     },
     "execution_count": 73,
     "metadata": {},
     "output_type": "execute_result"
    }
   ],
   "source": [
    "len(Full_review)"
   ]
  },
  {
   "cell_type": "markdown",
   "metadata": {},
   "source": [
    "### scraping ratings and reviews of professional cameras"
   ]
  },
  {
   "cell_type": "code",
   "execution_count": 74,
   "metadata": {},
   "outputs": [],
   "source": [
    "url='https://www.flipkart.com/canon-eos-3000d-dslr-camera-1-body-18-55-mm-lens-battery-battery-charger-usb-cable/product-reviews/itmed1b57035d2fc?pid=CAMF3DHJURPEMNRN&lid=LSTCAMF3DHJURPEMNRNYD4BKP&marketplace=FLIPKART'"
   ]
  },
  {
   "cell_type": "code",
   "execution_count": 75,
   "metadata": {},
   "outputs": [],
   "source": [
    "driver.get(url)"
   ]
  },
  {
   "cell_type": "code",
   "execution_count": 76,
   "metadata": {},
   "outputs": [],
   "source": [
    "for i in range(0,330): \n",
    "    for j in driver.find_elements_by_xpath(\"//div[@class='_3LWZlK _1BLPMq' or @class='_3LWZlK _32lA32 _1BLPMq' or @class='_3LWZlK _1rdVr6 _1BLPMq']\"):\n",
    "        Ratings.append(j.text)\n",
    "            \n",
    "            \n",
    "    for k in driver.find_elements_by_xpath(\"//div[@class='t-ZTKy']/div/div\"):\n",
    "        Full_review.append(k.text.replace('\\n',' '))\n",
    "    \n",
    "    try:\n",
    "        button=driver.find_element_by_xpath(\"//*[contains(text(), 'Next')]\")\n",
    "        driver.execute_script(\"arguments[0].click();\", button)\n",
    "    except NoSuchElementException:\n",
    "        pass\n",
    "    time.sleep(2)"
   ]
  },
  {
   "cell_type": "code",
   "execution_count": 77,
   "metadata": {},
   "outputs": [
    {
     "data": {
      "text/plain": [
       "24446"
      ]
     },
     "execution_count": 77,
     "metadata": {},
     "output_type": "execute_result"
    }
   ],
   "source": [
    "len(Ratings)"
   ]
  },
  {
   "cell_type": "code",
   "execution_count": 78,
   "metadata": {},
   "outputs": [
    {
     "data": {
      "text/plain": [
       "24446"
      ]
     },
     "execution_count": 78,
     "metadata": {},
     "output_type": "execute_result"
    }
   ],
   "source": [
    "len(Full_review)"
   ]
  },
  {
   "cell_type": "code",
   "execution_count": 79,
   "metadata": {},
   "outputs": [],
   "source": [
    "url='https://www.flipkart.com/nikon-d5600-dslr-camera-body-dual-lens-af-p-dx-nikkor-18-55-mm-f-3-5-5-6g-vr-70-300-f-4-5-6-3g-ed/product-reviews/itm8bd75efa91403?pid=DLLEZVB8MDXDYTHG&lid=LSTDLLEZVB8MDXDYTHGP8CUFI&marketplace=FLIPKART'"
   ]
  },
  {
   "cell_type": "code",
   "execution_count": 80,
   "metadata": {},
   "outputs": [],
   "source": [
    "driver.get(url)"
   ]
  },
  {
   "cell_type": "code",
   "execution_count": 81,
   "metadata": {},
   "outputs": [],
   "source": [
    "for i in range(0,169): \n",
    "    for j in driver.find_elements_by_xpath(\"//div[@class='_3LWZlK _1BLPMq' or @class='_3LWZlK _32lA32 _1BLPMq' or @class='_3LWZlK _1rdVr6 _1BLPMq']\"):\n",
    "        Ratings.append(j.text)\n",
    "            \n",
    "            \n",
    "    for k in driver.find_elements_by_xpath(\"//div[@class='t-ZTKy']/div/div\"):\n",
    "        Full_review.append(k.text.replace('\\n',' '))\n",
    "    \n",
    "    try:\n",
    "        button=driver.find_element_by_xpath(\"//*[contains(text(), 'Next')]\")\n",
    "        driver.execute_script(\"arguments[0].click();\", button)\n",
    "    except NoSuchElementException:\n",
    "        pass\n",
    "    time.sleep(2)"
   ]
  },
  {
   "cell_type": "code",
   "execution_count": 82,
   "metadata": {},
   "outputs": [
    {
     "data": {
      "text/plain": [
       "26136"
      ]
     },
     "execution_count": 82,
     "metadata": {},
     "output_type": "execute_result"
    }
   ],
   "source": [
    "len(Ratings)"
   ]
  },
  {
   "cell_type": "code",
   "execution_count": 83,
   "metadata": {},
   "outputs": [
    {
     "data": {
      "text/plain": [
       "26136"
      ]
     },
     "execution_count": 83,
     "metadata": {},
     "output_type": "execute_result"
    }
   ],
   "source": [
    "len(Full_review)"
   ]
  },
  {
   "cell_type": "markdown",
   "metadata": {},
   "source": [
    "### scraping ratings and reviews of printers"
   ]
  },
  {
   "cell_type": "code",
   "execution_count": 84,
   "metadata": {},
   "outputs": [],
   "source": [
    "url='https://www.flipkart.com/canon-pixma-mg2470-all-in-one-inkjet-printer/product-reviews/itmdqatqsyzyzffn?pid=PRNDQAR9KZEKSKRF&lid=LSTPRNDQAR9KZEKSKRFEMB7B0&marketplace=FLIPKART'"
   ]
  },
  {
   "cell_type": "code",
   "execution_count": 85,
   "metadata": {},
   "outputs": [],
   "source": [
    "driver.get(url)"
   ]
  },
  {
   "cell_type": "code",
   "execution_count": 86,
   "metadata": {},
   "outputs": [],
   "source": [
    "for i in range(0,610): \n",
    "    for j in driver.find_elements_by_xpath(\"//div[@class='_3LWZlK _1BLPMq' or @class='_3LWZlK _32lA32 _1BLPMq' or @class='_3LWZlK _1rdVr6 _1BLPMq']\"):\n",
    "        Ratings.append(j.text)\n",
    "            \n",
    "            \n",
    "    for k in driver.find_elements_by_xpath(\"//div[@class='t-ZTKy']/div/div\"):\n",
    "        Full_review.append(k.text.replace('\\n',' '))\n",
    "    \n",
    "    try:\n",
    "        button=driver.find_element_by_xpath(\"//*[contains(text(), 'Next')]\")\n",
    "        driver.execute_script(\"arguments[0].click();\", button)\n",
    "    except NoSuchElementException:\n",
    "        pass\n",
    "    time.sleep(2)"
   ]
  },
  {
   "cell_type": "code",
   "execution_count": 87,
   "metadata": {},
   "outputs": [
    {
     "data": {
      "text/plain": [
       "32235"
      ]
     },
     "execution_count": 87,
     "metadata": {},
     "output_type": "execute_result"
    }
   ],
   "source": [
    "len(Ratings)"
   ]
  },
  {
   "cell_type": "code",
   "execution_count": 88,
   "metadata": {},
   "outputs": [
    {
     "data": {
      "text/plain": [
       "32235"
      ]
     },
     "execution_count": 88,
     "metadata": {},
     "output_type": "execute_result"
    }
   ],
   "source": [
    "len(Full_review)"
   ]
  },
  {
   "cell_type": "code",
   "execution_count": 89,
   "metadata": {},
   "outputs": [],
   "source": [
    "url='https://www.flipkart.com/hp-deskjet-2331-multi-function-color-printer/product-reviews/itm5708dbe303a73?pid=PRNFTXAWZ9DZ2KHR&lid=LSTPRNFTXAWZ9DZ2KHRP7ZAXV&marketplace=FLIPKART'"
   ]
  },
  {
   "cell_type": "code",
   "execution_count": 90,
   "metadata": {},
   "outputs": [],
   "source": [
    "driver.get(url)"
   ]
  },
  {
   "cell_type": "code",
   "execution_count": 91,
   "metadata": {},
   "outputs": [],
   "source": [
    "for i in range(0,52): \n",
    "    for j in driver.find_elements_by_xpath(\"//div[@class='_3LWZlK _1BLPMq' or @class='_3LWZlK _32lA32 _1BLPMq' or @class='_3LWZlK _1rdVr6 _1BLPMq']\"):\n",
    "        Ratings.append(j.text)\n",
    "            \n",
    "            \n",
    "    for k in driver.find_elements_by_xpath(\"//div[@class='t-ZTKy']/div/div\"):\n",
    "        Full_review.append(k.text.replace('\\n',' '))\n",
    "    \n",
    "    try:\n",
    "        button=driver.find_element_by_xpath(\"//*[contains(text(), 'Next')]\")\n",
    "        driver.execute_script(\"arguments[0].click();\", button)\n",
    "    except NoSuchElementException:\n",
    "        pass\n",
    "    time.sleep(2)"
   ]
  },
  {
   "cell_type": "code",
   "execution_count": 92,
   "metadata": {},
   "outputs": [
    {
     "data": {
      "text/plain": [
       "32755"
      ]
     },
     "execution_count": 92,
     "metadata": {},
     "output_type": "execute_result"
    }
   ],
   "source": [
    "len(Ratings)"
   ]
  },
  {
   "cell_type": "code",
   "execution_count": 93,
   "metadata": {},
   "outputs": [
    {
     "data": {
      "text/plain": [
       "32755"
      ]
     },
     "execution_count": 93,
     "metadata": {},
     "output_type": "execute_result"
    }
   ],
   "source": [
    "len(Full_review)"
   ]
  },
  {
   "cell_type": "markdown",
   "metadata": {},
   "source": [
    "### scraping ratings and reviews of monitors"
   ]
  },
  {
   "cell_type": "code",
   "execution_count": 94,
   "metadata": {},
   "outputs": [],
   "source": [
    "url='https://www.flipkart.com/dell-18-5-inch-hd-led-backlit-tn-panel-monitor-d1918h/product-reviews/itmewm8z6awyx9rr?pid=MONEWM8ZKY38PWVP&lid=LSTMONEWM8ZKY38PWVPIKWEMH&marketplace=FLIPKART'"
   ]
  },
  {
   "cell_type": "code",
   "execution_count": 95,
   "metadata": {},
   "outputs": [],
   "source": [
    "driver.get(url)"
   ]
  },
  {
   "cell_type": "code",
   "execution_count": 96,
   "metadata": {},
   "outputs": [],
   "source": [
    "for i in range(0,58): \n",
    "    for j in driver.find_elements_by_xpath(\"//div[@class='_3LWZlK _1BLPMq' or @class='_3LWZlK _32lA32 _1BLPMq' or @class='_3LWZlK _1rdVr6 _1BLPMq']\"):\n",
    "        Ratings.append(j.text)\n",
    "            \n",
    "            \n",
    "    for k in driver.find_elements_by_xpath(\"//div[@class='t-ZTKy']/div/div\"):\n",
    "        Full_review.append(k.text.replace('\\n',' '))\n",
    "    \n",
    "    try:\n",
    "        button=driver.find_element_by_xpath(\"//*[contains(text(), 'Next')]\")\n",
    "        driver.execute_script(\"arguments[0].click();\", button)\n",
    "    except NoSuchElementException:\n",
    "        pass\n",
    "    time.sleep(2)"
   ]
  },
  {
   "cell_type": "code",
   "execution_count": 97,
   "metadata": {},
   "outputs": [
    {
     "data": {
      "text/plain": [
       "33335"
      ]
     },
     "execution_count": 97,
     "metadata": {},
     "output_type": "execute_result"
    }
   ],
   "source": [
    "len(Ratings)"
   ]
  },
  {
   "cell_type": "code",
   "execution_count": 98,
   "metadata": {},
   "outputs": [
    {
     "data": {
      "text/plain": [
       "33335"
      ]
     },
     "execution_count": 98,
     "metadata": {},
     "output_type": "execute_result"
    }
   ],
   "source": [
    "len(Full_review)"
   ]
  },
  {
   "cell_type": "code",
   "execution_count": 99,
   "metadata": {},
   "outputs": [],
   "source": [
    "url='https://www.flipkart.com/hp-23-8-inch-full-hd-led-backlit-ips-panel-monitor-24es/product-reviews/itm5613f46e3d8db?pid=MONEQFE5PQNQHHZF&lid=LSTMONEQFE5PQNQHHZFESEDRU&marketplace=FLIPKART'"
   ]
  },
  {
   "cell_type": "code",
   "execution_count": 100,
   "metadata": {},
   "outputs": [],
   "source": [
    "driver.get(url)"
   ]
  },
  {
   "cell_type": "code",
   "execution_count": 101,
   "metadata": {},
   "outputs": [],
   "source": [
    "for i in range(0,39): \n",
    "    for j in driver.find_elements_by_xpath(\"//div[@class='_3LWZlK _1BLPMq' or @class='_3LWZlK _32lA32 _1BLPMq' or @class='_3LWZlK _1rdVr6 _1BLPMq']\"):\n",
    "        Ratings.append(j.text)\n",
    "            \n",
    "            \n",
    "    for k in driver.find_elements_by_xpath(\"//div[@class='t-ZTKy']/div/div\"):\n",
    "        Full_review.append(k.text.replace('\\n',' '))\n",
    "    \n",
    "    try:\n",
    "        button=driver.find_element_by_xpath(\"//*[contains(text(), 'Next')]\")\n",
    "        driver.execute_script(\"arguments[0].click();\", button)\n",
    "    except NoSuchElementException:\n",
    "        pass\n",
    "    time.sleep(2)"
   ]
  },
  {
   "cell_type": "code",
   "execution_count": 102,
   "metadata": {},
   "outputs": [
    {
     "data": {
      "text/plain": [
       "33725"
      ]
     },
     "execution_count": 102,
     "metadata": {},
     "output_type": "execute_result"
    }
   ],
   "source": [
    "len(Ratings)"
   ]
  },
  {
   "cell_type": "code",
   "execution_count": 103,
   "metadata": {},
   "outputs": [
    {
     "data": {
      "text/plain": [
       "33725"
      ]
     },
     "execution_count": 103,
     "metadata": {},
     "output_type": "execute_result"
    }
   ],
   "source": [
    "len(Full_review)"
   ]
  },
  {
   "cell_type": "markdown",
   "metadata": {},
   "source": [
    "### scraping ratings and reviews of home theaters"
   ]
  },
  {
   "cell_type": "code",
   "execution_count": 104,
   "metadata": {},
   "outputs": [],
   "source": [
    "url='https://www.flipkart.com/intex-it-2616-bt-55-w-bluetooth-home-theatre/product-reviews/itm835ba2477ca67?pid=ACCFNMEYJNHSNCWN&lid=LSTACCFNMEYJNHSNCWNXWFCRW&marketplace=FLIPKART'"
   ]
  },
  {
   "cell_type": "code",
   "execution_count": 105,
   "metadata": {},
   "outputs": [],
   "source": [
    "driver.get(url)"
   ]
  },
  {
   "cell_type": "code",
   "execution_count": 106,
   "metadata": {},
   "outputs": [],
   "source": [
    "for i in range(0,216): \n",
    "    for j in driver.find_elements_by_xpath(\"//div[@class='_3LWZlK _1BLPMq' or @class='_3LWZlK _32lA32 _1BLPMq' or @class='_3LWZlK _1rdVr6 _1BLPMq']\"):\n",
    "        Ratings.append(j.text)\n",
    "            \n",
    "            \n",
    "    for k in driver.find_elements_by_xpath(\"//div[@class='t-ZTKy']/div/div\"):\n",
    "        Full_review.append(k.text.replace('\\n',' '))\n",
    "    \n",
    "    try:\n",
    "        button=driver.find_element_by_xpath(\"//*[contains(text(), 'Next')]\")\n",
    "        driver.execute_script(\"arguments[0].click();\", button)\n",
    "    except NoSuchElementException:\n",
    "        pass\n",
    "    time.sleep(2)"
   ]
  },
  {
   "cell_type": "code",
   "execution_count": 107,
   "metadata": {},
   "outputs": [
    {
     "data": {
      "text/plain": [
       "35885"
      ]
     },
     "execution_count": 107,
     "metadata": {},
     "output_type": "execute_result"
    }
   ],
   "source": [
    "len(Ratings)"
   ]
  },
  {
   "cell_type": "code",
   "execution_count": 108,
   "metadata": {},
   "outputs": [
    {
     "data": {
      "text/plain": [
       "35885"
      ]
     },
     "execution_count": 108,
     "metadata": {},
     "output_type": "execute_result"
    }
   ],
   "source": [
    "len(Full_review)"
   ]
  },
  {
   "cell_type": "code",
   "execution_count": 109,
   "metadata": {},
   "outputs": [],
   "source": [
    "url='https://www.flipkart.com/intex-2622-portable-bluetooth-home-theatre/product-reviews/itmd7aeef0b49f57?pid=ACCEPBDW89GY8ZYU&lid=LSTACCEPBDW89GY8ZYUZCVLEQ&marketplace=FLIPKART'"
   ]
  },
  {
   "cell_type": "code",
   "execution_count": 110,
   "metadata": {},
   "outputs": [],
   "source": [
    "driver.get(url)"
   ]
  },
  {
   "cell_type": "code",
   "execution_count": 111,
   "metadata": {},
   "outputs": [],
   "source": [
    "for i in range(0,134): \n",
    "    for j in driver.find_elements_by_xpath(\"//div[@class='_3LWZlK _1BLPMq' or @class='_3LWZlK _32lA32 _1BLPMq' or @class='_3LWZlK _1rdVr6 _1BLPMq']\"):\n",
    "        Ratings.append(j.text)\n",
    "            \n",
    "            \n",
    "    for k in driver.find_elements_by_xpath(\"//div[@class='t-ZTKy']/div/div\"):\n",
    "        Full_review.append(k.text.replace('\\n',' '))\n",
    "    \n",
    "    try:\n",
    "        button=driver.find_element_by_xpath(\"//*[contains(text(), 'Next')]\")\n",
    "        driver.execute_script(\"arguments[0].click();\", button)\n",
    "    except NoSuchElementException:\n",
    "        pass\n",
    "    time.sleep(2)"
   ]
  },
  {
   "cell_type": "code",
   "execution_count": 112,
   "metadata": {},
   "outputs": [
    {
     "data": {
      "text/plain": [
       "37225"
      ]
     },
     "execution_count": 112,
     "metadata": {},
     "output_type": "execute_result"
    }
   ],
   "source": [
    "len(Ratings)"
   ]
  },
  {
   "cell_type": "code",
   "execution_count": 113,
   "metadata": {},
   "outputs": [
    {
     "data": {
      "text/plain": [
       "37225"
      ]
     },
     "execution_count": 113,
     "metadata": {},
     "output_type": "execute_result"
    }
   ],
   "source": [
    "len(Full_review)"
   ]
  },
  {
   "cell_type": "markdown",
   "metadata": {},
   "source": [
    "### scraping ratings and reviews of routers"
   ]
  },
  {
   "cell_type": "code",
   "execution_count": 114,
   "metadata": {},
   "outputs": [],
   "source": [
    "url='https://www.flipkart.com/mi-r4cm-300-mbps-router/product-reviews/itm4ed0ab10f43e5?pid=RTRFZ9XMNKDBSHCY&lid=LSTRTRFZ9XMNKDBSHCY2N0IPP&marketplace=FLIPKART'"
   ]
  },
  {
   "cell_type": "code",
   "execution_count": 115,
   "metadata": {},
   "outputs": [],
   "source": [
    "driver.get(url)"
   ]
  },
  {
   "cell_type": "code",
   "execution_count": 116,
   "metadata": {},
   "outputs": [],
   "source": [
    "for i in range(0,143): \n",
    "    for j in driver.find_elements_by_xpath(\"//div[@class='_3LWZlK _1BLPMq' or @class='_3LWZlK _32lA32 _1BLPMq' or @class='_3LWZlK _1rdVr6 _1BLPMq']\"):\n",
    "        Ratings.append(j.text)\n",
    "            \n",
    "            \n",
    "    for k in driver.find_elements_by_xpath(\"//div[@class='t-ZTKy']/div/div\"):\n",
    "        Full_review.append(k.text.replace('\\n',' '))\n",
    "    \n",
    "    try:\n",
    "        button=driver.find_element_by_xpath(\"//*[contains(text(), 'Next')]\")\n",
    "        driver.execute_script(\"arguments[0].click();\", button)\n",
    "    except NoSuchElementException:\n",
    "        pass\n",
    "    time.sleep(2)"
   ]
  },
  {
   "cell_type": "code",
   "execution_count": 117,
   "metadata": {},
   "outputs": [
    {
     "data": {
      "text/plain": [
       "38655"
      ]
     },
     "execution_count": 117,
     "metadata": {},
     "output_type": "execute_result"
    }
   ],
   "source": [
    "len(Ratings)"
   ]
  },
  {
   "cell_type": "code",
   "execution_count": 118,
   "metadata": {},
   "outputs": [
    {
     "data": {
      "text/plain": [
       "38655"
      ]
     },
     "execution_count": 118,
     "metadata": {},
     "output_type": "execute_result"
    }
   ],
   "source": [
    "len(Full_review)"
   ]
  },
  {
   "cell_type": "code",
   "execution_count": 119,
   "metadata": {},
   "outputs": [],
   "source": [
    "url='https://www.flipkart.com/tenda-n301-300-mbps-router/product-reviews/itmehkf7am7tpawg?pid=RTRDYEYZKF884XRZ&lid=LSTRTRDYEYZKF884XRZA1WPYP&marketplace=FLIPKART'"
   ]
  },
  {
   "cell_type": "code",
   "execution_count": 120,
   "metadata": {},
   "outputs": [],
   "source": [
    "driver.get(url)"
   ]
  },
  {
   "cell_type": "code",
   "execution_count": 121,
   "metadata": {},
   "outputs": [],
   "source": [
    "for i in range(0,162): \n",
    "    for j in driver.find_elements_by_xpath(\"//div[@class='_3LWZlK _1BLPMq' or @class='_3LWZlK _32lA32 _1BLPMq' or @class='_3LWZlK _1rdVr6 _1BLPMq']\"):\n",
    "        Ratings.append(j.text)\n",
    "            \n",
    "            \n",
    "    for k in driver.find_elements_by_xpath(\"//div[@class='t-ZTKy']/div/div\"):\n",
    "        Full_review.append(k.text.replace('\\n',' '))\n",
    "    \n",
    "    try:\n",
    "        button=driver.find_element_by_xpath(\"//*[contains(text(), 'Next')]\")\n",
    "        driver.execute_script(\"arguments[0].click();\", button)\n",
    "    except NoSuchElementException:\n",
    "        pass\n",
    "    time.sleep(2)"
   ]
  },
  {
   "cell_type": "code",
   "execution_count": 122,
   "metadata": {},
   "outputs": [
    {
     "name": "stdout",
     "output_type": "stream",
     "text": [
      "40275 40275\n"
     ]
    }
   ],
   "source": [
    "#printing lengths\n",
    "print(len(Ratings),len(Full_review))"
   ]
  },
  {
   "cell_type": "code",
   "execution_count": 123,
   "metadata": {},
   "outputs": [],
   "source": [
    "#creating a dataframe\n",
    "Reviews=pd.DataFrame({})\n",
    "Reviews['Ratings']=Ratings\n",
    "Reviews['Full_review']=Full_review"
   ]
  },
  {
   "cell_type": "code",
   "execution_count": 124,
   "metadata": {},
   "outputs": [
    {
     "data": {
      "text/html": [
       "<div>\n",
       "<style scoped>\n",
       "    .dataframe tbody tr th:only-of-type {\n",
       "        vertical-align: middle;\n",
       "    }\n",
       "\n",
       "    .dataframe tbody tr th {\n",
       "        vertical-align: top;\n",
       "    }\n",
       "\n",
       "    .dataframe thead th {\n",
       "        text-align: right;\n",
       "    }\n",
       "</style>\n",
       "<table border=\"1\" class=\"dataframe\">\n",
       "  <thead>\n",
       "    <tr style=\"text-align: right;\">\n",
       "      <th></th>\n",
       "      <th>Ratings</th>\n",
       "      <th>Full_review</th>\n",
       "    </tr>\n",
       "  </thead>\n",
       "  <tbody>\n",
       "    <tr>\n",
       "      <th>0</th>\n",
       "      <td>5</td>\n",
       "      <td>This is the best laptop in this range.I reciev...</td>\n",
       "    </tr>\n",
       "    <tr>\n",
       "      <th>1</th>\n",
       "      <td>5</td>\n",
       "      <td>Good product as used of now.... Everything is ...</td>\n",
       "    </tr>\n",
       "    <tr>\n",
       "      <th>2</th>\n",
       "      <td>5</td>\n",
       "      <td>AWESOME LAPTOP. It supports many high spec gam...</td>\n",
       "    </tr>\n",
       "    <tr>\n",
       "      <th>3</th>\n",
       "      <td>4</td>\n",
       "      <td>For that price... it's exceptionally good. Pla...</td>\n",
       "    </tr>\n",
       "    <tr>\n",
       "      <th>4</th>\n",
       "      <td>4</td>\n",
       "      <td>RAM upgrade is must do because the useable RAM...</td>\n",
       "    </tr>\n",
       "    <tr>\n",
       "      <th>...</th>\n",
       "      <td>...</td>\n",
       "      <td>...</td>\n",
       "    </tr>\n",
       "    <tr>\n",
       "      <th>40270</th>\n",
       "      <td>5</td>\n",
       "      <td>Good product quality</td>\n",
       "    </tr>\n",
       "    <tr>\n",
       "      <th>40271</th>\n",
       "      <td>5</td>\n",
       "      <td>Nice</td>\n",
       "    </tr>\n",
       "    <tr>\n",
       "      <th>40272</th>\n",
       "      <td>4</td>\n",
       "      <td>Nice router</td>\n",
       "    </tr>\n",
       "    <tr>\n",
       "      <th>40273</th>\n",
       "      <td>5</td>\n",
       "      <td>The excutive was good rest all things are wors...</td>\n",
       "    </tr>\n",
       "    <tr>\n",
       "      <th>40274</th>\n",
       "      <td>5</td>\n",
       "      <td>Hi this is Anusha tends is good product</td>\n",
       "    </tr>\n",
       "  </tbody>\n",
       "</table>\n",
       "<p>40275 rows × 2 columns</p>\n",
       "</div>"
      ],
      "text/plain": [
       "      Ratings                                        Full_review\n",
       "0           5  This is the best laptop in this range.I reciev...\n",
       "1           5  Good product as used of now.... Everything is ...\n",
       "2           5  AWESOME LAPTOP. It supports many high spec gam...\n",
       "3           4  For that price... it's exceptionally good. Pla...\n",
       "4           4  RAM upgrade is must do because the useable RAM...\n",
       "...       ...                                                ...\n",
       "40270       5                               Good product quality\n",
       "40271       5                                               Nice\n",
       "40272       4                                        Nice router\n",
       "40273       5  The excutive was good rest all things are wors...\n",
       "40274       5            Hi this is Anusha tends is good product\n",
       "\n",
       "[40275 rows x 2 columns]"
      ]
     },
     "execution_count": 124,
     "metadata": {},
     "output_type": "execute_result"
    }
   ],
   "source": [
    "Reviews"
   ]
  },
  {
   "cell_type": "code",
   "execution_count": 125,
   "metadata": {},
   "outputs": [],
   "source": [
    "#converting into csv format\n",
    "Reviews.to_csv(\"Reviews.csv\")"
   ]
  },
  {
   "cell_type": "code",
   "execution_count": 126,
   "metadata": {},
   "outputs": [],
   "source": [
    "#closing the driver\n",
    "driver.close()"
   ]
  },
  {
   "cell_type": "code",
   "execution_count": null,
   "metadata": {},
   "outputs": [],
   "source": []
  }
 ],
 "metadata": {
  "kernelspec": {
   "display_name": "Python 3",
   "language": "python",
   "name": "python3"
  },
  "language_info": {
   "codemirror_mode": {
    "name": "ipython",
    "version": 3
   },
   "file_extension": ".py",
   "mimetype": "text/x-python",
   "name": "python",
   "nbconvert_exporter": "python",
   "pygments_lexer": "ipython3",
   "version": "3.8.5"
  }
 },
 "nbformat": 4,
 "nbformat_minor": 4
}